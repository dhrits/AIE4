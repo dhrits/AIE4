{
 "cells": [
  {
   "cell_type": "markdown",
   "metadata": {
    "id": "8ZsP-j7w3zcL"
   },
   "source": [
    "# Prototyping LangChain Application with Production Minded Changes\n",
    "\n",
    "For our first breakout room we'll be exploring how to set-up a LangChain LCEL chain in a way that takes advantage of all of the amazing out of the box production ready features it offers.\n",
    "\n",
    "We'll also explore `Caching` and what makes it an invaluable tool when transitioning to production environments.\n"
   ]
  },
  {
   "cell_type": "markdown",
   "metadata": {
    "id": "PpeN9ND0HKa0"
   },
   "source": [
    "## Task 1: Dependencies and Set-Up\n",
    "\n",
    "Let's get everything we need - we're going to use very specific versioning today to try to mitigate potential env. issues!\n",
    "\n",
    "> NOTE: Dependency issues are a large portion of what you're going to be tackling as you integrate new technology into your work - please keep in mind that one of the things you should be passively learning throughout this course is ways to mitigate dependency issues."
   ]
  },
  {
   "cell_type": "code",
   "execution_count": 24,
   "metadata": {
    "id": "0P4IJUQF27jW"
   },
   "outputs": [],
   "source": [
    "!pip install -qU langchain_openai==0.2.0 langchain_community==0.3.0 langchain==0.3.0 pymupdf==1.24.10 qdrant-client==1.11.2 langchain_qdrant==0.1.4 langsmith==0.1.121"
   ]
  },
  {
   "cell_type": "markdown",
   "metadata": {
    "id": "qYcWLzrmHgDb"
   },
   "source": [
    "We'll need an OpenAI API Key:"
   ]
  },
  {
   "cell_type": "code",
   "execution_count": 1,
   "metadata": {},
   "outputs": [
    {
     "name": "stdout",
     "output_type": "stream",
     "text": [
      "Requirement already satisfied: python-dotenv in ./venv/lib/python3.9/site-packages (1.0.1)\n"
     ]
    }
   ],
   "source": [
    "!pip install python-dotenv"
   ]
  },
  {
   "cell_type": "code",
   "execution_count": 2,
   "metadata": {},
   "outputs": [],
   "source": [
    "from dotenv import load_dotenv; _ = load_dotenv()"
   ]
  },
  {
   "cell_type": "code",
   "execution_count": 1,
   "metadata": {
    "colab": {
     "base_uri": "https://localhost:8080/"
    },
    "id": "GZ8qfrFh_6ed",
    "outputId": "4fb1a16f-1f71-4d0a-aad4-dd0d0917abc5"
   },
   "outputs": [
    {
     "name": "stdout",
     "output_type": "stream",
     "text": [
      "OpenAI API Key:··········\n"
     ]
    }
   ],
   "source": [
    "# import os\n",
    "# import getpass\n",
    "\n",
    "# os.environ[\"OPENAI_API_KEY\"] = getpass.getpass(\"OpenAI API Key:\")"
   ]
  },
  {
   "cell_type": "markdown",
   "metadata": {
    "id": "piz2DUDuHiSO"
   },
   "source": [
    "And the LangSmith set-up:"
   ]
  },
  {
   "cell_type": "code",
   "execution_count": 5,
   "metadata": {
    "colab": {
     "base_uri": "https://localhost:8080/"
    },
    "id": "wLZX5zowCh-q",
    "outputId": "565c588a-a865-4b86-d5ca-986f35153000"
   },
   "outputs": [],
   "source": [
    "import uuid\n",
    "\n",
    "os.environ[\"LANGCHAIN_PROJECT\"] = f\"AIM Week 8 Assignment 1 - {uuid.uuid4().hex[0:8]}\"\n",
    "os.environ[\"LANGCHAIN_TRACING_V2\"] = \"true\"\n",
    "# Easier with dotenv locally than to do below\n",
    "#os.environ[\"LANGCHAIN_ENDPOINT\"] = \"https://api.smith.langchain.com\"\n",
    "#os.environ[\"LANGCHAIN_API_KEY\"] = getpass.getpass(\"LangChain API Key:\")"
   ]
  },
  {
   "cell_type": "markdown",
   "metadata": {
    "id": "WmwNTziKHrQm"
   },
   "source": [
    "Let's verify our project so we can leverage it in LangSmith later."
   ]
  },
  {
   "cell_type": "code",
   "execution_count": 6,
   "metadata": {
    "colab": {
     "base_uri": "https://localhost:8080/"
    },
    "id": "T6GZmkVkFcHq",
    "outputId": "f4c0fdb3-24ea-429a-fa8c-23556cb7c3ed"
   },
   "outputs": [
    {
     "name": "stdout",
     "output_type": "stream",
     "text": [
      "AIM Week 8 Assignment 1 - 09424058\n"
     ]
    }
   ],
   "source": [
    "print(os.environ[\"LANGCHAIN_PROJECT\"])"
   ]
  },
  {
   "cell_type": "markdown",
   "metadata": {
    "id": "un_ppfaAHv1J"
   },
   "source": [
    "## Task 2: Setting up RAG With Production in Mind\n",
    "\n",
    "This is the most crucial step in the process - in order to take advantage of:\n",
    "\n",
    "- Asyncronous requests\n",
    "- Parallel Execution in Chains\n",
    "- And more...\n",
    "\n",
    "You must...use LCEL. These benefits are provided out of the box and largely optimized behind the scenes."
   ]
  },
  {
   "cell_type": "markdown",
   "metadata": {
    "id": "vGi-db23JMAL"
   },
   "source": [
    "### Building our RAG Components: Retriever\n",
    "\n",
    "We'll start by building some familiar components - and showcase how they automatically scale to production features."
   ]
  },
  {
   "cell_type": "markdown",
   "metadata": {
    "id": "zvbT3HSDJemE"
   },
   "source": [
    "Please upload a PDF file to use in this example!"
   ]
  },
  {
   "cell_type": "code",
   "execution_count": 7,
   "metadata": {
    "colab": {
     "base_uri": "https://localhost:8080/",
     "height": 73
    },
    "id": "dvYczNeY91Hn",
    "outputId": "c711c29b-e388-4d32-a763-f4504244eef2"
   },
   "outputs": [
    {
     "data": {
      "text/html": [
       "\n",
       "     <input type=\"file\" id=\"files-f26e85ad-7ad3-48c1-b905-c2692a72d40e\" name=\"files[]\" multiple disabled\n",
       "        style=\"border:none\" />\n",
       "     <output id=\"result-f26e85ad-7ad3-48c1-b905-c2692a72d40e\">\n",
       "      Upload widget is only available when the cell has been executed in the\n",
       "      current browser session. Please rerun this cell to enable.\n",
       "      </output>\n",
       "      <script>// Copyright 2017 Google LLC\n",
       "//\n",
       "// Licensed under the Apache License, Version 2.0 (the \"License\");\n",
       "// you may not use this file except in compliance with the License.\n",
       "// You may obtain a copy of the License at\n",
       "//\n",
       "//      http://www.apache.org/licenses/LICENSE-2.0\n",
       "//\n",
       "// Unless required by applicable law or agreed to in writing, software\n",
       "// distributed under the License is distributed on an \"AS IS\" BASIS,\n",
       "// WITHOUT WARRANTIES OR CONDITIONS OF ANY KIND, either express or implied.\n",
       "// See the License for the specific language governing permissions and\n",
       "// limitations under the License.\n",
       "\n",
       "/**\n",
       " * @fileoverview Helpers for google.colab Python module.\n",
       " */\n",
       "(function(scope) {\n",
       "function span(text, styleAttributes = {}) {\n",
       "  const element = document.createElement('span');\n",
       "  element.textContent = text;\n",
       "  for (const key of Object.keys(styleAttributes)) {\n",
       "    element.style[key] = styleAttributes[key];\n",
       "  }\n",
       "  return element;\n",
       "}\n",
       "\n",
       "// Max number of bytes which will be uploaded at a time.\n",
       "const MAX_PAYLOAD_SIZE = 100 * 1024;\n",
       "\n",
       "function _uploadFiles(inputId, outputId) {\n",
       "  const steps = uploadFilesStep(inputId, outputId);\n",
       "  const outputElement = document.getElementById(outputId);\n",
       "  // Cache steps on the outputElement to make it available for the next call\n",
       "  // to uploadFilesContinue from Python.\n",
       "  outputElement.steps = steps;\n",
       "\n",
       "  return _uploadFilesContinue(outputId);\n",
       "}\n",
       "\n",
       "// This is roughly an async generator (not supported in the browser yet),\n",
       "// where there are multiple asynchronous steps and the Python side is going\n",
       "// to poll for completion of each step.\n",
       "// This uses a Promise to block the python side on completion of each step,\n",
       "// then passes the result of the previous step as the input to the next step.\n",
       "function _uploadFilesContinue(outputId) {\n",
       "  const outputElement = document.getElementById(outputId);\n",
       "  const steps = outputElement.steps;\n",
       "\n",
       "  const next = steps.next(outputElement.lastPromiseValue);\n",
       "  return Promise.resolve(next.value.promise).then((value) => {\n",
       "    // Cache the last promise value to make it available to the next\n",
       "    // step of the generator.\n",
       "    outputElement.lastPromiseValue = value;\n",
       "    return next.value.response;\n",
       "  });\n",
       "}\n",
       "\n",
       "/**\n",
       " * Generator function which is called between each async step of the upload\n",
       " * process.\n",
       " * @param {string} inputId Element ID of the input file picker element.\n",
       " * @param {string} outputId Element ID of the output display.\n",
       " * @return {!Iterable<!Object>} Iterable of next steps.\n",
       " */\n",
       "function* uploadFilesStep(inputId, outputId) {\n",
       "  const inputElement = document.getElementById(inputId);\n",
       "  inputElement.disabled = false;\n",
       "\n",
       "  const outputElement = document.getElementById(outputId);\n",
       "  outputElement.innerHTML = '';\n",
       "\n",
       "  const pickedPromise = new Promise((resolve) => {\n",
       "    inputElement.addEventListener('change', (e) => {\n",
       "      resolve(e.target.files);\n",
       "    });\n",
       "  });\n",
       "\n",
       "  const cancel = document.createElement('button');\n",
       "  inputElement.parentElement.appendChild(cancel);\n",
       "  cancel.textContent = 'Cancel upload';\n",
       "  const cancelPromise = new Promise((resolve) => {\n",
       "    cancel.onclick = () => {\n",
       "      resolve(null);\n",
       "    };\n",
       "  });\n",
       "\n",
       "  // Wait for the user to pick the files.\n",
       "  const files = yield {\n",
       "    promise: Promise.race([pickedPromise, cancelPromise]),\n",
       "    response: {\n",
       "      action: 'starting',\n",
       "    }\n",
       "  };\n",
       "\n",
       "  cancel.remove();\n",
       "\n",
       "  // Disable the input element since further picks are not allowed.\n",
       "  inputElement.disabled = true;\n",
       "\n",
       "  if (!files) {\n",
       "    return {\n",
       "      response: {\n",
       "        action: 'complete',\n",
       "      }\n",
       "    };\n",
       "  }\n",
       "\n",
       "  for (const file of files) {\n",
       "    const li = document.createElement('li');\n",
       "    li.append(span(file.name, {fontWeight: 'bold'}));\n",
       "    li.append(span(\n",
       "        `(${file.type || 'n/a'}) - ${file.size} bytes, ` +\n",
       "        `last modified: ${\n",
       "            file.lastModifiedDate ? file.lastModifiedDate.toLocaleDateString() :\n",
       "                                    'n/a'} - `));\n",
       "    const percent = span('0% done');\n",
       "    li.appendChild(percent);\n",
       "\n",
       "    outputElement.appendChild(li);\n",
       "\n",
       "    const fileDataPromise = new Promise((resolve) => {\n",
       "      const reader = new FileReader();\n",
       "      reader.onload = (e) => {\n",
       "        resolve(e.target.result);\n",
       "      };\n",
       "      reader.readAsArrayBuffer(file);\n",
       "    });\n",
       "    // Wait for the data to be ready.\n",
       "    let fileData = yield {\n",
       "      promise: fileDataPromise,\n",
       "      response: {\n",
       "        action: 'continue',\n",
       "      }\n",
       "    };\n",
       "\n",
       "    // Use a chunked sending to avoid message size limits. See b/62115660.\n",
       "    let position = 0;\n",
       "    do {\n",
       "      const length = Math.min(fileData.byteLength - position, MAX_PAYLOAD_SIZE);\n",
       "      const chunk = new Uint8Array(fileData, position, length);\n",
       "      position += length;\n",
       "\n",
       "      const base64 = btoa(String.fromCharCode.apply(null, chunk));\n",
       "      yield {\n",
       "        response: {\n",
       "          action: 'append',\n",
       "          file: file.name,\n",
       "          data: base64,\n",
       "        },\n",
       "      };\n",
       "\n",
       "      let percentDone = fileData.byteLength === 0 ?\n",
       "          100 :\n",
       "          Math.round((position / fileData.byteLength) * 100);\n",
       "      percent.textContent = `${percentDone}% done`;\n",
       "\n",
       "    } while (position < fileData.byteLength);\n",
       "  }\n",
       "\n",
       "  // All done.\n",
       "  yield {\n",
       "    response: {\n",
       "      action: 'complete',\n",
       "    }\n",
       "  };\n",
       "}\n",
       "\n",
       "scope.google = scope.google || {};\n",
       "scope.google.colab = scope.google.colab || {};\n",
       "scope.google.colab._files = {\n",
       "  _uploadFiles,\n",
       "  _uploadFilesContinue,\n",
       "};\n",
       "})(self);\n",
       "</script> "
      ],
      "text/plain": [
       "<IPython.core.display.HTML object>"
      ]
     },
     "metadata": {},
     "output_type": "display_data"
    },
    {
     "name": "stdout",
     "output_type": "stream",
     "text": [
      "Saving eu_ai_act.html to eu_ai_act (1).html\n"
     ]
    }
   ],
   "source": [
    "from google.colab import files\n",
    "uploaded = files.upload()"
   ]
  },
  {
   "cell_type": "code",
   "execution_count": 25,
   "metadata": {
    "colab": {
     "base_uri": "https://localhost:8080/",
     "height": 35
    },
    "id": "NtwoVUbaJlbW",
    "outputId": "5aa08bae-97c5-4f49-cb23-e9dbf194ecf7"
   },
   "outputs": [
    {
     "data": {
      "application/vnd.google.colaboratory.intrinsic+json": {
       "type": "string"
      },
      "text/plain": [
       "'eu_ai_act (1).html'"
      ]
     },
     "execution_count": 25,
     "metadata": {},
     "output_type": "execute_result"
    }
   ],
   "source": [
    "file_path = list(uploaded.keys())[0]\n",
    "file_path"
   ]
  },
  {
   "cell_type": "markdown",
   "metadata": {
    "id": "kucGy3f0Jhdi"
   },
   "source": [
    "We'll define our chunking strategy."
   ]
  },
  {
   "cell_type": "code",
   "execution_count": 25,
   "metadata": {},
   "outputs": [],
   "source": [
    "file_path = \"eu_ai_act.pdf\""
   ]
  },
  {
   "cell_type": "code",
   "execution_count": 26,
   "metadata": {
    "id": "G-DNvNFd8je5"
   },
   "outputs": [],
   "source": [
    "from langchain_text_splitters import RecursiveCharacterTextSplitter\n",
    "\n",
    "text_splitter = RecursiveCharacterTextSplitter(chunk_size=1000, chunk_overlap=100)"
   ]
  },
  {
   "cell_type": "markdown",
   "metadata": {
    "id": "3_zRRNcLKCZh"
   },
   "source": [
    "We'll chunk our uploaded PDF file."
   ]
  },
  {
   "cell_type": "code",
   "execution_count": 27,
   "metadata": {
    "id": "KOh6w9ud-ff6"
   },
   "outputs": [],
   "source": [
    "from langchain_community.document_loaders import PyMuPDFLoader\n",
    "\n",
    "Loader = PyMuPDFLoader\n",
    "loader = Loader(file_path)\n",
    "documents = loader.load()\n",
    "docs = text_splitter.split_documents(documents)\n",
    "for i, doc in enumerate(docs):\n",
    "    doc.metadata[\"source\"] = f\"source_{i}\""
   ]
  },
  {
   "cell_type": "markdown",
   "metadata": {
    "id": "U4XLeqJMKGdQ"
   },
   "source": [
    "#### QDrant Vector Database - Cache Backed Embeddings\n",
    "\n",
    "The process of embedding is typically a very time consuming one - we must, for ever single vector in our VDB as well as query:\n",
    "\n",
    "1. Send the text to an API endpoint (self-hosted, OpenAI, etc)\n",
    "2. Wait for processing\n",
    "3. Receive response\n",
    "\n",
    "This process costs time, and money - and occurs *every single time a document gets converted into a vector representation*.\n",
    "\n",
    "Instead, what if we:\n",
    "\n",
    "1. Set up a cache that can hold our vectors and embeddings (similar to, or in some cases literally a vector database)\n",
    "2. Send the text to an API endpoint (self-hosted, OpenAI, etc)\n",
    "3. Check the cache to see if we've already converted this text before.\n",
    "  - If we have: Return the vector representation\n",
    "  - Else: Wait for processing and proceed\n",
    "4. Store the text that was converted alongside its vector representation in a cache of some kind.\n",
    "5. Return the vector representation\n",
    "\n",
    "Notice that we can shortcut some instances of \"Wait for processing and proceed\".\n",
    "\n",
    "Let's see how this is implemented in the code."
   ]
  },
  {
   "cell_type": "code",
   "execution_count": 28,
   "metadata": {
    "id": "dzPUTCua98b2"
   },
   "outputs": [],
   "source": [
    "from qdrant_client import QdrantClient\n",
    "from qdrant_client.http.models import Distance, VectorParams\n",
    "from langchain_openai.embeddings import OpenAIEmbeddings\n",
    "from langchain.storage import LocalFileStore\n",
    "from langchain_qdrant import QdrantVectorStore\n",
    "from langchain.embeddings import CacheBackedEmbeddings\n",
    "\n",
    "# Typical Embedding Model\n",
    "core_embeddings = OpenAIEmbeddings(model=\"text-embedding-3-small\")\n",
    "\n",
    "# Typical QDrant Client Set-up\n",
    "collection_name = f\"pdf_to_parse_{uuid.uuid4()}\"\n",
    "client = QdrantClient(\":memory:\")\n",
    "client.create_collection(\n",
    "    collection_name=collection_name,\n",
    "    vectors_config=VectorParams(size=1536, distance=Distance.COSINE),\n",
    ")\n",
    "\n",
    "# Adding cache!\n",
    "store = LocalFileStore(\"./cache/\")\n",
    "cached_embedder = CacheBackedEmbeddings.from_bytes_store(\n",
    "    core_embeddings, store, namespace=core_embeddings.model\n",
    ")\n",
    "\n",
    "# Typical QDrant Vector Store Set-up\n",
    "vectorstore = QdrantVectorStore(\n",
    "    client=client,\n",
    "    collection_name=collection_name,\n",
    "    embedding=cached_embedder)\n",
    "vectorstore.add_documents(docs)\n",
    "retriever = vectorstore.as_retriever(search_type=\"mmr\", search_kwargs={\"k\": 3})"
   ]
  },
  {
   "cell_type": "markdown",
   "metadata": {
    "id": "QVZGvmNYLomp"
   },
   "source": [
    "##### ❓ Question #1:\n",
    "\n",
    "What are some limitations you can see with this approach? When is this most/least useful. Discuss with your group!\n",
    "\n",
    "> NOTE: There is no single correct answer here!\n",
    "\n",
    "1. Caching embeddings will be useful when certain kinds of natural-language queries are more common than others. However, if users are entering free form text into the application, this is unlikely to help unless we do some normalization.\n",
    "2. Related to the above, this can be useful when our application does a normalization pass over the user-input where the query into retriever can be more controlled.\n",
    "3. Specific to this implementation, we're using a `LocalFileStore` as a cache which might not help if our application is scaled over manu nodes. We may want to use other kinds of caches (but this is a very solvable problem)."
   ]
  },
  {
   "cell_type": "markdown",
   "metadata": {
    "id": "vZAOhyb3L9iD"
   },
   "source": [
    "##### 🏗️ Activity #1:\n",
    "\n",
    "Create a simple experiment that tests the cache-backed embeddings."
   ]
  },
  {
   "cell_type": "code",
   "execution_count": 33,
   "metadata": {
    "id": "M_Mekif6MDqe"
   },
   "outputs": [
    {
     "name": "stdout",
     "output_type": "stream",
     "text": [
      "CPU times: user 93.2 ms, sys: 53.4 ms, total: 147 ms\n",
      "Wall time: 721 ms\n"
     ]
    }
   ],
   "source": [
    "%%time\n",
    "r = retriever.invoke('How does the AI act ensure large models are regulated?')"
   ]
  },
  {
   "cell_type": "code",
   "execution_count": 34,
   "metadata": {},
   "outputs": [
    {
     "name": "stdout",
     "output_type": "stream",
     "text": [
      "CPU times: user 195 ms, sys: 8.52 ms, total: 204 ms\n",
      "Wall time: 272 ms\n"
     ]
    }
   ],
   "source": [
    "%%time\n",
    "r = retriever.invoke('How does the AI act ensure large models are regulated?')"
   ]
  },
  {
   "cell_type": "markdown",
   "metadata": {},
   "source": [
    "We can see a significant reduction in time for the same query when the same query is invoked again."
   ]
  },
  {
   "cell_type": "markdown",
   "metadata": {
    "id": "DH0i-YovL8kZ"
   },
   "source": [
    "### Augmentation\n",
    "\n",
    "We'll create the classic RAG Prompt and create our `ChatPromptTemplates` as per usual."
   ]
  },
  {
   "cell_type": "code",
   "execution_count": 35,
   "metadata": {
    "id": "WchaoMEx9j69"
   },
   "outputs": [],
   "source": [
    "from langchain_core.prompts import ChatPromptTemplate\n",
    "\n",
    "rag_system_prompt_template = \"\"\"\\\n",
    "You are a helpful assistant that uses the provided context to answer questions. Never reference this prompt, or the existance of context.\n",
    "\"\"\"\n",
    "\n",
    "rag_message_list = [\n",
    "    {\"role\" : \"system\", \"content\" : rag_system_prompt_template},\n",
    "]\n",
    "\n",
    "rag_user_prompt_template = \"\"\"\\\n",
    "Question:\n",
    "{question}\n",
    "Context:\n",
    "{context}\n",
    "\"\"\"\n",
    "\n",
    "chat_prompt = ChatPromptTemplate.from_messages([\n",
    "    (\"system\", rag_system_prompt_template),\n",
    "    (\"human\", rag_user_prompt_template)\n",
    "])"
   ]
  },
  {
   "cell_type": "markdown",
   "metadata": {
    "id": "UQKnByVWMpiK"
   },
   "source": [
    "### Generation\n",
    "\n",
    "Like usual, we'll set-up a `ChatOpenAI` model - and we'll use the fan favourite `gpt-4o-mini` for today.\n",
    "\n",
    "However, we'll also implement...a PROMPT CACHE!\n",
    "\n",
    "In essence, this works in a very similar way to the embedding cache - if we've seen this prompt before, we just use the stored response."
   ]
  },
  {
   "cell_type": "code",
   "execution_count": 36,
   "metadata": {
    "id": "fOXKkaY7ABab"
   },
   "outputs": [],
   "source": [
    "from langchain_core.globals import set_llm_cache\n",
    "from langchain_openai import ChatOpenAI\n",
    "\n",
    "chat_model = ChatOpenAI(model=\"gpt-4o-mini\")"
   ]
  },
  {
   "cell_type": "markdown",
   "metadata": {
    "id": "mhv8IqZoM9cY"
   },
   "source": [
    "Setting up the cache can be done as follows:"
   ]
  },
  {
   "cell_type": "code",
   "execution_count": 37,
   "metadata": {
    "id": "thqam26gAyzN"
   },
   "outputs": [],
   "source": [
    "from langchain_core.caches import InMemoryCache\n",
    "\n",
    "set_llm_cache(InMemoryCache())"
   ]
  },
  {
   "cell_type": "markdown",
   "metadata": {
    "id": "CvxEovcEM_oA"
   },
   "source": [
    "##### ❓ Question #2:\n",
    "\n",
    "What are some limitations you can see with this approach? When is this most/least useful. Discuss with your group!\n",
    "\n",
    "> NOTE: There is no single correct answer here!\n",
    "\n",
    "Once again, this approach is only likely to help if the users can't add free-form text into the application, or there is some other constraint on the types of inputs. If not, it is unlikely that the same text is seen again. "
   ]
  },
  {
   "cell_type": "markdown",
   "metadata": {
    "id": "3iCMjVYKNEeV"
   },
   "source": [
    "##### 🏗️ Activity #2:\n",
    "\n",
    "Create a simple experiment that tests the cache-backed embeddings."
   ]
  },
  {
   "cell_type": "code",
   "execution_count": 42,
   "metadata": {
    "id": "QT5GfmsHNFqP"
   },
   "outputs": [
    {
     "name": "stdout",
     "output_type": "stream",
     "text": [
      "1.1924465829999917\n"
     ]
    }
   ],
   "source": [
    "### YOUR CODE HERE\n",
    "# Let's use timeit module this time\n",
    "query = \"hello world!\"\n",
    "from timeit import default_timer as timer\n",
    "start = timer()\n",
    "r = chat_model(query)\n",
    "end = timer()\n",
    "print(end - start)"
   ]
  },
  {
   "cell_type": "code",
   "execution_count": 43,
   "metadata": {},
   "outputs": [
    {
     "name": "stdout",
     "output_type": "stream",
     "text": [
      "0.001300040999922203\n"
     ]
    }
   ],
   "source": [
    "start = timeit.timeit()\n",
    "r = chat_model(query)\n",
    "end = timeit.timeit()\n",
    "print(end - start)"
   ]
  },
  {
   "cell_type": "markdown",
   "metadata": {},
   "source": [
    "Once again, there's a significant reduction in time when making the same query"
   ]
  },
  {
   "cell_type": "markdown",
   "metadata": {
    "id": "zyPnNWb9NH7W"
   },
   "source": [
    "## Task 3: RAG LCEL Chain\n",
    "\n",
    "We'll also set-up our typical RAG chain using LCEL.\n",
    "\n",
    "However, this time: We'll specifically call out that the `context` and `question` halves of the first \"link\" in the chain are executed *in parallel* by default!\n",
    "\n",
    "Thanks, LCEL!"
   ]
  },
  {
   "cell_type": "code",
   "execution_count": 44,
   "metadata": {
    "id": "3JNvSsx_CEtI"
   },
   "outputs": [],
   "source": [
    "from operator import itemgetter\n",
    "from langchain_core.runnables.passthrough import RunnablePassthrough\n",
    "\n",
    "retrieval_augmented_qa_chain = (\n",
    "        {\"context\": itemgetter(\"question\") | retriever, \"question\": itemgetter(\"question\")}\n",
    "        | RunnablePassthrough.assign(context=itemgetter(\"context\"))\n",
    "        | chat_prompt | chat_model\n",
    "    )"
   ]
  },
  {
   "cell_type": "markdown",
   "metadata": {
    "id": "Sx--wVctNdGa"
   },
   "source": [
    "Let's test it out!"
   ]
  },
  {
   "cell_type": "code",
   "execution_count": 45,
   "metadata": {
    "colab": {
     "base_uri": "https://localhost:8080/"
    },
    "id": "43uQegbnDQKP",
    "outputId": "a9ff032b-4eb2-4f5f-f456-1fc6aa24aaec"
   },
   "outputs": [
    {
     "data": {
      "text/plain": [
       "AIMessage(content='1. The document is titled \"Regulation (EU) 2024/1689\".\\n2. It was published by the Publications Office of the European Union.\\n3. The document is related to artificial intelligence (AI) regulations.\\n4. It was adopted on June 13, 2024.\\n5. The document consists of 144 pages.\\n6. It is written in PDF 1.7 format.\\n7. The document aims to lay down harmonized rules on AI.\\n8. It amends several existing regulations and directives.\\n9. The regulations amended include (EC) No 300/2008 and (EU) No 167/2013.\\n10. The document is relevant to the European Economic Area (EEA).\\n11. It includes provisions for high-risk AI systems.\\n12. Article 18 discusses documentation keeping for AI providers.\\n13. Providers must keep documentation for 10 years post-market placement.\\n14. Article 11 references technical documentation requirements.\\n15. Article 17 pertains to quality management systems.\\n16. The document outlines obligations for national competent authorities.\\n17. It specifies the need for a EU declaration of conformity.\\n18. The document encourages consultations during its preparatory work.\\n19. It emphasizes equal participation among legislators in the law-making process.\\n20. The Commission is tasked with evaluating the regulation by August 2, 2029.\\n21. The regulation aims to ensure compliance with safety and ethics.\\n22. It is part of a broader EU strategy on digital and AI governance.\\n23. The document includes references to relevant interinstitutional agreements.\\n24. It addresses the need for consultation at the expert level.\\n25. The regulation will be reviewed every four years after the initial evaluation.\\n26. It aims to enhance trust in AI technologies.\\n27. The document is part of legislative acts on AI.\\n28. The European Parliament and Council are key stakeholders in this process.\\n29. It establishes a framework for liability concerning AI systems.\\n30. The document includes provisions for market surveillance of AI systems.\\n31. It provides guidelines for the certification of high-risk AI applications.\\n32. The regulation promotes innovation while ensuring safety.\\n33. It includes mechanisms for addressing non-compliance.\\n34. The document has implications for AI developers and providers.\\n35. It outlines the responsibilities of notified bodies in the regulatory process.\\n36. The document contains links to official EU legal texts.\\n37. It is identified by an ELI (European Legislation Identifier).\\n38. The regulation aims to harmonize AI standards across member states.\\n39. It addresses concerns regarding transparency in AI algorithms.\\n40. The document discusses the importance of data governance in AI.\\n41. It highlights the need for ethical considerations in AI deployment.\\n42. The regulation seeks to mitigate risks associated with AI technologies.\\n43. It includes definitions of key terms related to AI.\\n44. The document emphasizes the role of public trust in AI systems.\\n45. It calls for ongoing dialogue with stakeholders in AI sectors.\\n46. The regulation may influence future developments in AI legislation.\\n47. It seeks to balance innovation with regulatory oversight.\\n48. The document has implications for cross-border AI operations in the EU.\\n49. It is part of the EU\\'s digital single market strategy.\\n50. The regulation is a significant step toward comprehensive AI governance in Europe.', additional_kwargs={'refusal': None}, response_metadata={'token_usage': {'completion_tokens': 667, 'prompt_tokens': 1541, 'total_tokens': 2208, 'completion_tokens_details': {'audio_tokens': None, 'reasoning_tokens': 0}, 'prompt_tokens_details': {'audio_tokens': None, 'cached_tokens': 0}}, 'model_name': 'gpt-4o-mini-2024-07-18', 'system_fingerprint': 'fp_f85bea6784', 'finish_reason': 'stop', 'logprobs': None}, id='run-d9282f37-1764-455a-b3ec-2cca2a0604f0-0', usage_metadata={'input_tokens': 1541, 'output_tokens': 667, 'total_tokens': 2208})"
      ]
     },
     "execution_count": 45,
     "metadata": {},
     "output_type": "execute_result"
    }
   ],
   "source": [
    "retrieval_augmented_qa_chain.invoke({\"question\" : \"Write 50 things about this document!\"})"
   ]
  },
  {
   "cell_type": "markdown",
   "metadata": {
    "id": "0tYAvHrJNecy"
   },
   "source": [
    "##### 🏗️ Activity #3:\n",
    "\n",
    "Show, through LangSmith, the different between a trace that is leveraging cache-backed embeddings and LLM calls - and one that isn't.\n",
    "\n",
    "Post screenshots in the notebook!"
   ]
  },
  {
   "cell_type": "markdown",
   "metadata": {},
   "source": [
    "## Embeddings Calls\n",
    "Below we can see the latency for uncached and cached embeddings respectively. We can see a difference in latency."
   ]
  },
  {
   "cell_type": "markdown",
   "metadata": {},
   "source": [
    "### Uncached Embeddings Call\n",
    "![Uncached Embeddings Call](./uncached_embeddings.png)"
   ]
  },
  {
   "cell_type": "markdown",
   "metadata": {},
   "source": [
    "### Cached Embeddings\n",
    "![Cached Embeddings Call](./cached_embeddings.png)"
   ]
  },
  {
   "cell_type": "markdown",
   "metadata": {},
   "source": [
    "## Chat Model Calls\n",
    "Below we can see the latency for uncached and cached openai calls respectively. We can see a difference in latency."
   ]
  },
  {
   "cell_type": "markdown",
   "metadata": {},
   "source": [
    "### Uncached OpenAI Call\n",
    "![Uncached OpenAI Call](./chat_uncached.png)"
   ]
  },
  {
   "cell_type": "markdown",
   "metadata": {},
   "source": [
    "### Cached OpenAI Call\n",
    "![Cached OpenAI Call](./chat_cached.png)"
   ]
  },
  {
   "cell_type": "code",
   "execution_count": null,
   "metadata": {},
   "outputs": [],
   "source": []
  }
 ],
 "metadata": {
  "colab": {
   "provenance": []
  },
  "kernelspec": {
   "display_name": "Python 3 (ipykernel)",
   "language": "python",
   "name": "python3"
  },
  "language_info": {
   "codemirror_mode": {
    "name": "ipython",
    "version": 3
   },
   "file_extension": ".py",
   "mimetype": "text/x-python",
   "name": "python",
   "nbconvert_exporter": "python",
   "pygments_lexer": "ipython3",
   "version": "3.9.20"
  }
 },
 "nbformat": 4,
 "nbformat_minor": 4
}
