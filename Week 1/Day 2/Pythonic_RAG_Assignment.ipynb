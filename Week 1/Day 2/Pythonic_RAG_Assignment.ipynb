{
 "cells": [
  {
   "cell_type": "markdown",
   "metadata": {
    "id": "lElF3o5PR6ys"
   },
   "source": [
    "# Your First RAG Application\n",
    "\n",
    "In this notebook, we'll walk you through each of the components that are involved in a simple RAG application.\n",
    "\n",
    "We won't be leveraging any fancy tools, just the OpenAI Python SDK, Numpy, and some classic Python.\n",
    "\n",
    "> NOTE: This was done with Python 3.11.4.\n",
    "\n",
    "> NOTE: There might be [compatibility issues](https://github.com/wandb/wandb/issues/7683) if you're on NVIDIA driver >552.44 As an interim solution - you can rollback your drivers to the 552.44."
   ]
  },
  {
   "cell_type": "markdown",
   "metadata": {
    "id": "5CtcL8P8R6yt"
   },
   "source": [
    "## Table of Contents:\n",
    "\n",
    "- Task 1: Imports and Utilities\n",
    "- Task 2: Documents\n",
    "- Task 3: Embeddings and Vectors\n",
    "- Task 4: Prompts\n",
    "- Task 5: Retrieval Augmented Generation\n",
    "  - 🚧 Activity #1: Augment RAG"
   ]
  },
  {
   "cell_type": "markdown",
   "metadata": {
    "id": "1Dz6GYilR6yt"
   },
   "source": [
    "Let's look at a rather complicated looking visual representation of a basic RAG application.\n",
    "\n",
    "<img src=\"https://i.imgur.com/vD8b016.png\" />"
   ]
  },
  {
   "cell_type": "markdown",
   "metadata": {
    "id": "PjmC0KFtR6yt"
   },
   "source": [
    "## Task 1: Imports and Utility\n",
    "\n",
    "We're just doing some imports and enabling `async` to work within the Jupyter environment here, nothing too crazy!"
   ]
  },
  {
   "cell_type": "code",
   "execution_count": 1,
   "metadata": {
    "colab": {
     "base_uri": "https://localhost:8080/"
    },
    "id": "H7VEzqziR6yt",
    "outputId": "f873dd3b-55a0-4e00-ecf4-e2a0fe3af327"
   },
   "outputs": [
    {
     "name": "stdout",
     "output_type": "stream",
     "text": [
      "\u001b[33mWARNING: Retrying (Retry(total=4, connect=None, read=None, redirect=None, status=None)) after connection broken by 'NewConnectionError('<pip._vendor.urllib3.connection.HTTPSConnection object at 0x102428700>: Failed to establish a new connection: [Errno 8] nodename nor servname provided, or not known')': /simple/numpy/\u001b[0m\u001b[33m\n",
      "\u001b[0m\u001b[33mWARNING: Retrying (Retry(total=3, connect=None, read=None, redirect=None, status=None)) after connection broken by 'NewConnectionError('<pip._vendor.urllib3.connection.HTTPSConnection object at 0x102429000>: Failed to establish a new connection: [Errno 8] nodename nor servname provided, or not known')': /simple/numpy/\u001b[0m\u001b[33m\n",
      "\u001b[0m\u001b[33mWARNING: Retrying (Retry(total=2, connect=None, read=None, redirect=None, status=None)) after connection broken by 'NewConnectionError('<pip._vendor.urllib3.connection.HTTPSConnection object at 0x102429450>: Failed to establish a new connection: [Errno 8] nodename nor servname provided, or not known')': /simple/numpy/\u001b[0m\u001b[33m\n",
      "\u001b[0m\u001b[33mWARNING: Retrying (Retry(total=1, connect=None, read=None, redirect=None, status=None)) after connection broken by 'NewConnectionError('<pip._vendor.urllib3.connection.HTTPSConnection object at 0x102429600>: Failed to establish a new connection: [Errno 8] nodename nor servname provided, or not known')': /simple/numpy/\u001b[0m\u001b[33m\n",
      "\u001b[0m\u001b[33mWARNING: Retrying (Retry(total=0, connect=None, read=None, redirect=None, status=None)) after connection broken by 'NewConnectionError('<pip._vendor.urllib3.connection.HTTPSConnection object at 0x1024297b0>: Failed to establish a new connection: [Errno 8] nodename nor servname provided, or not known')': /simple/numpy/\u001b[0m\u001b[33m\n",
      "\u001b[0m\u001b[33mWARNING: Retrying (Retry(total=4, connect=None, read=None, redirect=None, status=None)) after connection broken by 'NewConnectionError('<pip._vendor.urllib3.connection.HTTPSConnection object at 0x102482380>: Failed to establish a new connection: [Errno 8] nodename nor servname provided, or not known')': /simple/matplotlib/\u001b[0m\u001b[33m\n",
      "\u001b[0m\u001b[33mWARNING: Retrying (Retry(total=3, connect=None, read=None, redirect=None, status=None)) after connection broken by 'NewConnectionError('<pip._vendor.urllib3.connection.HTTPSConnection object at 0x1024825f0>: Failed to establish a new connection: [Errno 8] nodename nor servname provided, or not known')': /simple/matplotlib/\u001b[0m\u001b[33m\n",
      "\u001b[0m\u001b[33mWARNING: Retrying (Retry(total=2, connect=None, read=None, redirect=None, status=None)) after connection broken by 'NewConnectionError('<pip._vendor.urllib3.connection.HTTPSConnection object at 0x1024827a0>: Failed to establish a new connection: [Errno 8] nodename nor servname provided, or not known')': /simple/matplotlib/\u001b[0m\u001b[33m\n",
      "\u001b[0m\u001b[33mWARNING: Retrying (Retry(total=1, connect=None, read=None, redirect=None, status=None)) after connection broken by 'NewConnectionError('<pip._vendor.urllib3.connection.HTTPSConnection object at 0x102482950>: Failed to establish a new connection: [Errno 8] nodename nor servname provided, or not known')': /simple/matplotlib/\u001b[0m\u001b[33m\n",
      "\u001b[0m\u001b[33mWARNING: Retrying (Retry(total=0, connect=None, read=None, redirect=None, status=None)) after connection broken by 'NewConnectionError('<pip._vendor.urllib3.connection.HTTPSConnection object at 0x102482b00>: Failed to establish a new connection: [Errno 8] nodename nor servname provided, or not known')': /simple/matplotlib/\u001b[0m\u001b[33m\n",
      "\u001b[0m\u001b[33mWARNING: Retrying (Retry(total=4, connect=None, read=None, redirect=None, status=None)) after connection broken by 'NewConnectionError('<pip._vendor.urllib3.connection.HTTPSConnection object at 0x102483220>: Failed to establish a new connection: [Errno 8] nodename nor servname provided, or not known')': /simple/plotly/\u001b[0m\u001b[33m\n",
      "\u001b[0m\u001b[33mWARNING: Retrying (Retry(total=3, connect=None, read=None, redirect=None, status=None)) after connection broken by 'NewConnectionError('<pip._vendor.urllib3.connection.HTTPSConnection object at 0x1024836a0>: Failed to establish a new connection: [Errno 8] nodename nor servname provided, or not known')': /simple/plotly/\u001b[0m\u001b[33m\n",
      "\u001b[0m\u001b[33mWARNING: Retrying (Retry(total=2, connect=None, read=None, redirect=None, status=None)) after connection broken by 'NewConnectionError('<pip._vendor.urllib3.connection.HTTPSConnection object at 0x102483850>: Failed to establish a new connection: [Errno 8] nodename nor servname provided, or not known')': /simple/plotly/\u001b[0m\u001b[33m\n",
      "\u001b[0m\u001b[33mWARNING: Retrying (Retry(total=1, connect=None, read=None, redirect=None, status=None)) after connection broken by 'NewConnectionError('<pip._vendor.urllib3.connection.HTTPSConnection object at 0x102483a00>: Failed to establish a new connection: [Errno 8] nodename nor servname provided, or not known')': /simple/plotly/\u001b[0m\u001b[33m\n",
      "\u001b[0m\u001b[33mWARNING: Retrying (Retry(total=0, connect=None, read=None, redirect=None, status=None)) after connection broken by 'NewConnectionError('<pip._vendor.urllib3.connection.HTTPSConnection object at 0x102483bb0>: Failed to establish a new connection: [Errno 8] nodename nor servname provided, or not known')': /simple/plotly/\u001b[0m\u001b[33m\n",
      "\u001b[0m\u001b[33mWARNING: Retrying (Retry(total=4, connect=None, read=None, redirect=None, status=None)) after connection broken by 'NewConnectionError('<pip._vendor.urllib3.connection.HTTPSConnection object at 0x102482890>: Failed to establish a new connection: [Errno 8] nodename nor servname provided, or not known')': /simple/pandas/\u001b[0m\u001b[33m\n",
      "\u001b[0m\u001b[33mWARNING: Retrying (Retry(total=3, connect=None, read=None, redirect=None, status=None)) after connection broken by 'NewConnectionError('<pip._vendor.urllib3.connection.HTTPSConnection object at 0x1024822f0>: Failed to establish a new connection: [Errno 8] nodename nor servname provided, or not known')': /simple/pandas/\u001b[0m\u001b[33m\n",
      "\u001b[0m\u001b[33mWARNING: Retrying (Retry(total=2, connect=None, read=None, redirect=None, status=None)) after connection broken by 'NewConnectionError('<pip._vendor.urllib3.connection.HTTPSConnection object at 0x102483d00>: Failed to establish a new connection: [Errno 8] nodename nor servname provided, or not known')': /simple/pandas/\u001b[0m\u001b[33m\n",
      "\u001b[0m\u001b[33mWARNING: Retrying (Retry(total=1, connect=None, read=None, redirect=None, status=None)) after connection broken by 'NewConnectionError('<pip._vendor.urllib3.connection.HTTPSConnection object at 0x102483eb0>: Failed to establish a new connection: [Errno 8] nodename nor servname provided, or not known')': /simple/pandas/\u001b[0m\u001b[33m\n",
      "\u001b[0m\u001b[33mWARNING: Retrying (Retry(total=0, connect=None, read=None, redirect=None, status=None)) after connection broken by 'NewConnectionError('<pip._vendor.urllib3.connection.HTTPSConnection object at 0x102483ee0>: Failed to establish a new connection: [Errno 8] nodename nor servname provided, or not known')': /simple/pandas/\u001b[0m\u001b[33m\n",
      "\u001b[0m"
     ]
    }
   ],
   "source": [
    "!pip install -qU numpy matplotlib plotly pandas scipy scikit-learn openai python-dotenv"
   ]
  },
  {
   "cell_type": "code",
   "execution_count": 1,
   "metadata": {
    "id": "Z1dyrG4hR6yt"
   },
   "outputs": [],
   "source": [
    "from aimakerspace.text_utils import TextFileLoader, CharacterTextSplitter\n",
    "from aimakerspace.vectordatabase import VectorDatabase, cosine_similarity, euclidean_similarity\n",
    "import asyncio"
   ]
  },
  {
   "cell_type": "code",
   "execution_count": 2,
   "metadata": {
    "id": "9OrFZRnER6yt"
   },
   "outputs": [],
   "source": [
    "import nest_asyncio\n",
    "nest_asyncio.apply()"
   ]
  },
  {
   "cell_type": "markdown",
   "metadata": {
    "id": "M0jGnpQsR6yu"
   },
   "source": [
    "## Task 2: Documents\n",
    "\n",
    "We'll be concerning ourselves with this part of the flow in the following section:\n",
    "\n",
    "<img src=\"https://i.imgur.com/jTm9gjk.png\" />"
   ]
  },
  {
   "cell_type": "markdown",
   "metadata": {
    "id": "-SFPWvRUR6yu"
   },
   "source": [
    "### Loading Source Documents\n",
    "\n",
    "So, first things first, we need some documents to work with.\n",
    "\n",
    "While we could work directly with the `.txt` files (or whatever file-types you wanted to extend this to) we can instead do some batch processing of those documents at the beginning in order to store them in a more machine compatible format.\n",
    "\n",
    "In this case, we're going to parse our text file into a single document in memory.\n",
    "\n",
    "Let's look at the relevant bits of the `TextFileLoader` class:\n",
    "\n",
    "```python\n",
    "def load_file(self):\n",
    "        with open(self.path, \"r\", encoding=self.encoding) as f:\n",
    "            self.documents.append(f.read())\n",
    "```\n",
    "\n",
    "We're simply loading the document using the built in `open` method, and storing that output in our `self.documents` list.\n"
   ]
  },
  {
   "cell_type": "code",
   "execution_count": 3,
   "metadata": {
    "colab": {
     "base_uri": "https://localhost:8080/"
    },
    "id": "Ia2sUEuGR6yu",
    "outputId": "84937ecc-c35f-4c4a-a4ab-9da72625954c"
   },
   "outputs": [
    {
     "data": {
      "text/plain": [
       "1"
      ]
     },
     "execution_count": 3,
     "metadata": {},
     "output_type": "execute_result"
    }
   ],
   "source": [
    "text_loader = TextFileLoader(\"data/PMarcaBlogs.txt\")\n",
    "documents = text_loader.load_documents()\n",
    "len(documents)"
   ]
  },
  {
   "cell_type": "code",
   "execution_count": 4,
   "metadata": {
    "colab": {
     "base_uri": "https://localhost:8080/"
    },
    "id": "bV-tj5WFR6yu",
    "outputId": "674eb315-1ff3-4597-bcf5-38ece0a812ac"
   },
   "outputs": [
    {
     "name": "stdout",
     "output_type": "stream",
     "text": [
      "﻿\n",
      "The Pmarca Blog Archives\n",
      "(select posts from 2007-2009)\n",
      "Marc Andreessen\n",
      "copyright: Andreessen Horow\n"
     ]
    }
   ],
   "source": [
    "print(documents[0][:100])"
   ]
  },
  {
   "cell_type": "markdown",
   "metadata": {
    "id": "nHlTvCzYR6yu"
   },
   "source": [
    "### Splitting Text Into Chunks\n",
    "\n",
    "As we can see, there is one massive document.\n",
    "\n",
    "We'll want to chunk the document into smaller parts so it's easier to pass the most relevant snippets to the LLM.\n",
    "\n",
    "There is no fixed way to split/chunk documents - and you'll need to rely on some intuition as well as knowing your data *very* well in order to build the most robust system.\n",
    "\n",
    "For this toy example, we'll just split blindly on length.\n",
    "\n",
    ">There's an opportunity to clear up some terminology here, for this course we will be stick to the following:\n",
    ">\n",
    ">- \"source documents\" : The `.txt`, `.pdf`, `.html`, ..., files that make up the files and information we start with in its raw format\n",
    ">- \"document(s)\" : single (or more) text object(s)\n",
    ">- \"corpus\" : the combination of all of our documents"
   ]
  },
  {
   "cell_type": "markdown",
   "metadata": {
    "id": "2G6Voc0jR6yv"
   },
   "source": [
    "As you can imagine (though it's not specifically true in this toy example) the idea of splitting documents is to break them into managable sized chunks that retain the most relevant local context."
   ]
  },
  {
   "cell_type": "code",
   "execution_count": 5,
   "metadata": {
    "colab": {
     "base_uri": "https://localhost:8080/"
    },
    "id": "UMC4tsEmR6yv",
    "outputId": "08689c0b-57cd-4040-942a-8193e997f5cb"
   },
   "outputs": [
    {
     "data": {
      "text/plain": [
       "373"
      ]
     },
     "execution_count": 5,
     "metadata": {},
     "output_type": "execute_result"
    }
   ],
   "source": [
    "text_splitter = CharacterTextSplitter()\n",
    "split_documents = text_splitter.split_texts(documents)\n",
    "len(split_documents)"
   ]
  },
  {
   "cell_type": "markdown",
   "metadata": {
    "id": "W2wKT0WLR6yv"
   },
   "source": [
    "Let's take a look at some of the documents we've managed to split."
   ]
  },
  {
   "cell_type": "code",
   "execution_count": 6,
   "metadata": {
    "colab": {
     "base_uri": "https://localhost:8080/"
    },
    "id": "vcYMwWJoR6yv",
    "outputId": "20d69876-feca-4826-b4be-32915276987a"
   },
   "outputs": [
    {
     "data": {
      "text/plain": [
       "['\\ufeff\\nThe Pmarca Blog Archives\\n(select posts from 2007-2009)\\nMarc Andreessen\\ncopyright: Andreessen Horowitz\\ncover design: Jessica Hagy\\nproduced using: Pressbooks\\nContents\\nTHE PMARCA GUIDE TO STARTUPS\\nPart 1: Why not to do a startup 2\\nPart 2: When the VCs say \"no\" 10\\nPart 3: \"But I don\\'t know any VCs!\" 18\\nPart 4: The only thing that matters 25\\nPart 5: The Moby Dick theory of big companies 33\\nPart 6: How much funding is too little? Too much? 41\\nPart 7: Why a startup\\'s initial business plan doesn\\'t\\nmatter that much\\n49\\nTHE PMARCA GUIDE TO HIRING\\nPart 8: Hiring, managing, promoting, and Dring\\nexecutives\\n54\\nPart 9: How to hire a professional CEO 68\\nHow to hire the best people you\\'ve ever worked\\nwith\\n69\\nTHE PMARCA GUIDE TO BIG COMPANIES\\nPart 1: Turnaround! 82\\nPart 2: Retaining great people 86\\nTHE PMARCA GUIDE TO CAREER, PRODUCTIVITY,\\nAND SOME OTHER THINGS\\nIntroduction 97\\nPart 1: Opportunity 99\\nPart 2: Skills and education 107\\nPart 3: Where to go and why 120\\nThe Pmarca Guide to Personal Productivi']"
      ]
     },
     "execution_count": 6,
     "metadata": {},
     "output_type": "execute_result"
    }
   ],
   "source": [
    "split_documents[0:1]"
   ]
  },
  {
   "cell_type": "markdown",
   "metadata": {
    "id": "HOU-RFP_R6yv"
   },
   "source": [
    "## Task 3: Embeddings and Vectors\n",
    "\n",
    "Next, we have to convert our corpus into a \"machine readable\" format as we explored in the Embedding Primer notebook.\n",
    "\n",
    "Today, we're going to talk about the actual process of creating, and then storing, these embeddings, and how we can leverage that to intelligently add context to our queries."
   ]
  },
  {
   "cell_type": "markdown",
   "metadata": {},
   "source": [
    "### OpenAI API Key\n",
    "\n",
    "In order to access OpenAI's APIs, we'll need to provide our OpenAI API Key!\n",
    "\n",
    "You can work through the folder \"OpenAI API Key Setup\" for more information on this process if you don't already have an API Key!"
   ]
  },
  {
   "cell_type": "code",
   "execution_count": 8,
   "metadata": {},
   "outputs": [
    {
     "name": "stdin",
     "output_type": "stream",
     "text": [
      "OpenAI API Key:  ········\n"
     ]
    }
   ],
   "source": [
    "import os\n",
    "import openai\n",
    "from getpass import getpass\n",
    "\n",
    "openai.api_key = getpass(\"OpenAI API Key: \")\n",
    "os.environ[\"OPENAI_API_KEY\"] = openai.api_key"
   ]
  },
  {
   "cell_type": "markdown",
   "metadata": {},
   "source": [
    "### Vector Database\n",
    "\n",
    "Let's set up our vector database to hold all our documents and their embeddings!"
   ]
  },
  {
   "cell_type": "markdown",
   "metadata": {
    "id": "kDQrfAR1R6yv"
   },
   "source": [
    "While this is all baked into 1 call - we can look at some of the code that powers this process to get a better understanding:\n",
    "\n",
    "Let's look at our `VectorDatabase().__init__()`:\n",
    "\n",
    "```python\n",
    "def __init__(self, embedding_model: EmbeddingModel = None):\n",
    "        self.vectors = defaultdict(np.array)\n",
    "        self.embedding_model = embedding_model or EmbeddingModel()\n",
    "```\n",
    "\n",
    "As you can see - our vectors are merely stored as a dictionary of `np.array` objects.\n",
    "\n",
    "Secondly, our `VectorDatabase()` has a default `EmbeddingModel()` which is a wrapper for OpenAI's `text-embedding-3-small` model.\n",
    "\n",
    "> **Quick Info About `text-embedding-3-small`**:\n",
    "> - It has a context window of **8191** tokens\n",
    "> - It returns vectors with dimension **1536**"
   ]
  },
  {
   "cell_type": "markdown",
   "metadata": {
    "id": "L273pRdeR6yv"
   },
   "source": [
    "#### ❓Question #1:\n",
    "\n",
    "The default embedding dimension of `text-embedding-3-small` is 1536, as noted above. \n",
    "\n",
    "1. Is there any way to modify this dimension? - One can always pass the `dimensions` optional parameter with the embedding API which can create smaller sized embeddings (works with `text-embedding-3`) or just use `text-embedding-3-large` which is of size 3072 if a larger embedding size is needed.\n",
    "3. What technique does OpenAI use to achieve this? - Per the [documentation](https://platform.openai.com/docs/guides/embeddings/use-cases) it appears the embeddings were trained using [Matryoshka Representation Learning (MRL)](https://arxiv.org/abs/2205.13147) which uses nested neural networks to obtain different levels of understanding for different embeddings with the lower levels learning more global features and higher levels learn more granular features. \n",
    "\n",
    "> NOTE: Check out this [API documentation](https://platform.openai.com/docs/api-reference/embeddings/create) for the answer to question #1, and [this documentation](https://platform.openai.com/docs/guides/embeddings/use-cases) for an answer to question #2!"
   ]
  },
  {
   "cell_type": "markdown",
   "metadata": {
    "id": "w5FZY7K3R6yv"
   },
   "source": [
    "We can call the `async_get_embeddings` method of our `EmbeddingModel()` on a list of `str` and receive a list of `float` back!\n",
    "\n",
    "```python\n",
    "async def async_get_embeddings(self, list_of_text: List[str]) -> List[List[float]]:\n",
    "        return await aget_embeddings(\n",
    "            list_of_text=list_of_text, engine=self.embeddings_model_name\n",
    "        )\n",
    "```"
   ]
  },
  {
   "cell_type": "markdown",
   "metadata": {
    "id": "cSct6X0aR6yv"
   },
   "source": [
    "We cast those to `np.array` when we build our `VectorDatabase()`:\n",
    "\n",
    "```python\n",
    "async def abuild_from_list(self, list_of_text: List[str]) -> \"VectorDatabase\":\n",
    "        embeddings = await self.embedding_model.async_get_embeddings(list_of_text)\n",
    "        for text, embedding in zip(list_of_text, embeddings):\n",
    "            self.insert(text, np.array(embedding))\n",
    "        return self\n",
    "```\n",
    "\n",
    "And that's all we need to do!"
   ]
  },
  {
   "cell_type": "code",
   "execution_count": 9,
   "metadata": {
    "id": "O4KoLbVDR6yv"
   },
   "outputs": [],
   "source": [
    "vector_db = VectorDatabase()\n",
    "vector_db = asyncio.run(vector_db.abuild_from_list(split_documents))"
   ]
  },
  {
   "cell_type": "markdown",
   "metadata": {
    "id": "SSZwaGvpR6yv"
   },
   "source": [
    "#### ❓Question #2:\n",
    "\n",
    "What are the benefits of using an `async` approach to collecting our embeddings? - Async operations are non-blocking. Essentially, it helps the process of building embeddings not block the process from moving forward while the expensive task of building embeddigs happens.\n",
    "\n",
    "> NOTE: Determining the core difference between `async` and `sync` will be useful! If you get stuck - ask ChatGPT!"
   ]
  },
  {
   "cell_type": "markdown",
   "metadata": {
    "id": "nRBdIt-xR6yw"
   },
   "source": [
    "So, to review what we've done so far in natural language:\n",
    "\n",
    "1. We load source documents\n",
    "2. We split those source documents into smaller chunks (documents)\n",
    "3. We send each of those documents to the `text-embedding-3-small` OpenAI API endpoint\n",
    "4. We store each of the text representations with the vector representations as keys/values in a dictionary"
   ]
  },
  {
   "cell_type": "markdown",
   "metadata": {
    "id": "4-vWANZyR6yw"
   },
   "source": [
    "### Semantic Similarity\n",
    "\n",
    "The next step is to be able to query our `VectorDatabase()` with a `str` and have it return to us vectors and text that is most relevant from our corpus.\n",
    "\n",
    "We're going to use the following process to achieve this in our toy example:\n",
    "\n",
    "1. We need to embed our query with the same `EmbeddingModel()` as we used to construct our `VectorDatabase()`\n",
    "2. We loop through every vector in our `VectorDatabase()` and use a distance measure to compare how related they are\n",
    "3. We return a list of the top `k` closest vectors, with their text representations\n",
    "\n",
    "There's some very heavy optimization that can be done at each of these steps - but let's just focus on the basic pattern in this notebook.\n",
    "\n",
    "> We are using [cosine similarity](https://www.engati.com/glossary/cosine-similarity) as a distance metric in this example - but there are many many distance metrics you could use - like [these](https://flavien-vidal.medium.com/similarity-distances-for-natural-language-processing-16f63cd5ba55)\n",
    "\n",
    "> We are using a rather inefficient way of calculating relative distance between the query vector and all other vectors - there are more advanced approaches that are much more efficient, like [ANN](https://towardsdatascience.com/comprehensive-guide-to-approximate-nearest-neighbors-algorithms-8b94f057d6b6)"
   ]
  },
  {
   "cell_type": "code",
   "execution_count": 13,
   "metadata": {
    "colab": {
     "base_uri": "https://localhost:8080/"
    },
    "id": "76d96uavR6yw",
    "outputId": "bbfccc31-20a2-41c7-c14d-46554a43ed2d"
   },
   "outputs": [
    {
     "data": {
      "text/plain": [
       "[('ordingly.\\nSeventh, when hiring the executive to run your former specialty, be\\ncareful you don’t hire someone weak on purpose.\\nThis sounds silly, but you wouldn’t believe how oaen it happens.\\nThe CEO who used to be a product manager who has a weak\\nproduct management executive. The CEO who used to be in\\nsales who has a weak sales executive. The CEO who used to be\\nin marketing who has a weak marketing executive.\\nI call this the “Michael Eisner Memorial Weak Executive Problem” — aaer the CEO of Disney who had previously been a brilliant TV network executive. When he bought ABC at Disney, it\\npromptly fell to fourth place. His response? “If I had an extra\\ntwo days a week, I could turn around ABC myself.” Well, guess\\nwhat, he didn’t have an extra two days a week.\\nA CEO — or a startup founder — oaen has a hard time letting\\ngo of the function that brought him to the party. The result: you\\nhire someone weak into the executive role for that function so\\nthat you can continue to be “the man” — cons',\n",
       "  0.6539043027545361),\n",
       " ('m. They have areas where they are truly deXcient in judgment or skill set. That’s just life. Almost nobody is brilliant\\nat everything. When hiring and when Hring executives, you\\nmust therefore focus on strength rather than lack of weakness. Everybody has severe weaknesses even if you can’t see\\nthem yet. When managing, it’s oaen useful to micromanage and\\nto provide remedial training around these weaknesses. Doing so\\nmay make the diWerence between an executive succeeding or\\nfailing.\\nFor example, you might have a brilliant engineering executive\\nwho generates excellent team loyalty, has terriXc product judgment and makes the trains run on time. This same executive\\nmay be very poor at relating to the other functions in the company. She may generate far more than her share of cross-functional conYicts, cut herself oW from critical information, and\\nsigniXcantly impede your ability to sell and market eWectively.\\nYour alternatives are:\\n(a) Macro-manage and give her an annual or quarterly object',\n",
       "  0.503640931359473),\n",
       " ('ed?\\nIn reality — as opposed to Marc’s warped view of reality — it will\\nbe extremely helpful for Marc [if he were actually the CEO,\\nwhich he is not] to meet with the new head of engineering daily\\nwhen she comes on board and review all of her thinking and\\ndecisions. This level of micromanagement will accelerate her\\ntraining and improve her long-term eWectiveness. It will make\\nher seem smarter to the rest of the organization which will build\\ncredibility and conXdence while she comes up to speed. Micromanaging new executives is generally a good idea for a limited\\nperiod of time.\\nHowever, that is not the only time that it makes sense to micro66 The Pmarca Blog Archives\\nmanage executives. It turns out that just about every executive\\nin the world has a few things that are seriously wrong with\\nthem. They have areas where they are truly deXcient in judgment or skill set. That’s just life. Almost nobody is brilliant\\nat everything. When hiring and when Hring executives, you\\nmust therefore focus o',\n",
       "  0.4814318589044834)]"
      ]
     },
     "execution_count": 13,
     "metadata": {},
     "output_type": "execute_result"
    }
   ],
   "source": [
    "vector_db.search_by_text(\"What is the Michael Eisner Memorial Weak Executive Problem?\", k=3, \n",
    "                         similarity_measure=cosine_similarity)"
   ]
  },
  {
   "cell_type": "markdown",
   "metadata": {
    "id": "TehsfIiKR6yw"
   },
   "source": [
    "## Task 4: Prompts\n",
    "\n",
    "In the following section, we'll be looking at the role of prompts - and how they help us to guide our application in the right direction.\n",
    "\n",
    "In this notebook, we're going to rely on the idea of \"zero-shot in-context learning\".\n",
    "\n",
    "This is a lot of words to say: \"We will ask it to perform our desired task in the prompt, and provide no examples.\""
   ]
  },
  {
   "cell_type": "markdown",
   "metadata": {
    "id": "yXpA0UveR6yw"
   },
   "source": [
    "### XYZRolePrompt\n",
    "\n",
    "Before we do that, let's stop and think a bit about how OpenAI's chat models work.\n",
    "\n",
    "We know they have roles - as is indicated in the following API [documentation](https://platform.openai.com/docs/api-reference/chat/create#chat/create-messages)\n",
    "\n",
    "There are three roles, and they function as follows (taken directly from [OpenAI](https://platform.openai.com/docs/guides/gpt/chat-completions-api)):\n",
    "\n",
    "- `{\"role\" : \"system\"}` : The system message helps set the behavior of the assistant. For example, you can modify the personality of the assistant or provide specific instructions about how it should behave throughout the conversation. However note that the system message is optional and the model’s behavior without a system message is likely to be similar to using a generic message such as \"You are a helpful assistant.\"\n",
    "- `{\"role\" : \"user\"}` : The user messages provide requests or comments for the assistant to respond to.\n",
    "- `{\"role\" : \"assistant\"}` : Assistant messages store previous assistant responses, but can also be written by you to give examples of desired behavior.\n",
    "\n",
    "The main idea is this:\n",
    "\n",
    "1. You start with a system message that outlines how the LLM should respond, what kind of behaviours you can expect from it, and more\n",
    "2. Then, you can provide a few examples in the form of \"assistant\"/\"user\" pairs\n",
    "3. Then, you prompt the model with the true \"user\" message.\n",
    "\n",
    "In this example, we'll be forgoing the 2nd step for simplicities sake."
   ]
  },
  {
   "cell_type": "markdown",
   "metadata": {
    "id": "gdZ2KWKSR6yw"
   },
   "source": [
    "#### Utility Functions\n",
    "\n",
    "You'll notice that we're using some utility functions from the `aimakerspace` module - let's take a peek at these and see what they're doing!"
   ]
  },
  {
   "cell_type": "markdown",
   "metadata": {
    "id": "GFbeJDDsR6yw"
   },
   "source": [
    "##### XYZRolePrompt"
   ]
  },
  {
   "cell_type": "markdown",
   "metadata": {
    "id": "5mojJSE3R6yw"
   },
   "source": [
    "Here we have our `system`, `user`, and `assistant` role prompts.\n",
    "\n",
    "Let's take a peek at what they look like:\n",
    "\n",
    "```python\n",
    "class BasePrompt:\n",
    "    def __init__(self, prompt):\n",
    "        \"\"\"\n",
    "        Initializes the BasePrompt object with a prompt template.\n",
    "\n",
    "        :param prompt: A string that can contain placeholders within curly braces\n",
    "        \"\"\"\n",
    "        self.prompt = prompt\n",
    "        self._pattern = re.compile(r\"\\{([^}]+)\\}\")\n",
    "\n",
    "    def format_prompt(self, **kwargs):\n",
    "        \"\"\"\n",
    "        Formats the prompt string using the keyword arguments provided.\n",
    "\n",
    "        :param kwargs: The values to substitute into the prompt string\n",
    "        :return: The formatted prompt string\n",
    "        \"\"\"\n",
    "        matches = self._pattern.findall(self.prompt)\n",
    "        return self.prompt.format(**{match: kwargs.get(match, \"\") for match in matches})\n",
    "\n",
    "    def get_input_variables(self):\n",
    "        \"\"\"\n",
    "        Gets the list of input variable names from the prompt string.\n",
    "\n",
    "        :return: List of input variable names\n",
    "        \"\"\"\n",
    "        return self._pattern.findall(self.prompt)\n",
    "```\n",
    "\n",
    "Then we have our `RolePrompt` which laser focuses us on the role pattern found in most API endpoints for LLMs.\n",
    "\n",
    "```python\n",
    "class RolePrompt(BasePrompt):\n",
    "    def __init__(self, prompt, role: str):\n",
    "        \"\"\"\n",
    "        Initializes the RolePrompt object with a prompt template and a role.\n",
    "\n",
    "        :param prompt: A string that can contain placeholders within curly braces\n",
    "        :param role: The role for the message ('system', 'user', or 'assistant')\n",
    "        \"\"\"\n",
    "        super().__init__(prompt)\n",
    "        self.role = role\n",
    "\n",
    "    def create_message(self, **kwargs):\n",
    "        \"\"\"\n",
    "        Creates a message dictionary with a role and a formatted message.\n",
    "\n",
    "        :param kwargs: The values to substitute into the prompt string\n",
    "        :return: Dictionary containing the role and the formatted message\n",
    "        \"\"\"\n",
    "        return {\"role\": self.role, \"content\": self.format_prompt(**kwargs)}\n",
    "```\n",
    "\n",
    "We'll look at how the `SystemRolePrompt` is constructed to get a better idea of how that extension works:\n",
    "\n",
    "```python\n",
    "class SystemRolePrompt(RolePrompt):\n",
    "    def __init__(self, prompt: str):\n",
    "        super().__init__(prompt, \"system\")\n",
    "```\n",
    "\n",
    "That pattern is repeated for our `UserRolePrompt` and our `AssistantRolePrompt` as well."
   ]
  },
  {
   "cell_type": "markdown",
   "metadata": {
    "id": "D361R6sMR6yw"
   },
   "source": [
    "##### ChatOpenAI"
   ]
  },
  {
   "cell_type": "markdown",
   "metadata": {
    "id": "HJVQ2Pm8R6yw"
   },
   "source": [
    "Next we have our model, which is converted to a format analagous to libraries like LangChain and LlamaIndex.\n",
    "\n",
    "Let's take a peek at how that is constructed:\n",
    "\n",
    "```python\n",
    "class ChatOpenAI:\n",
    "    def __init__(self, model_name: str = \"gpt-4o-mini\"):\n",
    "        self.model_name = model_name\n",
    "        self.openai_api_key = os.getenv(\"OPENAI_API_KEY\")\n",
    "        if self.openai_api_key is None:\n",
    "            raise ValueError(\"OPENAI_API_KEY is not set\")\n",
    "\n",
    "    def run(self, messages, text_only: bool = True):\n",
    "        if not isinstance(messages, list):\n",
    "            raise ValueError(\"messages must be a list\")\n",
    "\n",
    "        openai.api_key = self.openai_api_key\n",
    "        response = openai.ChatCompletion.create(\n",
    "            model=self.model_name, messages=messages\n",
    "        )\n",
    "\n",
    "        if text_only:\n",
    "            return response.choices[0].message.content\n",
    "\n",
    "        return response\n",
    "```"
   ]
  },
  {
   "cell_type": "markdown",
   "metadata": {
    "id": "qCU7FfhIR6yw"
   },
   "source": [
    "#### ❓ Question #3:\n",
    "\n",
    "When calling the OpenAI API - are there any ways we can achieve more reproducible outputs?\n",
    "A very small value of the `temperature` parameter (which ranges from 0 to 2) or very small value of `top_p` parameter can approximate greedy output and get more consistent responses. \n",
    "> NOTE: Check out [this section](https://platform.openai.com/docs/guides/text-generation/) of the OpenAI documentation for the answer!"
   ]
  },
  {
   "cell_type": "markdown",
   "metadata": {
    "id": "c5wcjMLCR6yw"
   },
   "source": [
    "### Creating and Prompting OpenAI's `gpt-4o-mini`!\n",
    "\n",
    "Let's tie all these together and use it to prompt `gpt-4o-mini`!"
   ]
  },
  {
   "cell_type": "code",
   "execution_count": 15,
   "metadata": {
    "id": "WIfpIot7R6yw"
   },
   "outputs": [],
   "source": [
    "from aimakerspace.openai_utils.prompts import (\n",
    "    UserRolePrompt,\n",
    "    SystemRolePrompt,\n",
    "    AssistantRolePrompt,\n",
    ")\n",
    "\n",
    "from aimakerspace.openai_utils.chatmodel import ChatOpenAI\n",
    "\n",
    "chat_openai = ChatOpenAI()\n",
    "user_prompt_template = \"{content}\"\n",
    "user_role_prompt = UserRolePrompt(user_prompt_template)\n",
    "system_prompt_template = (\n",
    "    \"You are an expert in {expertise}, you always answer in a kind way.\"\n",
    ")\n",
    "system_role_prompt = SystemRolePrompt(system_prompt_template)\n",
    "\n",
    "messages = [\n",
    "    system_role_prompt.create_message(expertise=\"Python\"),\n",
    "    user_role_prompt.create_message(\n",
    "        content=\"What is the best way to write a loop?\"\n",
    "    ),\n",
    "]\n",
    "\n",
    "response = chat_openai.run(messages)"
   ]
  },
  {
   "cell_type": "code",
   "execution_count": 16,
   "metadata": {
    "colab": {
     "base_uri": "https://localhost:8080/"
    },
    "id": "dHo7lssNR6yw",
    "outputId": "1d3823fa-bb6b-45f6-ddba-b41686388324"
   },
   "outputs": [
    {
     "name": "stdout",
     "output_type": "stream",
     "text": [
      "The best way to write a loop in Python often depends on what you're trying to achieve, but generally, there are a few common practices you can follow to make your loops clear, efficient, and Pythonic.\n",
      "\n",
      "### For Loops\n",
      "If you're iterating over a sequence (like a list, tuple, or string), using a `for` loop is a great choice:\n",
      "\n",
      "```python\n",
      "# Example of a for loop\n",
      "fruits = ['apple', 'banana', 'cherry']\n",
      "\n",
      "for fruit in fruits:\n",
      "    print(fruit)\n",
      "```\n",
      "\n",
      "### While Loops\n",
      "If you need to continue looping until a specific condition is met, a `while` loop might be more appropriate:\n",
      "\n",
      "```python\n",
      "# Example of a while loop\n",
      "count = 0\n",
      "\n",
      "while count < 5:\n",
      "    print(count)\n",
      "    count += 1\n",
      "```\n",
      "\n",
      "### Additional Tips\n",
      "1. **Use Describe Variable Names**: Ensure your loop variables have meaningful names for better readability.\n",
      "2. **Keep it Simple**: Try to keep your loop concise. If you find a loop getting too complex, consider refactoring it into a function.\n",
      "3. **Break and Continue**: Use `break` to exit a loop prematurely and `continue` to skip the current iteration and move to the next one if needed.\n",
      "4. **Use Enumerate**: If you need the index of items in a list, consider using `enumerate`:\n",
      "\n",
      "    ```python\n",
      "    for index, fruit in enumerate(fruits):\n",
      "        print(index, fruit)\n",
      "    ```\n",
      "\n",
      "5. **Avoid Infinite Loops**: Be careful with your exit conditions to avoid accidentally creating an infinite loop.\n",
      "6. **List Comprehensions**: If you're generating lists, consider using list comprehensions for a more concise syntax:\n",
      "\n",
      "    ```python\n",
      "    squares = [x**2 for x in range(10)]\n",
      "    ```\n",
      "\n",
      "### Conclusion\n",
      "Choosing between a `for` loop and a `while` loop, and following best practices, can significantly improve the clarity and maintainability of your code. Happy coding! If you have any specific use cases or further questions, feel free to ask!\n"
     ]
    }
   ],
   "source": [
    "print(response)"
   ]
  },
  {
   "cell_type": "markdown",
   "metadata": {
    "id": "r2nxxhB2R6yy"
   },
   "source": [
    "## Task 5: Retrieval Augmented Generation\n",
    "\n",
    "Now we can create a RAG prompt - which will help our system behave in a way that makes sense!\n",
    "\n",
    "There is much you could do here, many tweaks and improvements to be made!"
   ]
  },
  {
   "cell_type": "code",
   "execution_count": 17,
   "metadata": {
    "id": "D1hamzGaR6yy"
   },
   "outputs": [],
   "source": [
    "RAG_PROMPT_TEMPLATE = \"\"\" \\\n",
    "Use the provided context to answer the user's query.\n",
    "\n",
    "You may not answer the user's query unless there is specific context in the following text.\n",
    "\n",
    "If you do not know the answer, or cannot answer, please respond with \"I don't know\".\n",
    "\"\"\"\n",
    "\n",
    "rag_prompt = SystemRolePrompt(RAG_PROMPT_TEMPLATE)\n",
    "\n",
    "USER_PROMPT_TEMPLATE = \"\"\" \\\n",
    "Context:\n",
    "{context}\n",
    "\n",
    "User Query:\n",
    "{user_query}\n",
    "\"\"\"\n",
    "\n",
    "\n",
    "user_prompt = UserRolePrompt(USER_PROMPT_TEMPLATE)\n",
    "\n",
    "class RetrievalAugmentedQAPipeline:\n",
    "    def __init__(self, llm: ChatOpenAI(), vector_db_retriever: VectorDatabase) -> None:\n",
    "        self.llm = llm\n",
    "        self.vector_db_retriever = vector_db_retriever\n",
    "\n",
    "    def run_pipeline(self, user_query: str) -> str:\n",
    "        context_list = self.vector_db_retriever.search_by_text(user_query, k=4)\n",
    "\n",
    "        context_prompt = \"\"\n",
    "        for context in context_list:\n",
    "            context_prompt += context[0] + \"\\n\"\n",
    "\n",
    "        formatted_system_prompt = rag_prompt.create_message()\n",
    "\n",
    "        formatted_user_prompt = user_prompt.create_message(user_query=user_query, context=context_prompt)\n",
    "\n",
    "        return {\"response\" : self.llm.run([formatted_system_prompt, formatted_user_prompt]), \"context\" : context_list}"
   ]
  },
  {
   "cell_type": "markdown",
   "metadata": {
    "id": "zZIJI19uR6yz"
   },
   "source": [
    "#### ❓ Question #4:\n",
    "\n",
    "What prompting strategies could you use to make the LLM have a more thoughtful, detailed response?\n",
    "\n",
    "What is that strategy called?\n",
    "\n",
    "> NOTE: You can look through the Week 1 Day 1 \"Prompting OpenAI Like A Developer\" material for an answer to this question!\n",
    "\n",
    "There are many ways to obtain more thoughtful and detailed responses. One strategy is called **\"Chain of thought Prompting\"** which essentially asks the LLM to \"think through your response step-by-step\" and explain each step. This can additioanlly be augmented with \n",
    "**few-shot-examples** which reason through similar problems. "
   ]
  },
  {
   "cell_type": "code",
   "execution_count": 18,
   "metadata": {
    "id": "kqbE9fZ6R6yz"
   },
   "outputs": [],
   "source": [
    "retrieval_augmented_qa_pipeline = RetrievalAugmentedQAPipeline(\n",
    "    vector_db_retriever=vector_db,\n",
    "    llm=chat_openai\n",
    ")"
   ]
  },
  {
   "cell_type": "code",
   "execution_count": 19,
   "metadata": {
    "colab": {
     "base_uri": "https://localhost:8080/"
    },
    "id": "jAGhaCGOR6yz",
    "outputId": "e4fb3a1b-d2bc-4e18-ec31-dc0adf767163"
   },
   "outputs": [
    {
     "data": {
      "text/plain": [
       "{'response': \"The 'Michael Eisner Memorial Weak Executive Problem' refers to the tendency of a CEO or founder to hire a weak executive for a particular function they previously excelled in, often as a way to maintain control or prominence in that area. The term is named after Michael Eisner, the former CEO of Disney, who, despite being a successful TV network executive, struggled when he bought ABC, leading it to drop to fourth place. His remark about needing more time to turn it around highlights the challenges that arise when leaders fail to delegate effectively and instead hire individuals who may not be as strong, allowing the leader to remain the focal point.\",\n",
       " 'context': [('ordingly.\\nSeventh, when hiring the executive to run your former specialty, be\\ncareful you don’t hire someone weak on purpose.\\nThis sounds silly, but you wouldn’t believe how oaen it happens.\\nThe CEO who used to be a product manager who has a weak\\nproduct management executive. The CEO who used to be in\\nsales who has a weak sales executive. The CEO who used to be\\nin marketing who has a weak marketing executive.\\nI call this the “Michael Eisner Memorial Weak Executive Problem” — aaer the CEO of Disney who had previously been a brilliant TV network executive. When he bought ABC at Disney, it\\npromptly fell to fourth place. His response? “If I had an extra\\ntwo days a week, I could turn around ABC myself.” Well, guess\\nwhat, he didn’t have an extra two days a week.\\nA CEO — or a startup founder — oaen has a hard time letting\\ngo of the function that brought him to the party. The result: you\\nhire someone weak into the executive role for that function so\\nthat you can continue to be “the man” — cons',\n",
       "   0.6582163021048177),\n",
       "  ('m. They have areas where they are truly deXcient in judgment or skill set. That’s just life. Almost nobody is brilliant\\nat everything. When hiring and when Hring executives, you\\nmust therefore focus on strength rather than lack of weakness. Everybody has severe weaknesses even if you can’t see\\nthem yet. When managing, it’s oaen useful to micromanage and\\nto provide remedial training around these weaknesses. Doing so\\nmay make the diWerence between an executive succeeding or\\nfailing.\\nFor example, you might have a brilliant engineering executive\\nwho generates excellent team loyalty, has terriXc product judgment and makes the trains run on time. This same executive\\nmay be very poor at relating to the other functions in the company. She may generate far more than her share of cross-functional conYicts, cut herself oW from critical information, and\\nsigniXcantly impede your ability to sell and market eWectively.\\nYour alternatives are:\\n(a) Macro-manage and give her an annual or quarterly object',\n",
       "   0.5088574819783973),\n",
       "  ('ed?\\nIn reality — as opposed to Marc’s warped view of reality — it will\\nbe extremely helpful for Marc [if he were actually the CEO,\\nwhich he is not] to meet with the new head of engineering daily\\nwhen she comes on board and review all of her thinking and\\ndecisions. This level of micromanagement will accelerate her\\ntraining and improve her long-term eWectiveness. It will make\\nher seem smarter to the rest of the organization which will build\\ncredibility and conXdence while she comes up to speed. Micromanaging new executives is generally a good idea for a limited\\nperiod of time.\\nHowever, that is not the only time that it makes sense to micro66 The Pmarca Blog Archives\\nmanage executives. It turns out that just about every executive\\nin the world has a few things that are seriously wrong with\\nthem. They have areas where they are truly deXcient in judgment or skill set. That’s just life. Almost nobody is brilliant\\nat everything. When hiring and when Hring executives, you\\nmust therefore focus o',\n",
       "   0.47896513497939264),\n",
       "  ('nYicts, cut herself oW from critical information, and\\nsigniXcantly impede your ability to sell and market eWectively.\\nYour alternatives are:\\n(a) Macro-manage and give her an annual or quarterly objective\\nto Xx it, or…\\n(b) Intensively micromanage her interactions until she learns\\nthe fundamental interpersonal skills required to be an eWective\\nexecutive.\\nI am arguing that doing (a) will likely result in weak performance. The reason is that she very likely has no idea how to be\\neWective with her peers. If somebody is an executive, it’s very\\nlikely that somewhere along the line somebody gave her feedback — perhaps abstractly — about all of her weaknesses. Yet\\nthe weakness remains. As a result, executives generally require\\nmore hands-on management than lower level employees to\\nimprove weak areas.\\nSo, micromanagement is like Xne wine. A little at the right times\\nwill really enhance things; too much all the time and you’ll end\\nup in rehab.\\nPart 8: Hiring, managing, promoting, and Dring execut',\n",
       "   0.46812030376882846)]}"
      ]
     },
     "execution_count": 19,
     "metadata": {},
     "output_type": "execute_result"
    }
   ],
   "source": [
    "retrieval_augmented_qa_pipeline.run_pipeline(\"What is the 'Michael Eisner Memorial Weak Executive Problem'?\")"
   ]
  },
  {
   "cell_type": "markdown",
   "metadata": {},
   "source": [
    "### 🏗️ Activity #1:\n",
    "\n",
    "Enhance your RAG application in some way! \n",
    "\n",
    "Suggestions are: \n",
    "\n",
    "- Allow it to work with PDF files\n",
    "- Implement a new distance metric\n",
    "- Add metadata support to the vector database\n",
    "\n",
    "While these are suggestions, you should feel free to make whatever augmentations you desire! \n",
    "\n",
    "> NOTE: These additions might require you to work within the `aimakerspace` library - that's expected!"
   ]
  },
  {
   "cell_type": "markdown",
   "metadata": {},
   "source": [
    "I implemented custom similarity measure support in `vectordatabase.py`. One sample implementation I added is `euclidean_similarity` which uses euclidean distance to compute a similarity measure. "
   ]
  },
  {
   "cell_type": "code",
   "execution_count": 21,
   "metadata": {},
   "outputs": [
    {
     "name": "stdout",
     "output_type": "stream",
     "text": [
      "Downloaded pdf to 2205.13147.pdf\n"
     ]
    }
   ],
   "source": [
    "### PDF handling\n",
    "import requests\n",
    "\n",
    "# Streaming download code inspired from https://stackoverflow.com/questions/16694907/download-large-file-in-python-with-requests\n",
    "def download_pdf(url):\n",
    "    local_filename = url.split('/')[-1]\n",
    "    if not local_filename.endswith('.pdf'):\n",
    "        local_filename += '.pdf'\n",
    "    with requests.get(url, stream=True) as r:\n",
    "        r.raise_for_status()\n",
    "        with open(local_filename, 'wb') as f:\n",
    "            for chunk in r.iter_content(chunk_size=8192): \n",
    "                f.write(chunk)\n",
    "    return local_filename\n",
    "\n",
    "MRL_PAPER = \"https://arxiv.org/pdf/2205.13147\"\n",
    "file = download_pdf(MRL_PAPER)\n",
    "print(f\"Downloaded pdf to {file}\")"
   ]
  },
  {
   "cell_type": "code",
   "execution_count": 22,
   "metadata": {},
   "outputs": [
    {
     "name": "stdout",
     "output_type": "stream",
     "text": [
      "Collecting pypdf\n",
      "  Downloading pypdf-4.3.1-py3-none-any.whl.metadata (7.4 kB)\n",
      "Requirement already satisfied: typing_extensions>=4.0 in /opt/miniconda3/envs/py3/lib/python3.10/site-packages (from pypdf) (4.12.2)\n",
      "Downloading pypdf-4.3.1-py3-none-any.whl (295 kB)\n",
      "Installing collected packages: pypdf\n",
      "Successfully installed pypdf-4.3.1\n"
     ]
    }
   ],
   "source": [
    "!pip install pypdf"
   ]
  },
  {
   "cell_type": "code",
   "execution_count": 23,
   "metadata": {},
   "outputs": [],
   "source": [
    "# https://www.geeksforgeeks.org/working-with-pdf-files-in-python/\n",
    "from pypdf import PdfReader\n",
    "def read_pdf(filename, num_pages=None):\n",
    "    \"\"\"Reads pdf at `filename` and returns contents as a text string\"\"\"\n",
    "    reader = PdfReader(filename)\n",
    "    text = \"\"\n",
    "    pagenum = 0\n",
    "    pagesep = \"\\n\\n\\n\"\n",
    "    for page in reader.pages:\n",
    "        text += page.extract_text() + pagesep\n",
    "        pagenum += 1\n",
    "        if num_pages is not None and pagenum > num_pages:\n",
    "            break\n",
    "    return text"
   ]
  },
  {
   "cell_type": "code",
   "execution_count": 25,
   "metadata": {},
   "outputs": [],
   "source": [
    "content = read_pdf(file, num_pages=3)"
   ]
  },
  {
   "cell_type": "code",
   "execution_count": 26,
   "metadata": {},
   "outputs": [
    {
     "name": "stdout",
     "output_type": "stream",
     "text": [
      "Matryoshka Representation Learning\n",
      "Aditya Kusupati∗†⋄, Gantavya Bhatt∗†, Aniket Rege∗†,\n",
      "Matthew Wallingford†, Aditya Sinha⋄, Vivek Ramanujan†, William Howard-Snyder†,\n",
      "Kaifeng Chen⋄, Sham Kakade‡, Prateek Jain⋄and Ali Farhadi†\n",
      "†University of Washington,⋄Google Research,‡Harvard University\n",
      "{kusupati,ali}@cs.washington.edu ,prajain@google.com\n",
      "Abstract\n",
      "Learned representations are a central component in modern ML systems, serv-\n",
      "ing a multitude of downstream tasks. When training such representations, it\n",
      "is often the case that computational and statistical constraints for each down-\n",
      "stream task are unknown. In this context, rigid fixed-capacity representations\n",
      "can be either over or under-accommodating to the task at hand. This leads us\n",
      "to ask: can we design a flexible representation that can adapt to multiple down-\n",
      "stream tasks with varying computational resources? Our main contribution is\n",
      "Matryoshka Representation Learning (MRL ) which encodes information at\n",
      "different granularities and allows a single embedding to adapt to the computational\n",
      "constraints of downstream tasks. MRL minimally modifies existing representation\n",
      "learning pipelines and imposes no additional cost during inference and deployment.\n",
      "MRL learns coarse-to-fine representations that are at least as accurate and rich as\n",
      "independently trained low-dimensional representations. The flexibility within the\n",
      "learned Matryoshka Representations offer: (a) up to 14×smaller embedding\n",
      "size for ImageNet-1K classification at the same level of accuracy; (b) up to 14×\n",
      "real-world speed-ups for large-scale retrieval on ImageNet-1K and 4K; and (c) up\n",
      "to2% accuracy improvements for long-tail few-shot classification, all while being\n",
      "as robust as the original representations. Finally, we show that MRL extends seam-\n",
      "lessly to web-scale datasets (ImageNet, JFT) across various modalities – vision\n",
      "(ViT, ResNet), vision + language (ALIGN) and language (BERT). MRL code and\n",
      "pretrained models are open-sourced at https://github.com/RAIVNLab/MRL .\n",
      "1 Introduction\n",
      "Learned representations [ 57] are fundamental building blocks of real-world ML systems [ 66,91].\n",
      "Trained once and frozen, d-dimensional representations encode rich information and can be used\n",
      "to perform multiple downstream tasks [ 4]. The deployment of deep representations has two steps:\n",
      "(1) an expensive yet constant-cost forward pass to compute the representation [ 29] and (2) utilization\n",
      "of the representation for downstream applications [ 50,89]. Compute costs for the latter part of the\n",
      "pipeline scale with the embedding dimensionality as well as the data size ( N) and label space ( L).\n",
      "At web-scale [ 15,85] this utilization cost overshadows the feature computation cost. The rigidity in\n",
      "these representations forces the use of high-dimensional embedding vectors across multiple tasks\n",
      "despite the varying resource and accuracy constraints that require flexibility.\n",
      "Human perception of the natural world has a naturally coarse-to-fine granularity [ 28,32]. However,\n",
      "perhaps due to the inductive bias of gradient-based training [ 84], deep learning models tend to diffuse\n",
      "“information” across the entire representation vector. The desired elasticity is usually enabled in the\n",
      "existing flat and fixed representations either through training multiple low-dimensional models [ 29],\n",
      "jointly optimizing sub-networks of varying capacity [ 9,100] or post-hoc compression [ 38,60]. Each\n",
      "of these techniques struggle to meet the requirements for adaptive large-scale deployment either\n",
      "∗Equal contribution – AK led the project with extensive support from GB and AR for experimentation.\n",
      "36th Conference on Neural Information Processing Systems (NeurIPS 2022).arXiv:2205.13147v4  [cs.LG]  8 Feb 2024\n",
      "\n",
      "\n",
      "due to training/maintenance overhead, numerous expensive forward passes through all of the data,\n",
      "storage and memory cost for multiple copies of encoded data, expensive on-the-fly feature selection\n",
      "or a significant drop in accuracy. By encoding coarse-to-fine-grained representations, which are as\n",
      "accurate as the independently trained counterparts, we learn with minimal overhead a representation\n",
      "that can be deployed adaptively at no additional cost during inference.\n",
      "We introduce\n",
      " Matryoshka Representation Learning (MRL ) to induce flexibility in the learned\n",
      "representation. MRL learns representations of varying capacities within the same high-dimensional\n",
      "vector through explicit optimization of O(log(d))lower-dimensional vectors in a nested fashion,\n",
      "hence the name Matryoshka .MRL can be adapted to any existing representation pipeline and\n",
      "is easily extended to many standard tasks in computer vision and natural language processing.\n",
      "Figure 1 illustrates the core idea of Matryoshka Representation Learning (MRL ) and the adaptive\n",
      "deployment settings of the learned Matryoshka Representations .\n",
      "Adaptive RetrievalShortlistingRe-ranking\n",
      "Adaptive ClassificationTrainingInference\n",
      "<latexit sha1_base64=\"eh9hk+peBkdsPY6v+r4rONmxYLY=\">AAAB7nicbVBNSwMxEJ2tX7V+VT16CRbBU9kVoR6LXjxWsB/QLiWbZtvQbBKSrFCW/ggvHhTx6u/x5r8x2+5BWx8MPN6bYWZepDgz1ve/vdLG5tb2Tnm3srd/cHhUPT7pGJlqQttEcql7ETaUM0HblllOe0pTnEScdqPpXe53n6g2TIpHO1M0TPBYsJgRbJ3UHUjFU1MZVmt+3V8ArZOgIDUo0BpWvwYjSdKECks4NqYf+MqGGdaWEU7nlUFqqMJkise076jACTVhtjh3ji6cMkKx1K6ERQv190SGE2NmSeQ6E2wnZtXLxf+8fmrjmzBjQqWWCrJcFKccWYny39GIaUosnzmCiWbuVkQmWGNiXUJ5CMHqy+ukc1UP/HrwcF1r3hZxlOEMzuESAmhAE+6hBW0gMIVneIU3T3kv3rv3sWwtecXMKfyB9/kDBrKPWQ==</latexit>\n",
      "<latexit sha1_base64=\"szvlzTDYQEH5M/GSBtp0D9XaTiU=\">AAAB/HicbVDLSsNAFL2pr1pf0S7dDBahbkoiguKq6MaFiwr2AW0Ik8m0HTp5MDMRYqi/4saFIm79EHf+jZM2C209MHA4517umePFnEllWd9GaWV1bX2jvFnZ2t7Z3TP3DzoySgShbRLxSPQ8LClnIW0rpjjtxYLiwOO0602uc7/7QIVkUXiv0pg6AR6FbMgIVlpyzeogwGpMMEe39Uc3sy/96Ylr1qyGNQNaJnZBalCg5ZpfAz8iSUBDRTiWsm9bsXIyLBQjnE4rg0TSGJMJHtG+piEOqHSyWfgpOtaKj4aR0C9UaKb+3shwIGUaeHoyjyoXvVz8z+snanjhZCyME0VDMj80TDhSEcqbQD4TlCieaoKJYDorImMsMFG6r4ouwV788jLpnDZsq2HfndWaV0UdZTiEI6iDDefQhBtoQRsIpPAMr/BmPBkvxrvxMR8tGcVOFf7A+PwBd6WT/A==</latexit> <latexit sha1_base64=\"EDzxxYGdFHE0OT/8r1yzvduiKkY=\">AAAB/nicbVDLSsNAFL2pr1pfUXHlZrAIdVOTIiiuim5cuKhgH9CGMJlM26GTBzMToYaCv+LGhSJu/Q53/o2TNgttPTBwOOde7pnjxZxJZVnfRmFpeWV1rbhe2tjc2t4xd/daMkoEoU0S8Uh0PCwpZyFtKqY47cSC4sDjtO2NrjO//UCFZFF4r8YxdQI8CFmfEay05JoHvQCrIcEc3VYe3dS+9E9rkxPXLFtVawq0SOyclCFHwzW/en5EkoCGinAsZde2YuWkWChGOJ2UeomkMSYjPKBdTUMcUOmk0/gTdKwVH/UjoV+o0FT9vZHiQMpx4OnJLKyc9zLxP6+bqP6Fk7IwThQNyexQP+FIRSjrAvlMUKL4WBNMBNNZERligYnSjZV0Cfb8lxdJq1a1rap9d1auX+V1FOEQjqACNpxDHW6gAU0gkMIzvMKb8WS8GO/Gx2y0YOQ7+/AHxucPYdOUcQ==</latexit> <latexit sha1_base64=\"GlggPMD8z4lB+hiIvM4R0NcwGwo=\">AAAB/nicbVDLSsNAFL2pr1pfUXHlZrAIdVMTKSiuim5cuKhgH9CGMJlM26GTBzMToYaCv+LGhSJu/Q53/o2TNgttPTBwOOde7pnjxZxJZVnfRmFpeWV1rbhe2tjc2t4xd/daMkoEoU0S8Uh0PCwpZyFtKqY47cSC4sDjtO2NrjO//UCFZFF4r8YxdQI8CFmfEay05JoHvQCrIcEc3VYe3dS+9E9rkxPXLFtVawq0SOyclCFHwzW/en5EkoCGinAsZde2YuWkWChGOJ2UeomkMSYjPKBdTUMcUOmk0/gTdKwVH/UjoV+o0FT9vZHiQMpx4OnJLKyc9zLxP6+bqP6Fk7IwThQNyexQP+FIRSjrAvlMUKL4WBNMBNNZERligYnSjZV0Cfb8lxdJ66xqW1X7rlauX+V1FOEQjqACNpxDHW6gAU0gkMIzvMKb8WS8GO/Gx2y0YOQ7+/AHxucPZN+Ucw==</latexit> <latexit sha1_base64=\"tEtInXKd9mqmi/oFctu/VjSe+v0=\">AAAB/nicbVDLSsNAFL2pr1pfUXHlZrAIdVMTESyuim5cuKhgH9CGMJlM26GTBzMToYaCv+LGhSJu/Q53/o2TNgttPTBwOOde7pnjxZxJZVnfRmFpeWV1rbhe2tjc2t4xd/daMkoEoU0S8Uh0PCwpZyFtKqY47cSC4sDjtO2NrjO//UCFZFF4r8YxdQI8CFmfEay05JoHvQCrIcEc3VYe3dS+9E9rkxPXLFtVawq0SOyclCFHwzW/en5EkoCGinAsZde2YuWkWChGOJ2UeomkMSYjPKBdTUMcUOmk0/gTdKwVH/UjoV+o0FT9vZHiQMpx4OnJLKyc9zLxP6+bqH7NSVkYJ4qGZHaon3CkIpR1gXwmKFF8rAkmgumsiAyxwETpxkq6BHv+y4ukdVa1rap9d16uX+V1FOEQjqACNlxAHW6gAU0gkMIzvMKb8WS8GO/Gx2y0YOQ7+/AHxucPaveUdw==</latexit> <latexit sha1_base64=\"dyCsZ/ny7rQzKcXztjElUtg2QPg=\">AAAB/3icbVDLSgMxFM3UV62vUcGNm2AR6qZORFRcFd24cFHBPqAdhkwmbUMzmSHJCHXswl9x40IRt/6GO//GTDsLrR4IHM65l3ty/JgzpR3nyyrMzS8sLhWXSyura+sb9uZWU0WJJLRBIh7Jto8V5UzQhmaa03YsKQ59Tlv+8DLzW3dUKhaJWz2KqRvivmA9RrA2kmfvdEOsBwRzeF2591J0Hhyik/GBZ5edqjMB/EtQTsogR92zP7tBRJKQCk04VqqDnFi7KZaaEU7HpW6iaIzJEPdpx1CBQ6rcdJJ/DPeNEsBeJM0TGk7UnxspDpUahb6ZzNKqWS8T//M6ie6duSkTcaKpINNDvYRDHcGsDBgwSYnmI0MwkcxkhWSAJSbaVFYyJaDZL/8lzaMqcqro5rhcu8jrKIJdsAcqAIFTUANXoA4agIAH8ARewKv1aD1bb9b7dLRg5Tvb4Besj2/eCZSw</latexit>\n",
      "<latexit sha1_base64=\"OPHM4ACsGr0VI7qMpDgoN+t2ICI=\">AAAB9XicbVDLSgMxFL3xWeur6tJNsAh1U2ZE0GXRjQsXFewD2rFk0kwbmskMSUapQ//DjQtF3Pov7vwbM+0stPVA4HDOvdyT48eCa+M432hpeWV1bb2wUdzc2t7ZLe3tN3WUKMoaNBKRavtEM8ElaxhuBGvHipHQF6zlj64yv/XAlOaRvDPjmHkhGUgecEqMle67ITHDQJERvqk8nfRKZafqTIEXiZuTMuSo90pf3X5Ek5BJQwXRuuM6sfFSogyngk2K3USzmNARGbCOpZKETHvpNPUEH1ulj4NI2ScNnqq/N1ISaj0OfTuZpdTzXib+53USE1x4KZdxYpiks0NBIrCJcFYB7nPFqBFjSwhV3GbFdEgUocYWVbQluPNfXiTN06rrVN3bs3LtMq+jAIdwBBVw4RxqcA11aAAFBc/wCm/oEb2gd/QxG11C+c4B/AH6/AGZEJHn</latexit>\n",
      "Figure 1:\n",
      " Matryoshka Representation Learning is\n",
      "adaptable to any representation learning setup and begets\n",
      "aMatryoshka Representation zby optimizing the orig-\n",
      "inal loss L(.)atO(log(d))chosen representation sizes.\n",
      "Matryoshka Representation can be utilized effectively for adap-\n",
      "tive deployment across environments and downstream tasks.The first m-dimensions, m∈[d], of\n",
      "theMatryoshka Representation is\n",
      "an information-rich low-dimensional\n",
      "vector, at no additional training cost,\n",
      "that is as accurate as an indepen-\n",
      "dently trained m-dimensional repre-\n",
      "sentation. The information within\n",
      "theMatryoshka Representation in-\n",
      "creases with the dimensionality creat-\n",
      "ing a coarse-to-fine grained represen-\n",
      "tation, all without significant training\n",
      "or additional deployment overhead.\n",
      "MRL equips the representation vector\n",
      "with the desired flexibility and multi-\n",
      "fidelity that can ensure a near-optimal\n",
      "accuracy-vs-compute trade-off. With\n",
      "these advantages, MRL enables adap-\n",
      "tive deployment based on accuracy\n",
      "and compute constraints.\n",
      "TheMatryoshka Representations improve efficiency for large-scale classification and retrieval\n",
      "without any significant loss of accuracy. While there are potentially several applications of coarse-to-\n",
      "fineMatryoshka Representations , in this work we focus on two key building blocks of real-world\n",
      "ML systems: large-scale classification and retrieval. For classification, we use adaptive cascades with\n",
      "the variable-size representations from a model trained with MRL , significantly reducing the average\n",
      "dimension of embeddings needed to achieve a particular accuracy. For example, on ImageNet-1K,\n",
      "MRL + adaptive classification results in up to a 14×smaller representation size at the same accuracy\n",
      "as baselines (Section 4.2.1). Similarly, we use MRL in an adaptive retrieval system. Given a query,\n",
      "we shortlist retrieval candidates using the first few dimensions of the query embedding, and then\n",
      "successively use more dimensions to re-rank the retrieved set. A simple implementation of this\n",
      "approach leads to 128×theoretical (in terms of FLOPS) and 14×wall-clock time speedups compared\n",
      "to a single-shot retrieval system that uses a standard embedding vector; note that MRL ’s retrieval\n",
      "accuracy is comparable to that of single-shot retrieval (Section 4.3.1). Finally, as MRL explicitly\n",
      "learns coarse-to-fine representation vectors, intuitively it should share more semantic information\n",
      "among its various dimensions (Figure 5). This is reflected in up to 2%accuracy gains in long-tail\n",
      "continual learning settings while being as robust as the original embeddings. Furthermore, due to its\n",
      "coarse-to-fine grained nature, MRL can also be used as method to analyze hardness of classification\n",
      "among instances and information bottlenecks.\n",
      "We make the following key contributions:\n",
      "1.We introduce\n",
      " Matryoshka Representation Learning (MRL ) to obtain flexible representa-\n",
      "tions ( Matryoshka Representations ) for adaptive deployment (Section 3).\n",
      "2. Up to 14×faster yet accurate large-scale classification and retrieval using MRL (Section 4).\n",
      "3.Seamless adaptation of MRL across modalities (vision - ResNet & ViT, vision + language -\n",
      "ALIGN, language - BERT) and to web-scale data (ImageNet-1K/4K, JFT-300M and ALIGN data).\n",
      "4. Further analysis of MRL ’s representations in the context of other downstream tasks (Section 5).\n",
      "2\n",
      "\n",
      "\n",
      "2 Related Work\n",
      "Representation Learning. Large-scale datasets like ImageNet [ 16,76] and JFT [ 85] enabled\n",
      "the learning of general purpose representations for computer vision [ 4,98]. These representations\n",
      "are typically learned through supervised and un/self-supervised learning paradigms. Supervised\n",
      "pretraining [ 29,51,82] casts representation learning as a multi-class/label classification problem,\n",
      "while un/self-supervised learning learns representation via proxy tasks like instance classification [ 97]\n",
      "and reconstruction [ 31,63]. Recent advances [ 12,30] in contrastive learning [ 27] enabled learning\n",
      "from web-scale data [ 21] that powers large-capacity cross-modal models [ 18,46,71,101]. Similarly,\n",
      "natural language applications are built [ 40] on large language models [ 8] that are pretrained [ 68,75]\n",
      "in a un/self-supervised fashion with masked language modelling [ 19] or autoregressive training [ 70].\n",
      "Matryoshka Representation Learning (MRL ) is complementary to all these setups and can be\n",
      "adapted with minimal overhead (Section 3). MRL equips representations with multifidelity at no\n",
      "additional cost which enables adaptive deployment based on the data and task (Section 4).\n",
      "Efficient Classification and Retrieval. Efficiency in classification and retrieval during inference\n",
      "can be studied with respect to the high yet constant deep featurization costs or the search cost which\n",
      "scales with the size of the label space and data. Efficient neural networks address the first issue\n",
      "through a variety of algorithms [ 25,54] and design choices [ 39,53,87]. However, with a strong\n",
      "featurizer, most of the issues with scale are due to the linear dependence on number of labels ( L), size\n",
      "of the data ( N) and representation size ( d), stressing RAM, disk and processor all at the same time.\n",
      "The sub-linear complexity dependence on number of labels has been well studied in context of\n",
      "compute [ 3,43,69] and memory [ 20] using Approximate Nearest Neighbor Search (ANNS) [ 62] or\n",
      "leveraging the underlying hierarchy [ 17,55]. In case of the representation size, often dimensionality\n",
      "reduction [ 77,88], hashing techniques [ 14,52,78] and feature selection [ 64] help in alleviating\n",
      "selective aspects of the O(d)scaling at a cost of significant drops in accuracy. Lastly, most real-world\n",
      "search systems [ 11,15] are often powered by large-scale embedding based retrieval [ 10,66] that\n",
      "scales in cost with the ever increasing web-data. While categorization [ 89,99] clusters similar things\n",
      "together, it is imperative to be equipped with retrieval capabilities that can bring forward every\n",
      "instance [ 7]. Approximate Nearest Neighbor Search (ANNS) [ 42] makes it feasible with efficient\n",
      "indexing [ 14] and traversal [ 5,6] to present the users with the most similar documents/images from\n",
      "the database for a requested query. Widely adopted HNSW [ 62] (O(dlog(N))) is as accurate as\n",
      "exact retrieval ( O(dN)) at the cost of a graph-based index overhead for RAM and disk [44].\n",
      "MRL tackles the linear dependence on embedding size, d, by learning multifidelity\n",
      "Matryoshka Representations . Lower-dimensional Matryoshka Representations are as accu-\n",
      "rate as independently trained counterparts without the multiple expensive forward passes.\n",
      "Matryoshka Representations provide an intermediate abstraction between high-dimensional vec-\n",
      "tors and their efficient ANNS indices through the adaptive embeddings nested within the original\n",
      "representation vector (Section 4). All other aforementioned efficiency techniques are complementary\n",
      "and can be readily applied to the learned Matryoshka Representations obtained from MRL .\n",
      "Several works in efficient neural network literature [ 9,93,100] aim at packing neural networks of\n",
      "varying capacity within the same larger network. However, the weights for each progressively smaller\n",
      "network can be different and often require distinct forward passes to isolate the final representations.\n",
      "This is detrimental for adaptive inference due to the need for re-encoding the entire retrieval database\n",
      "with expensive sub-net forward passes of varying capacities. Several works [ 23,26,65,59] investigate\n",
      "the notions of intrinsic dimensionality and redundancy of representations and objective spaces pointing\n",
      "to minimum description length [ 74]. Finally, ordered representations proposed by Rippel et al. [73]\n",
      "use nested dropout in the context of autoencoders to learn nested representations. MRL differentiates\n",
      "itself in formulation by optimizing only for O(log(d))nesting dimensions instead of O(d). Despite\n",
      "this, MRL diffuses information to intermediate dimensions interpolating between the optimized\n",
      "Matryoshka Representation sizes accurately (Figure 5); making web-scale feasible.\n",
      "3\n",
      " Matryoshka Representation Learning\n",
      "Ford∈N, consider a set M ⊂ [d]of representation sizes. For a datapoint xin the input do-\n",
      "mainX, our goal is to learn a d-dimensional representation vector z∈Rd. For every m∈ M ,\n",
      "3\n",
      "\n",
      "\n",
      "Matryoshka Representation Learning (MRL ) enables each of the first mdimensions of the em-\n",
      "bedding vector, z1:m∈Rmto be independently capable of being a transferable and general purpose\n",
      "representation of the datapoint x. We obtain zusing a deep neural network F(·;θF):X →Rd\n",
      "parameterized by learnable weights θF, i.e.,z:=F(x;θF). The multi-granularity is captured through\n",
      "the set of the chosen dimensions M, that contains less than log(d)elements, i.e., |M| ≤ ⌊ log(d)⌋.\n",
      "The usual set Mconsists of consistent halving until the representation size hits a low information\n",
      "bottleneck. We discuss the design choices in Section 4 for each of the representation learning settings.\n",
      "For the ease of exposition, we present the formulation for fully supervised representation learning\n",
      "via multi-class classification. Matryoshka Representation Learning modifies the typical setting\n",
      "to become a multi-scale representation learning problem on the same task. For example, we train\n",
      "ResNet50 [ 29] on ImageNet-1K [ 76] which embeds a 224×224pixel image into a d= 2048\n",
      "representation vector and then passed through a linear classifier to make a prediction, ˆyamong the\n",
      "L= 1000 labels. For MRL , we choose M={8,16, . . . , 1024,2048}as the nesting dimensions.\n",
      "Suppose we are given a labelled dataset D={(x1, y1), . . . , (xN, yN)}where xi∈ X is an input\n",
      "point and yi∈[L]is the label of xifor all i∈[N].MRL optimizes the multi-class classification loss\n",
      "for each of the nested dimension m∈ M using standard empirical risk minimization using a separate\n",
      "linear classifier, parameterized by W(m)∈RL×m. All the losses are aggregated after scaling with\n",
      "their relative importance (cm≥0)m∈Mrespectively. That is, we solve\n",
      "min\n",
      "{W(m)}m∈M, θF1\n",
      "NX\n",
      "i∈[N]X\n",
      "m∈Mcm· L\u0010\n",
      "W(m)·F(xi;θF)1:m;yi\u0011\n",
      ", (1)\n",
      "whereL:RL×[L]→R+is the multi-class softmax cross-entropy loss function. This is a standard\n",
      "optimization problem that can be solved using sub-gradient descent methods. We set all the impor-\n",
      "tance scales, cm= 1for all m∈ M ; see Section 5 for ablations. Lastly, despite only optimizing\n",
      "forO(log(d))nested dimensions, MRL results in accurate representations, that interpolate, for\n",
      "dimensions that fall between the chosen granularity of the representations (Section 4.2).\n",
      "We call this formulation as Matryoshka Representation Learning (MRL ). A natural way to make\n",
      "this efficient is through weight-tying across all the linear classifiers, i.e., by defining W(m)=W1:m\n",
      "for a set of common weights W∈RL×d. This would reduce the memory cost due to the linear\n",
      "classifiers by almost half, which would be crucial in cases of extremely large output spaces [ 89,99].\n",
      "This variant is called Efficient Matryoshka Representation Learning (MRL –E). Refer to Alg 1\n",
      "and Alg 2 in Appendix A for the building blocks of Matryoshka Representation Learning (MRL ).\n",
      "Adaptation to Learning Frameworks. MRL can be adapted seamlessly to most representation\n",
      "learning frameworks at web-scale with minimal modifications (Section 4.1). For example, MRL ’s\n",
      "adaptation to masked language modelling reduces to MRL –Edue to the weight-tying between the\n",
      "input embedding matrix and the linear classifier. For contrastive learning, both in context of vision &\n",
      "vision + language, MRL is applied to both the embeddings that are being contrasted with each other.\n",
      "The presence of normalization on the representation needs to be handled independently for each of\n",
      "the nesting dimension for best results (see Appendix C for more details).\n",
      "4 Applications\n",
      "In this section, we discuss Matryoshka Representation Learning (MRL ) for a diverse set of ap-\n",
      "plications along with an extensive evaluation of the learned multifidelity representations. Further,\n",
      "we showcase the downstream applications of the learned Matryoshka Representations for flexible\n",
      "large-scale deployment through (a) Adaptive Classification (AC) and (b) Adaptive Retrieval (AR).\n",
      "4.1 Representation Learning\n",
      "We adapt Matryoshka Representation Learning (MRL ) to various representation learning setups\n",
      "(a) Supervised learning for vision: ResNet50 [ 29] on ImageNet-1K [ 76] and ViT-B/16 [ 22] on\n",
      "JFT-300M [ 85], (b) Contrastive learning for vision + language: ALIGN model with ViT-B/16 vision\n",
      "encoder and BERT language encoder on ALIGN data [ 46] and (c) Masked language modelling:\n",
      "BERT [ 19] on English Wikipedia and BooksCorpus [ 102]. Please refer to Appendices B and C for\n",
      "details regarding the model architectures, datasets and training specifics.\n",
      "4\n",
      "\n",
      "\n",
      "\n"
     ]
    }
   ],
   "source": [
    "print(content)"
   ]
  },
  {
   "cell_type": "code",
   "execution_count": null,
   "metadata": {},
   "outputs": [],
   "source": []
  },
  {
   "cell_type": "code",
   "execution_count": 27,
   "metadata": {},
   "outputs": [
    {
     "data": {
      "text/plain": [
       "27"
      ]
     },
     "execution_count": 27,
     "metadata": {},
     "output_type": "execute_result"
    }
   ],
   "source": [
    "# Create split content from pdf content\n",
    "pdf_documents = [content]\n",
    "text_splitter = CharacterTextSplitter()\n",
    "split_documents = text_splitter.split_texts(pdf_documents)\n",
    "len(split_documents)"
   ]
  },
  {
   "cell_type": "code",
   "execution_count": 28,
   "metadata": {},
   "outputs": [],
   "source": [
    "# Create vectordb of pdf content\n",
    "pdfdb = VectorDatabase()\n",
    "pdfdb = asyncio.run(vector_db.abuild_from_list(split_documents))"
   ]
  },
  {
   "cell_type": "code",
   "execution_count": 29,
   "metadata": {},
   "outputs": [],
   "source": [
    "# Build RAG pipeline \n",
    "pdf_rag_qa_pipeline = RetrievalAugmentedQAPipeline(\n",
    "    vector_db_retriever=pdfdb,\n",
    "    llm=chat_openai\n",
    ")"
   ]
  },
  {
   "cell_type": "code",
   "execution_count": 30,
   "metadata": {},
   "outputs": [
    {
     "data": {
      "text/plain": [
       "{'response': 'The abstract of the Matryoshka Representation Learning paper discusses the importance of learned representations in modern machine learning systems and the challenges faced when the computational and statistical constraints for downstream tasks are unknown. This leads to the development of Matryoshka Representation Learning (MRL), which allows for a flexible representation that can adapt to various downstream tasks with differing computational resources. MRL encodes information at different granularities and optimizes lower-dimensional vectors in a nested manner, enabling adaptive deployment across environments and tasks while maintaining accuracy comparable to independently trained representations. The approach can be integrated into existing representation pipelines and extends to standard tasks in computer vision and natural language processing.',\n",
       " 'context': [('Matryoshka Representation Learning\\nAditya Kusupati∗†⋄, Gantavya Bhatt∗†, Aniket Rege∗†,\\nMatthew Wallingford†, Aditya Sinha⋄, Vivek Ramanujan†, William Howard-Snyder†,\\nKaifeng Chen⋄, Sham Kakade‡, Prateek Jain⋄and Ali Farhadi†\\n†University of Washington,⋄Google Research,‡Harvard University\\n{kusupati,ali}@cs.washington.edu ,prajain@google.com\\nAbstract\\nLearned representations are a central component in modern ML systems, serv-\\ning a multitude of downstream tasks. When training such representations, it\\nis often the case that computational and statistical constraints for each down-\\nstream task are unknown. In this context, rigid fixed-capacity representations\\ncan be either over or under-accommodating to the task at hand. This leads us\\nto ask: can we design a flexible representation that can adapt to multiple down-\\nstream tasks with varying computational resources? Our main contribution is\\nMatryoshka Representation Learning (MRL ) which encodes information at\\ndifferent granularities and allow',\n",
       "   0.725914827488671),\n",
       "  ('qcqro5rhcu8jrKIJdsAcqAIFTUANXoA4agIAH8ARewKv1aD1bb9b7dLRg5Tvb4Besj2/eCZSw</latexit>\\n<latexit sha1_base64=\"OPHM4ACsGr0VI7qMpDgoN+t2ICI=\">AAAB9XicbVDLSgMxFL3xWeur6tJNsAh1U2ZE0GXRjQsXFewD2rFk0kwbmskMSUapQ//DjQtF3Pov7vwbM+0stPVA4HDOvdyT48eCa+M432hpeWV1bb2wUdzc2t7ZLe3tN3WUKMoaNBKRavtEM8ElaxhuBGvHipHQF6zlj64yv/XAlOaRvDPjmHkhGUgecEqMle67ITHDQJERvqk8nfRKZafqTIEXiZuTMuSo90pf3X5Ek5BJQwXRuuM6sfFSogyngk2K3USzmNARGbCOpZKETHvpNPUEH1ulj4NI2ScNnqq/N1ISaj0OfTuZpdTzXib+53USE1x4KZdxYpiks0NBIrCJcFYB7nPFqBFjSwhV3GbFdEgUocYWVbQluPNfXiTN06rrVN3bs3LtMq+jAIdwBBVw4RxqcA11aAAFBc/wCm/oEb2gd/QxG11C+c4B/AH6/AGZEJHn</latexit>\\nFigure 1:\\n Matryoshka Representation Learning is\\nadaptable to any representation learning setup and begets\\naMatryoshka Representation zby optimizing the orig-\\ninal loss L(.)atO(log(d))chosen representation sizes.\\nMatryoshka Representation can be utilized effectively for adap-\\ntive deployment across environments and downstream tasks.The first m-dimensions, m∈[d], of\\ntheMatryoshka Representation ',\n",
       "   0.7162212118459635),\n",
       "  ('s, which are as\\naccurate as the independently trained counterparts, we learn with minimal overhead a representation\\nthat can be deployed adaptively at no additional cost during inference.\\nWe introduce\\n Matryoshka Representation Learning (MRL ) to induce flexibility in the learned\\nrepresentation. MRL learns representations of varying capacities within the same high-dimensional\\nvector through explicit optimization of O(log(d))lower-dimensional vectors in a nested fashion,\\nhence the name Matryoshka .MRL can be adapted to any existing representation pipeline and\\nis easily extended to many standard tasks in computer vision and natural language processing.\\nFigure 1 illustrates the core idea of Matryoshka Representation Learning (MRL ) and the adaptive\\ndeployment settings of the learned Matryoshka Representations .\\nAdaptive RetrievalShortlistingRe-ranking\\nAdaptive ClassificationTrainingInference\\n<latexit sha1_base64=\"eh9hk+peBkdsPY6v+r4rONmxYLY=\">AAAB7nicbVBNSwMxEJ2tX7V+VT16CRbBU9kVoR6LXjxWsB',\n",
       "   0.6849948994248299),\n",
       "  ('ve learning, both in context of vision &\\nvision + language, MRL is applied to both the embeddings that are being contrasted with each other.\\nThe presence of normalization on the representation needs to be handled independently for each of\\nthe nesting dimension for best results (see Appendix C for more details).\\n4 Applications\\nIn this section, we discuss Matryoshka Representation Learning (MRL ) for a diverse set of ap-\\nplications along with an extensive evaluation of the learned multifidelity representations. Further,\\nwe showcase the downstream applications of the learned Matryoshka Representations for flexible\\nlarge-scale deployment through (a) Adaptive Classification (AC) and (b) Adaptive Retrieval (AR).\\n4.1 Representation Learning\\nWe adapt Matryoshka Representation Learning (MRL ) to various representation learning setups\\n(a) Supervised learning for vision: ResNet50 [ 29] on ImageNet-1K [ 76] and ViT-B/16 [ 22] on\\nJFT-300M [ 85], (b) Contrastive learning for vision + language: ALIGN',\n",
       "   0.6362880331067662)]}"
      ]
     },
     "execution_count": 30,
     "metadata": {},
     "output_type": "execute_result"
    }
   ],
   "source": [
    "pdf_rag_qa_pipeline.run_pipeline(\"What is the abstract of the Matryoshka Representation learning paper?\")"
   ]
  },
  {
   "cell_type": "code",
   "execution_count": null,
   "metadata": {},
   "outputs": [],
   "source": []
  }
 ],
 "metadata": {
  "colab": {
   "provenance": []
  },
  "kernelspec": {
   "display_name": "Python 3 (ipykernel)",
   "language": "python",
   "name": "python3"
  },
  "language_info": {
   "codemirror_mode": {
    "name": "ipython",
    "version": 3
   },
   "file_extension": ".py",
   "mimetype": "text/x-python",
   "name": "python",
   "nbconvert_exporter": "python",
   "pygments_lexer": "ipython3",
   "version": "3.10.14"
  },
  "widgets": {
   "application/vnd.jupyter.widget-state+json": {
    "1ce393d9afcf427d9d352259c5d32678": {
     "model_module": "@jupyter-widgets/controls",
     "model_module_version": "1.5.0",
     "model_name": "FloatProgressModel",
     "state": {
      "_dom_classes": [],
      "_model_module": "@jupyter-widgets/controls",
      "_model_module_version": "1.5.0",
      "_model_name": "FloatProgressModel",
      "_view_count": null,
      "_view_module": "@jupyter-widgets/controls",
      "_view_module_version": "1.5.0",
      "_view_name": "ProgressView",
      "bar_style": "",
      "description": "",
      "description_tooltip": null,
      "layout": "IPY_MODEL_4e6efd99f7d346e485b002fb0fa85cc7",
      "max": 1,
      "min": 0,
      "orientation": "horizontal",
      "style": "IPY_MODEL_3dfb67c39958461da6071e4c19c3fa41",
      "value": 1
     }
    },
    "3a4ba348cb004f8ab7b2b1395539c81b": {
     "model_module": "@jupyter-widgets/controls",
     "model_module_version": "1.5.0",
     "model_name": "LabelModel",
     "state": {
      "_dom_classes": [],
      "_model_module": "@jupyter-widgets/controls",
      "_model_module_version": "1.5.0",
      "_model_name": "LabelModel",
      "_view_count": null,
      "_view_module": "@jupyter-widgets/controls",
      "_view_module_version": "1.5.0",
      "_view_name": "LabelView",
      "description": "",
      "description_tooltip": null,
      "layout": "IPY_MODEL_d2ea5009dd16442cb5d8a0ac468e50a8",
      "placeholder": "​",
      "style": "IPY_MODEL_5f00135fe1044051a50ee5e841cbb8e3",
      "value": "0.018 MB of 0.018 MB uploaded\r"
     }
    },
    "3dfb67c39958461da6071e4c19c3fa41": {
     "model_module": "@jupyter-widgets/controls",
     "model_module_version": "1.5.0",
     "model_name": "ProgressStyleModel",
     "state": {
      "_model_module": "@jupyter-widgets/controls",
      "_model_module_version": "1.5.0",
      "_model_name": "ProgressStyleModel",
      "_view_count": null,
      "_view_module": "@jupyter-widgets/base",
      "_view_module_version": "1.2.0",
      "_view_name": "StyleView",
      "bar_color": null,
      "description_width": ""
     }
    },
    "4e6efd99f7d346e485b002fb0fa85cc7": {
     "model_module": "@jupyter-widgets/base",
     "model_module_version": "1.2.0",
     "model_name": "LayoutModel",
     "state": {
      "_model_module": "@jupyter-widgets/base",
      "_model_module_version": "1.2.0",
      "_model_name": "LayoutModel",
      "_view_count": null,
      "_view_module": "@jupyter-widgets/base",
      "_view_module_version": "1.2.0",
      "_view_name": "LayoutView",
      "align_content": null,
      "align_items": null,
      "align_self": null,
      "border": null,
      "bottom": null,
      "display": null,
      "flex": null,
      "flex_flow": null,
      "grid_area": null,
      "grid_auto_columns": null,
      "grid_auto_flow": null,
      "grid_auto_rows": null,
      "grid_column": null,
      "grid_gap": null,
      "grid_row": null,
      "grid_template_areas": null,
      "grid_template_columns": null,
      "grid_template_rows": null,
      "height": null,
      "justify_content": null,
      "justify_items": null,
      "left": null,
      "margin": null,
      "max_height": null,
      "max_width": null,
      "min_height": null,
      "min_width": null,
      "object_fit": null,
      "object_position": null,
      "order": null,
      "overflow": null,
      "overflow_x": null,
      "overflow_y": null,
      "padding": null,
      "right": null,
      "top": null,
      "visibility": null,
      "width": null
     }
    },
    "56a8e24025594e5e9ff3b8581c344691": {
     "model_module": "@jupyter-widgets/base",
     "model_module_version": "1.2.0",
     "model_name": "LayoutModel",
     "state": {
      "_model_module": "@jupyter-widgets/base",
      "_model_module_version": "1.2.0",
      "_model_name": "LayoutModel",
      "_view_count": null,
      "_view_module": "@jupyter-widgets/base",
      "_view_module_version": "1.2.0",
      "_view_name": "LayoutView",
      "align_content": null,
      "align_items": null,
      "align_self": null,
      "border": null,
      "bottom": null,
      "display": null,
      "flex": null,
      "flex_flow": null,
      "grid_area": null,
      "grid_auto_columns": null,
      "grid_auto_flow": null,
      "grid_auto_rows": null,
      "grid_column": null,
      "grid_gap": null,
      "grid_row": null,
      "grid_template_areas": null,
      "grid_template_columns": null,
      "grid_template_rows": null,
      "height": null,
      "justify_content": null,
      "justify_items": null,
      "left": null,
      "margin": null,
      "max_height": null,
      "max_width": null,
      "min_height": null,
      "min_width": null,
      "object_fit": null,
      "object_position": null,
      "order": null,
      "overflow": null,
      "overflow_x": null,
      "overflow_y": null,
      "padding": null,
      "right": null,
      "top": null,
      "visibility": null,
      "width": null
     }
    },
    "5f00135fe1044051a50ee5e841cbb8e3": {
     "model_module": "@jupyter-widgets/controls",
     "model_module_version": "1.5.0",
     "model_name": "DescriptionStyleModel",
     "state": {
      "_model_module": "@jupyter-widgets/controls",
      "_model_module_version": "1.5.0",
      "_model_name": "DescriptionStyleModel",
      "_view_count": null,
      "_view_module": "@jupyter-widgets/base",
      "_view_module_version": "1.2.0",
      "_view_name": "StyleView",
      "description_width": ""
     }
    },
    "bb904e05ece143c79ecc4f20de482f45": {
     "model_module": "@jupyter-widgets/controls",
     "model_module_version": "1.5.0",
     "model_name": "VBoxModel",
     "state": {
      "_dom_classes": [],
      "_model_module": "@jupyter-widgets/controls",
      "_model_module_version": "1.5.0",
      "_model_name": "VBoxModel",
      "_view_count": null,
      "_view_module": "@jupyter-widgets/controls",
      "_view_module_version": "1.5.0",
      "_view_name": "VBoxView",
      "box_style": "",
      "children": [
       "IPY_MODEL_3a4ba348cb004f8ab7b2b1395539c81b",
       "IPY_MODEL_1ce393d9afcf427d9d352259c5d32678"
      ],
      "layout": "IPY_MODEL_56a8e24025594e5e9ff3b8581c344691"
     }
    },
    "d2ea5009dd16442cb5d8a0ac468e50a8": {
     "model_module": "@jupyter-widgets/base",
     "model_module_version": "1.2.0",
     "model_name": "LayoutModel",
     "state": {
      "_model_module": "@jupyter-widgets/base",
      "_model_module_version": "1.2.0",
      "_model_name": "LayoutModel",
      "_view_count": null,
      "_view_module": "@jupyter-widgets/base",
      "_view_module_version": "1.2.0",
      "_view_name": "LayoutView",
      "align_content": null,
      "align_items": null,
      "align_self": null,
      "border": null,
      "bottom": null,
      "display": null,
      "flex": null,
      "flex_flow": null,
      "grid_area": null,
      "grid_auto_columns": null,
      "grid_auto_flow": null,
      "grid_auto_rows": null,
      "grid_column": null,
      "grid_gap": null,
      "grid_row": null,
      "grid_template_areas": null,
      "grid_template_columns": null,
      "grid_template_rows": null,
      "height": null,
      "justify_content": null,
      "justify_items": null,
      "left": null,
      "margin": null,
      "max_height": null,
      "max_width": null,
      "min_height": null,
      "min_width": null,
      "object_fit": null,
      "object_position": null,
      "order": null,
      "overflow": null,
      "overflow_x": null,
      "overflow_y": null,
      "padding": null,
      "right": null,
      "top": null,
      "visibility": null,
      "width": null
     }
    }
   }
  }
 },
 "nbformat": 4,
 "nbformat_minor": 4
}
