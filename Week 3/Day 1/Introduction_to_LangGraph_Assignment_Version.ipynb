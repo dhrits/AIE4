{
 "cells": [
  {
   "cell_type": "markdown",
   "metadata": {
    "id": "gJXW_DgiSebM"
   },
   "source": [
    "# LangGraph and LangSmith - Agentic RAG Powered by LangChain\n",
    "\n",
    "In the following notebook we'll complete the following tasks:\n",
    "\n",
    "- 🤝 Breakout Room #1:\n",
    "  1. Install required libraries\n",
    "  2. Set Environment Variables\n",
    "  3. Creating our Tool Belt\n",
    "  4. Creating Our State\n",
    "  5. Creating and Compiling A Graph!\n",
    "\n",
    "  - 🤝 Breakout Room #2:\n",
    "  1. Evaluating the LangGraph Application with LangSmith\n",
    "  2. Adding Helpfulness Check and \"Loop\" Limits\n",
    "  3. LangGraph for the \"Patterns\" of GenAI"
   ]
  },
  {
   "cell_type": "markdown",
   "metadata": {
    "id": "djQ3nRAgoF67"
   },
   "source": [
    "# 🤝 Breakout Room #1"
   ]
  },
  {
   "cell_type": "markdown",
   "metadata": {
    "id": "e7pQDUhUnIo8"
   },
   "source": [
    "## Part 1: LangGraph - Building Cyclic Applications with LangChain\n",
    "\n",
    "LangGraph is a tool that leverages LangChain Expression Language to build coordinated multi-actor and stateful applications that includes cyclic behaviour.\n",
    "\n",
    "### Why Cycles?\n",
    "\n",
    "In essence, we can think of a cycle in our graph as a more robust and customizable loop. It allows us to keep our application agent-forward while still giving the powerful functionality of traditional loops.\n",
    "\n",
    "Due to the inclusion of cycles over loops, we can also compose rather complex flows through our graph in a much more readable and natural fashion. Effectively allowing us to recreate application flowcharts in code in an almost 1-to-1 fashion.\n",
    "\n",
    "### Why LangGraph?\n",
    "\n",
    "Beyond the agent-forward approach - we can easily compose and combine traditional \"DAG\" (directed acyclic graph) chains with powerful cyclic behaviour due to the tight integration with LCEL. This means it's a natural extension to LangChain's core offerings!"
   ]
  },
  {
   "cell_type": "markdown",
   "metadata": {
    "id": "3_fLDElOVoop"
   },
   "source": [
    "## Task 1:  Dependencies\n",
    "\n",
    "We'll first install all our required libraries."
   ]
  },
  {
   "cell_type": "code",
   "execution_count": 3,
   "metadata": {
    "id": "KaVwN269EttM"
   },
   "outputs": [],
   "source": [
    "!pip install -qU langchain langchain_openai langchain-community langgraph arxiv duckduckgo_search==5.3.1b1"
   ]
  },
  {
   "cell_type": "markdown",
   "metadata": {
    "id": "wujPjGJuoPwg"
   },
   "source": [
    "## Task 2: Environment Variables\n",
    "\n",
    "We'll want to set both our OpenAI API key and our LangSmith environment variables."
   ]
  },
  {
   "cell_type": "code",
   "execution_count": 4,
   "metadata": {
    "colab": {
     "base_uri": "https://localhost:8080/"
    },
    "id": "Jdh8CoVWHRvs",
    "outputId": "42b2ba5e-11ae-4f4d-e68e-77607bb794ad"
   },
   "outputs": [
    {
     "name": "stdin",
     "output_type": "stream",
     "text": [
      "OpenAI API Key: ········\n"
     ]
    }
   ],
   "source": [
    "import os\n",
    "import getpass\n",
    "\n",
    "os.environ[\"OPENAI_API_KEY\"] = getpass.getpass(\"OpenAI API Key:\")"
   ]
  },
  {
   "cell_type": "code",
   "execution_count": 5,
   "metadata": {
    "colab": {
     "base_uri": "https://localhost:8080/"
    },
    "id": "Nv0glIDyHmRt",
    "outputId": "30aa2260-50f1-4abf-b305-eed0ee1b9008"
   },
   "outputs": [
    {
     "name": "stdin",
     "output_type": "stream",
     "text": [
      "LangSmith API Key:  ········\n"
     ]
    }
   ],
   "source": [
    "from uuid import uuid4\n",
    "\n",
    "os.environ[\"LANGCHAIN_TRACING_V2\"] = \"true\"\n",
    "os.environ[\"LANGCHAIN_PROJECT\"] = f\"AIE4 - LangGraph - {uuid4().hex[0:8]}\"\n",
    "os.environ[\"LANGCHAIN_API_KEY\"] = getpass.getpass(\"LangSmith API Key: \")"
   ]
  },
  {
   "cell_type": "markdown",
   "metadata": {
    "id": "sBRyQmEAVzua"
   },
   "source": [
    "## Task 3: Creating our Tool Belt\n",
    "\n",
    "As is usually the case, we'll want to equip our agent with a toolbelt to help answer questions and add external knowledge.\n",
    "\n",
    "There's a tonne of tools in the [LangChain Community Repo](https://github.com/langchain-ai/langchain/tree/master/libs/community/langchain_community/tools) but we'll stick to a couple just so we can observe the cyclic nature of LangGraph in action!\n",
    "\n",
    "We'll leverage:\n",
    "\n",
    "- [Duck Duck Go Web Search](https://github.com/langchain-ai/langchain/tree/master/libs/community/langchain_community/tools/ddg_search)\n",
    "- [Arxiv](https://github.com/langchain-ai/langchain/tree/master/libs/community/langchain_community/tools/arxiv)"
   ]
  },
  {
   "cell_type": "markdown",
   "metadata": {
    "id": "2k6n_Dob2F46"
   },
   "source": [
    "####🏗️ Activity #1:\n",
    "\n",
    "Please add the tools to use into our toolbelt.\n",
    "\n",
    "> NOTE: Each tool in our toolbelt should be a method."
   ]
  },
  {
   "cell_type": "code",
   "execution_count": 6,
   "metadata": {
    "id": "lAxaSvlfIeOg"
   },
   "outputs": [],
   "source": [
    "from langchain_community.tools.ddg_search import DuckDuckGoSearchRun\n",
    "from langchain_community.tools.arxiv.tool import ArxivQueryRun\n",
    "\n",
    "tool_belt = [\n",
    "    DuckDuckGoSearchRun(),\n",
    "    ArxivQueryRun(),\n",
    "]"
   ]
  },
  {
   "cell_type": "markdown",
   "metadata": {
    "id": "VI-C669ZYVI5"
   },
   "source": [
    "### Model\n",
    "\n",
    "Now we can set-up our model! We'll leverage the familiar OpenAI model suite for this example - but it's not *necessary* to use with LangGraph. LangGraph supports all models - though you might not find success with smaller models - as such, they recommend you stick with:\n",
    "\n",
    "- OpenAI's GPT-3.5 and GPT-4\n",
    "- Anthropic's Claude\n",
    "- Google's Gemini\n",
    "\n",
    "> NOTE: Because we're leveraging the OpenAI function calling API - we'll need to use OpenAI *for this specific example* (or any other service that exposes an OpenAI-style function calling API."
   ]
  },
  {
   "cell_type": "code",
   "execution_count": 7,
   "metadata": {
    "id": "QkNS8rNZJs4z"
   },
   "outputs": [],
   "source": [
    "from langchain_openai import ChatOpenAI\n",
    "\n",
    "model = ChatOpenAI(model=\"gpt-4o\", temperature=0)"
   ]
  },
  {
   "cell_type": "markdown",
   "metadata": {
    "id": "Ugkj3GzuZpQv"
   },
   "source": [
    "Now that we have our model set-up, let's \"put on the tool belt\", which is to say: We'll bind our LangChain formatted tools to the model in an OpenAI function calling format."
   ]
  },
  {
   "cell_type": "code",
   "execution_count": 8,
   "metadata": {
    "id": "4OdMqFafZ_0V"
   },
   "outputs": [],
   "source": [
    "model = model.bind_tools(tool_belt)"
   ]
  },
  {
   "cell_type": "markdown",
   "metadata": {
    "id": "ERzuGo6W18Lr"
   },
   "source": [
    "#### ❓ Question #1:\n",
    "\n",
    "How does the model determine which tool to use?\n",
    "\n",
    "At a high level, the model uses the user's provided prompt to first reason about the goal and then relies on the `description` attribute of the tool to make a decision about whether the tool can be useful to help the agent achieve its goal."
   ]
  },
  {
   "cell_type": "markdown",
   "metadata": {
    "id": "_296Ub96Z_H8"
   },
   "source": [
    "## Task 4: Putting the State in Stateful\n",
    "\n",
    "Earlier we used this phrasing:\n",
    "\n",
    "`coordinated multi-actor and stateful applications`\n",
    "\n",
    "So what does that \"stateful\" mean?\n",
    "\n",
    "To put it simply - we want to have some kind of object which we can pass around our application that holds information about what the current situation (state) is. Since our system will be constructed of many parts moving in a coordinated fashion - we want to be able to ensure we have some commonly understood idea of that state.\n",
    "\n",
    "LangGraph leverages a `StatefulGraph` which uses an `AgentState` object to pass information between the various nodes of the graph.\n",
    "\n",
    "There are more options than what we'll see below - but this `AgentState` object is one that is stored in a `TypedDict` with the key `messages` and the value is a `Sequence` of `BaseMessages` that will be appended to whenever the state changes.\n",
    "\n",
    "Let's think about a simple example to help understand exactly what this means (we'll simplify a great deal to try and clearly communicate what state is doing):\n",
    "\n",
    "1. We initialize our state object:\n",
    "  - `{\"messages\" : []}`\n",
    "2. Our user submits a query to our application.\n",
    "  - New State: `HumanMessage(#1)`\n",
    "  - `{\"messages\" : [HumanMessage(#1)}`\n",
    "3. We pass our state object to an Agent node which is able to read the current state. It will use the last `HumanMessage` as input. It gets some kind of output which it will add to the state.\n",
    "  - New State: `AgentMessage(#1, additional_kwargs {\"function_call\" : \"WebSearchTool\"})`\n",
    "  - `{\"messages\" : [HumanMessage(#1), AgentMessage(#1, ...)]}`\n",
    "4. We pass our state object to a \"conditional node\" (more on this later) which reads the last state to determine if we need to use a tool - which it can determine properly because of our provided object!"
   ]
  },
  {
   "cell_type": "code",
   "execution_count": 9,
   "metadata": {
    "id": "mxL9b_NZKUdL"
   },
   "outputs": [],
   "source": [
    "from typing import TypedDict, Annotated\n",
    "from langgraph.graph.message import add_messages\n",
    "import operator\n",
    "from langchain_core.messages import BaseMessage\n",
    "\n",
    "class AgentState(TypedDict):\n",
    "  messages: Annotated[list, add_messages]"
   ]
  },
  {
   "cell_type": "markdown",
   "metadata": {
    "id": "vWsMhfO9grLu"
   },
   "source": [
    "## Task 5: It's Graphing Time!\n",
    "\n",
    "Now that we have state, and we have tools, and we have an LLM - we can finally start making our graph!\n",
    "\n",
    "Let's take a second to refresh ourselves about what a graph is in this context.\n",
    "\n",
    "Graphs, also called networks in some circles, are a collection of connected objects.\n",
    "\n",
    "The objects in question are typically called nodes, or vertices, and the connections are called edges.\n",
    "\n",
    "Let's look at a simple graph.\n",
    "\n",
    "![image](https://i.imgur.com/2NFLnIc.png)\n",
    "\n",
    "Here, we're using the coloured circles to represent the nodes and the yellow lines to represent the edges. In this case, we're looking at a fully connected graph - where each node is connected by an edge to each other node.\n",
    "\n",
    "If we were to think about nodes in the context of LangGraph - we would think of a function, or an LCEL runnable.\n",
    "\n",
    "If we were to think about edges in the context of LangGraph - we might think of them as \"paths to take\" or \"where to pass our state object next\".\n",
    "\n",
    "Let's create some nodes and expand on our diagram.\n",
    "\n",
    "> NOTE: Due to the tight integration with LCEL - we can comfortably create our nodes in an async fashion!"
   ]
  },
  {
   "cell_type": "code",
   "execution_count": 10,
   "metadata": {
    "id": "91flJWtZLUrl"
   },
   "outputs": [],
   "source": [
    "from langgraph.prebuilt import ToolNode\n",
    "\n",
    "def call_model(state):\n",
    "  messages = state[\"messages\"]\n",
    "  response = model.invoke(messages)\n",
    "  return {\"messages\" : [response]}\n",
    "\n",
    "tool_node = ToolNode(tool_belt)"
   ]
  },
  {
   "cell_type": "markdown",
   "metadata": {
    "id": "2bwR7MgWj3Wg"
   },
   "source": [
    "Now we have two total nodes. We have:\n",
    "\n",
    "- `call_model` is a node that will...well...call the model\n",
    "- `tool_node` is a node which can call a tool\n",
    "\n",
    "Let's start adding nodes! We'll update our diagram along the way to keep track of what this looks like!\n"
   ]
  },
  {
   "cell_type": "code",
   "execution_count": 11,
   "metadata": {
    "id": "_vF4_lgtmQNo"
   },
   "outputs": [],
   "source": [
    "from langgraph.graph import StateGraph, END\n",
    "\n",
    "uncompiled_graph = StateGraph(AgentState)\n",
    "\n",
    "uncompiled_graph.add_node(\"agent\", call_model)\n",
    "uncompiled_graph.add_node(\"action\", tool_node)"
   ]
  },
  {
   "cell_type": "markdown",
   "metadata": {
    "id": "b8CjRlbVmRpW"
   },
   "source": [
    "Let's look at what we have so far:\n",
    "\n",
    "![image](https://i.imgur.com/md7inqG.png)"
   ]
  },
  {
   "cell_type": "markdown",
   "metadata": {
    "id": "uaXHpPeSnOWC"
   },
   "source": [
    "Next, we'll add our entrypoint. All our entrypoint does is indicate which node is called first."
   ]
  },
  {
   "cell_type": "code",
   "execution_count": 12,
   "metadata": {
    "id": "YGCbaYqRnmiw"
   },
   "outputs": [],
   "source": [
    "uncompiled_graph.set_entry_point(\"agent\")"
   ]
  },
  {
   "cell_type": "markdown",
   "metadata": {
    "id": "BUsfGoSpoF9U"
   },
   "source": [
    "![image](https://i.imgur.com/wNixpJe.png)"
   ]
  },
  {
   "cell_type": "markdown",
   "metadata": {
    "id": "0Q_pQgHmoW0M"
   },
   "source": [
    "Now we want to build a \"conditional edge\" which will use the output state of a node to determine which path to follow.\n",
    "\n",
    "We can help conceptualize this by thinking of our conditional edge as a conditional in a flowchart!\n",
    "\n",
    "Notice how our function simply checks if there is a \"function_call\" kwarg present.\n",
    "\n",
    "Then we create an edge where the origin node is our agent node and our destination node is *either* the action node or the END (finish the graph).\n",
    "\n",
    "It's important to highlight that the dictionary passed in as the third parameter (the mapping) should be created with the possible outputs of our conditional function in mind. In this case `should_continue` outputs either `\"end\"` or `\"continue\"` which are subsequently mapped to the action node or the END node."
   ]
  },
  {
   "cell_type": "code",
   "execution_count": 13,
   "metadata": {
    "id": "1BZgb81VQf9o"
   },
   "outputs": [],
   "source": [
    "def should_continue(state):\n",
    "  last_message = state[\"messages\"][-1]\n",
    "\n",
    "  if last_message.tool_calls:\n",
    "    return \"action\"\n",
    "\n",
    "  return END\n",
    "\n",
    "uncompiled_graph.add_conditional_edges(\n",
    "    \"agent\",\n",
    "    should_continue\n",
    ")"
   ]
  },
  {
   "cell_type": "markdown",
   "metadata": {
    "id": "-Cvhcf4jp0Ce"
   },
   "source": [
    "Let's visualize what this looks like.\n",
    "\n",
    "![image](https://i.imgur.com/8ZNwKI5.png)"
   ]
  },
  {
   "cell_type": "markdown",
   "metadata": {
    "id": "yKCjWJCkrJb9"
   },
   "source": [
    "Finally, we can add our last edge which will connect our action node to our agent node. This is because we *always* want our action node (which is used to call our tools) to return its output to our agent!"
   ]
  },
  {
   "cell_type": "code",
   "execution_count": 14,
   "metadata": {
    "id": "UvcgbHf1rIXZ"
   },
   "outputs": [],
   "source": [
    "uncompiled_graph.add_edge(\"action\", \"agent\")"
   ]
  },
  {
   "cell_type": "markdown",
   "metadata": {
    "id": "EiWDwBQtrw7Z"
   },
   "source": [
    "Let's look at the final visualization.\n",
    "\n",
    "![image](https://i.imgur.com/NWO7usO.png)"
   ]
  },
  {
   "cell_type": "markdown",
   "metadata": {
    "id": "KYqDpErlsCsu"
   },
   "source": [
    "All that's left to do now is to compile our workflow - and we're off!"
   ]
  },
  {
   "cell_type": "code",
   "execution_count": 15,
   "metadata": {
    "id": "zt9-KS8DpzNx"
   },
   "outputs": [],
   "source": [
    "compiled_graph = uncompiled_graph.compile()"
   ]
  },
  {
   "cell_type": "markdown",
   "metadata": {},
   "source": [
    "#### ❓ Question #2:\n",
    "\n",
    "Is there any specific limit to how many times we can cycle?\n",
    "\n",
    "If not, how could we impose a limit to the number of cycles?\n",
    "\n",
    "Currently, just based on the logic of the graph, there isn't any limit to the number of times we can cycle. We can add a limit though as part of the logic of a conditional edge which can track how many times the loop has been executed.\n",
    "\n",
    "There is an *implicit/likely* cycle-limit though. The action node is only called when the agent decides that a tool call is necessary after an input. It is unlikely (although not guaranteed) that the agent will opt another tool call after input from the action. However, this is still possible based on the input prompt as well as in edge cases. "
   ]
  },
  {
   "cell_type": "markdown",
   "metadata": {
    "id": "VEYcTShCsPaa"
   },
   "source": [
    "## Using Our Graph\n",
    "\n",
    "Now that we've created and compiled our graph - we can call it *just as we'd call any other* `Runnable`!\n",
    "\n",
    "Let's try out a few examples to see how it fairs:"
   ]
  },
  {
   "cell_type": "code",
   "execution_count": 16,
   "metadata": {
    "colab": {
     "base_uri": "https://localhost:8080/"
    },
    "id": "Qn4n37PQRPII",
    "outputId": "a5d7ef7a-13f2-4066-df52-b0df89eae2ae"
   },
   "outputs": [
    {
     "name": "stdout",
     "output_type": "stream",
     "text": [
      "Receiving update from node: 'agent'\n",
      "[AIMessage(content='', additional_kwargs={'tool_calls': [{'id': 'call_wE6WsUf79DLImEWNpPLTiWka', 'function': {'arguments': '{\"query\":\"current captain of the Winnipeg Jets 2023\"}', 'name': 'duckduckgo_search'}, 'type': 'function'}], 'refusal': None}, response_metadata={'token_usage': {'completion_tokens': 25, 'prompt_tokens': 156, 'total_tokens': 181}, 'model_name': 'gpt-4o-2024-05-13', 'system_fingerprint': 'fp_157b3831f5', 'finish_reason': 'tool_calls', 'logprobs': None}, id='run-7309e239-8837-4de0-90e0-3c5de489f874-0', tool_calls=[{'name': 'duckduckgo_search', 'args': {'query': 'current captain of the Winnipeg Jets 2023'}, 'id': 'call_wE6WsUf79DLImEWNpPLTiWka', 'type': 'tool_call'}], usage_metadata={'input_tokens': 156, 'output_tokens': 25, 'total_tokens': 181})]\n",
      "\n",
      "\n",
      "\n",
      "Receiving update from node: 'action'\n",
      "[ToolMessage(content='Adam Lowry was named captain of the Winnipeg Jets on Tuesday. ... Sep 20, 2023. Latest News. Inside look at Vegas Golden Knights Aug 30, 2024. Vegas Golden Knights fantasy projections for 2024-25 Lowry will follow Andrew Ladd and Blake Wheeler to serve as the third captain of the new Winnipeg Jets franchise. - Sep 12, 2023. After a season without a captain, the Winnipeg Jets have named ... September 12, 2023. There are not many honours in team sports bigger than being named captain. That honour was given to Winnipeg Jet forward Adam Lowry officially Tuesday morning as he becomes the ... Posted September 12, 2023 9:29 am. Centre Adam Lowry was named the Winnipeg Jets new captain on Tuesday. Lowry is the third Jets captain since the team moved from Atlanta to Winnipeg in 2011. He follows Andrew Ladd and Blake Wheeler, who served as captain for five and six years respectively. The Winnipeg Jets will have a captain for the 2023-24 season. After going captain-less in 2022-23, the Winnipeg Jets unveiled Adam Lowry as the club\\'s new captain on Tuesday morning. \"When I ...', name='duckduckgo_search', tool_call_id='call_wE6WsUf79DLImEWNpPLTiWka')]\n",
      "\n",
      "\n",
      "\n",
      "Receiving update from node: 'agent'\n",
      "[AIMessage(content='The current captain of the Winnipeg Jets is Adam Lowry. He was named captain on September 12, 2023.', additional_kwargs={'refusal': None}, response_metadata={'token_usage': {'completion_tokens': 26, 'prompt_tokens': 443, 'total_tokens': 469}, 'model_name': 'gpt-4o-2024-05-13', 'system_fingerprint': 'fp_157b3831f5', 'finish_reason': 'stop', 'logprobs': None}, id='run-fdfa97f9-c641-4f2e-add0-cb99a0540987-0', usage_metadata={'input_tokens': 443, 'output_tokens': 26, 'total_tokens': 469})]\n",
      "\n",
      "\n",
      "\n"
     ]
    }
   ],
   "source": [
    "from langchain_core.messages import HumanMessage\n",
    "\n",
    "inputs = {\"messages\" : [HumanMessage(content=\"Who is the current captain of the Winnipeg Jets?\")]}\n",
    "\n",
    "async for chunk in compiled_graph.astream(inputs, stream_mode=\"updates\"):\n",
    "    for node, values in chunk.items():\n",
    "        print(f\"Receiving update from node: '{node}'\")\n",
    "        print(values[\"messages\"])\n",
    "        print(\"\\n\\n\")"
   ]
  },
  {
   "cell_type": "markdown",
   "metadata": {
    "id": "DBHnUtLSscRr"
   },
   "source": [
    "Let's look at what happened:\n",
    "\n",
    "1. Our state object was populated with our request\n",
    "2. The state object was passed into our entry point (agent node) and the agent node added an `AIMessage` to the state object and passed it along the conditional edge\n",
    "3. The conditional edge received the state object, found the \"tool_calls\" `additional_kwarg`, and sent the state object to the action node\n",
    "4. The action node added the response from the OpenAI function calling endpoint to the state object and passed it along the edge to the agent node\n",
    "5. The agent node added a response to the state object and passed it along the conditional edge\n",
    "6. The conditional edge received the state object, could not find the \"tool_calls\" `additional_kwarg` and passed the state object to END where we see it output in the cell above!\n",
    "\n",
    "Now let's look at an example that shows a multiple tool usage - all with the same flow!"
   ]
  },
  {
   "cell_type": "code",
   "execution_count": 19,
   "metadata": {
    "colab": {
     "base_uri": "https://localhost:8080/"
    },
    "id": "afv2BuEsV5JG",
    "outputId": "026a3aa3-1c3e-4016-b0a3-fe98b1d25399"
   },
   "outputs": [
    {
     "name": "stdout",
     "output_type": "stream",
     "text": [
      "Receiving update from node: 'agent'\n",
      "[AIMessage(content='', additional_kwargs={'tool_calls': [{'id': 'call_kFLjKjiOhBTHbYIHFL43Hjeh', 'function': {'arguments': '{\"query\": \"QLoRA\"}', 'name': 'arxiv'}, 'type': 'function'}, {'id': 'call_MKxvWS8LNPLoDGN7nBfPZVi4', 'function': {'arguments': '{\"query\": \"latest tweet\"}', 'name': 'duckduckgo_search'}, 'type': 'function'}], 'refusal': None}, response_metadata={'token_usage': {'completion_tokens': 50, 'prompt_tokens': 173, 'total_tokens': 223}, 'model_name': 'gpt-4o-2024-05-13', 'system_fingerprint': 'fp_a2ff031fb5', 'finish_reason': 'tool_calls', 'logprobs': None}, id='run-a0f211b7-f83f-40a8-ba7b-61a656394c14-0', tool_calls=[{'name': 'arxiv', 'args': {'query': 'QLoRA'}, 'id': 'call_kFLjKjiOhBTHbYIHFL43Hjeh', 'type': 'tool_call'}, {'name': 'duckduckgo_search', 'args': {'query': 'latest tweet'}, 'id': 'call_MKxvWS8LNPLoDGN7nBfPZVi4', 'type': 'tool_call'}], usage_metadata={'input_tokens': 173, 'output_tokens': 50, 'total_tokens': 223})]\n",
      "\n",
      "\n",
      "\n",
      "Receiving update from node: 'action'\n",
      "Tool Used: arxiv\n",
      "[ToolMessage(content='Published: 2023-05-23\\nTitle: QLoRA: Efficient Finetuning of Quantized LLMs\\nAuthors: Tim Dettmers, Artidoro Pagnoni, Ari Holtzman, Luke Zettlemoyer\\nSummary: We present QLoRA, an efficient finetuning approach that reduces memory usage\\nenough to finetune a 65B parameter model on a single 48GB GPU while preserving\\nfull 16-bit finetuning task performance. QLoRA backpropagates gradients through\\na frozen, 4-bit quantized pretrained language model into Low Rank\\nAdapters~(LoRA). Our best model family, which we name Guanaco, outperforms all\\nprevious openly released models on the Vicuna benchmark, reaching 99.3% of the\\nperformance level of ChatGPT while only requiring 24 hours of finetuning on a\\nsingle GPU. QLoRA introduces a number of innovations to save memory without\\nsacrificing performance: (a) 4-bit NormalFloat (NF4), a new data type that is\\ninformation theoretically optimal for normally distributed weights (b) double\\nquantization to reduce the average memory footprint by quantizing the\\nquantization constants, and (c) paged optimziers to manage memory spikes. We\\nuse QLoRA to finetune more than 1,000 models, providing a detailed analysis of\\ninstruction following and chatbot performance across 8 instruction datasets,\\nmultiple model types (LLaMA, T5), and model scales that would be infeasible to\\nrun with regular finetuning (e.g. 33B and 65B parameter models). Our results\\nshow that QLoRA finetuning on a small high-quality dataset leads to\\nstate-of-the-art results, even when using smaller models than the previous\\nSoTA. We provide a detailed analysis of chatbot performance based on both human\\nand GPT-4 evaluations showing that GPT-4 evaluations are a cheap and reasonable\\nalternative to human evaluation. Furthermore, we find that current chatbot\\nbenchmarks are not trustworthy to accurately evaluate the performance levels of\\nchatbots. A lemon-picked analysis demonstrates where Guanaco fails compared to\\nChatGPT. We release all of our models and code, including CUDA kernels for\\n4-bit training.\\n\\nPublished: 2024-05-27\\nTitle: Accurate LoRA-Finetuning Quantization of LLMs via Information Retention\\nAuthors: Haotong Qin, Xudong Ma, Xingyu Zheng, Xiaoyang Li, Yang Zhang, Shouda Liu, Jie Luo, Xianglong Liu, Michele Magno\\nSummary: The LoRA-finetuning quantization of LLMs has been extensively studied to\\nobtain accurate yet compact LLMs for deployment on resource-constrained\\nhardware. However, existing methods cause the quantized LLM to severely degrade\\nand even fail to benefit from the finetuning of LoRA. This paper proposes a\\nnovel IR-QLoRA for pushing quantized LLMs with LoRA to be highly accurate\\nthrough information retention. The proposed IR-QLoRA mainly relies on two\\ntechnologies derived from the perspective of unified information: (1)\\nstatistics-based Information Calibration Quantization allows the quantized\\nparameters of LLM to retain original information accurately; (2)\\nfinetuning-based Information Elastic Connection makes LoRA utilizes elastic\\nrepresentation transformation with diverse information. Comprehensive\\nexperiments show that IR-QLoRA can significantly improve accuracy across LLaMA\\nand LLaMA2 families under 2-4 bit-widths, e.g., 4- bit LLaMA-7B achieves 1.4%\\nimprovement on MMLU compared with the state-of-the-art methods. The significant\\nperformance gain requires only a tiny 0.31% additional time consumption,\\nrevealing the satisfactory efficiency of our IR-QLoRA. We highlight that\\nIR-QLoRA enjoys excellent versatility, compatible with various frameworks\\n(e.g., NormalFloat and Integer quantization) and brings general accuracy gains.\\nThe code is available at https://github.com/htqin/ir-qlora.\\n\\nPublished: 2024-06-12\\nTitle: Exploring Fact Memorization and Style Imitation in LLMs Using QLoRA: An Experimental Study and Quality Assessment Methods\\nAuthors: Eugene Vyborov, Oleksiy Osypenko, Serge Sotnyk\\nSummary: There are various methods for adapting LLMs to different domains. The most\\ncommon methods are prompting, finetuning, and RAG. In this w', name='arxiv', tool_call_id='call_kFLjKjiOhBTHbYIHFL43Hjeh'), ToolMessage(content='Sept. 15, 2023. The federal prosecutors who charged former President Donald J. Trump with a criminal conspiracy over his attempts to overturn the 2020 election obtained 32 private messages from ... Prosecutors from the special counsel\\'s office, for example, included tweets in which Trump pressured Vice President Mike Pence to reject Electoral College votes before Congress and tweets urging ... Musk hinted at Twitter\\'s financial troubles saying, \"I acquired the world\\'s largest non-profit for $44 billion.\" (Twitter had, in fact, reported a profit in 2018 and 2019, prior to Musk ... Introducing a new form of Free (v2) access for write-only use cases and those testing the Twitter API with 1,500 Tweets/month at the app level, media upload endpoints, and Login with Twitter. Get ... March 28, 2024 10:35 AM EDT. E lon Musk has announced new changes to social media platform X (formerly Twitter) that will allow certain accounts to unlock free premium features. Posting on the ...', name='duckduckgo_search', tool_call_id='call_MKxvWS8LNPLoDGN7nBfPZVi4')]\n",
      "\n",
      "\n",
      "\n",
      "Receiving update from node: 'agent'\n",
      "[AIMessage(content='', additional_kwargs={'tool_calls': [{'id': 'call_Fs8RmYkkL7C8HRMYEUgciHQ7', 'function': {'arguments': '{\"query\": \"Tim Dettmers latest tweet\"}', 'name': 'duckduckgo_search'}, 'type': 'function'}, {'id': 'call_bPKxUvnvmlpo4CGUX2hGhQus', 'function': {'arguments': '{\"query\": \"Artidoro Pagnoni latest tweet\"}', 'name': 'duckduckgo_search'}, 'type': 'function'}, {'id': 'call_6laABzWyF80TN7ZtYS7oskUG', 'function': {'arguments': '{\"query\": \"Ari Holtzman latest tweet\"}', 'name': 'duckduckgo_search'}, 'type': 'function'}, {'id': 'call_gzt8yPM6g2cPuYDg4377Q4UI', 'function': {'arguments': '{\"query\": \"Luke Zettlemoyer latest tweet\"}', 'name': 'duckduckgo_search'}, 'type': 'function'}], 'refusal': None}, response_metadata={'token_usage': {'completion_tokens': 108, 'prompt_tokens': 1410, 'total_tokens': 1518}, 'model_name': 'gpt-4o-2024-05-13', 'system_fingerprint': 'fp_157b3831f5', 'finish_reason': 'tool_calls', 'logprobs': None}, id='run-b13a806f-ff73-4b06-89f0-762b6c6e36f9-0', tool_calls=[{'name': 'duckduckgo_search', 'args': {'query': 'Tim Dettmers latest tweet'}, 'id': 'call_Fs8RmYkkL7C8HRMYEUgciHQ7', 'type': 'tool_call'}, {'name': 'duckduckgo_search', 'args': {'query': 'Artidoro Pagnoni latest tweet'}, 'id': 'call_bPKxUvnvmlpo4CGUX2hGhQus', 'type': 'tool_call'}, {'name': 'duckduckgo_search', 'args': {'query': 'Ari Holtzman latest tweet'}, 'id': 'call_6laABzWyF80TN7ZtYS7oskUG', 'type': 'tool_call'}, {'name': 'duckduckgo_search', 'args': {'query': 'Luke Zettlemoyer latest tweet'}, 'id': 'call_gzt8yPM6g2cPuYDg4377Q4UI', 'type': 'tool_call'}], usage_metadata={'input_tokens': 1410, 'output_tokens': 108, 'total_tokens': 1518})]\n",
      "\n",
      "\n",
      "\n",
      "Receiving update from node: 'action'\n",
      "Tool Used: duckduckgo_search\n",
      "[ToolMessage(content='Allen School Ph.D. student Tim Dettmers accepted the grand prize for QLoRA, a novel approach to finetuning pretrained models that significantly reduces the amount of GPU memory required — from over 780GB to less than 48GB — to finetune a 65B parameter model. With QLoRA, the largest publicly available models can be finetuned on a single ... Tim Dettmers, Ruslan A. Svirschevski, Vage Egiazarian, Denis Kuznedelev, ... (SpQR), a new compressed format and quantization technique that enables for the first time \\\\emph{near-lossless} compression of LLMs across model scales while reaching similar compression levels to previous methods. SpQR works by identifying and isolating \\\\emph{outlier ... Her new position hasn\\'t been finalized. ... — Tim Dettmers is joining Ai2 as an AI researcher. Dettmers specializes in efficient deep learning at the intersection of machine learning, NLP, and ... Tech Moves: AI researcher Yejin Choi leaves Univ. of Washington and Allen Institute for AI. by Todd Bishop & Taylor Soper on August 2, 2024. Yejin Choi, who was named a 2022 MacArthur Fellow and ... In the chat quoted in the complaint, researcher Tim Dettmers talks about his back-and-forth with Meta\\'s legal department whether the use of the book files as training data would be \"legally ok ...', name='duckduckgo_search', tool_call_id='call_Fs8RmYkkL7C8HRMYEUgciHQ7'), ToolMessage(content=\"Tim Dettmers, Artidoro Pagnoni, Ari Holtzman, Luke Zettlemoyer Published: 21 Sep 2023, Last Modified: 06 Nov 2023 NeurIPS 2023 oral Everyone Revisions BibTeX Keywords: finetuning, llama, instructions, quantization Artidoro Pagnoni artidoro 17 followers · 0 following https://artidoro.github.io/ ArtidoroPagnoni artidoro Making LLMs even more accessible with bitsandbytes, 4-bit quantization and QLoRA Papers 1 arxiv:2305.14314 models 3 Sort: Recently updated artidoro/model-tvergho Updated Nov 17, 2023 artidoro/model-vinaic Updated Nov 17, 2023 artidoro ... QLoRA (Quantized LoRA) takes this further by combining LoRA with quantization, a process that reduces the precision of the model's weights. This decreases the model's memory footprint, making it possible to fine-tune LLMs on consumer-grade hardware. Both LoRA and QLoRA offer a powerful way to customize large language models for specific use cases while minimizing computational requirements and ... In this paper, we address these aforementioned challenges associated with financial data and introduce FinGPT, an end-to-end open-source framework for financial large language models (FinLLMs). Adopting a data-centric approach, FinGPT underscores the crucial role of data acquisition, cleaning, and preprocessing in developing open-source FinLLMs. QLORA: efficient finetuning of quantized LLMs AUTHORs: Tim Dettmers, Artidoro Pagnoni, Ari Holtzman, Luke Zettlemoyer Authors Info & Claims NIPS '23: Proceedings of the 37th International Conference on Neural Information Processing Systems Article No.: 441, Pages 10088 - 10115 Published: 30 May 2024 Publication History 0 0 Publisher Site\", name='duckduckgo_search', tool_call_id='call_bPKxUvnvmlpo4CGUX2hGhQus'), ToolMessage(content='Ari Melber warns Trump campaign advisor Corey Lewandowski he \\'will be potentially in a defamation situation\\' on Wednesday\\'s episode of The Beat (MSNBC) \"I did not say that. That is a false ... MSNBC host Ari Melber, during an interview with Trump campaign adviser Corey Lewandowski on Wednesday, threatened him with a defamation lawsuit for quoting the anchor calling the former President ... The heated on-air dispute last night between MSNBC\\'s Ari Melber and Donald Trump campaign adviser Corey Lewandowski didn\\'t end with Wednesday\\'s segment: Today, Lewandowski tweeted a video in ... The team behind QLoRA includes Allen School Ph.D. student Artidoro Pagnoni; alum Ari Holtzman (Ph.D., \\'23), incoming professor at the University of Chicago; and professor Luke Zettlemoyer, who is also a research manager at Meta. Madrona Prize First Runner Up / Punica: Multi-Tenant LoRA Fine-tuned LLM Serving While in Mumbai, Ari would stay at the Holtzman\\'s home each evening. \"Their house was like a second home to me,\" explains Ari, who has travelled to India forty times. The last time that Ari was at the Holtzman\\'s Chabad House was two months ago, where he stayed for a week and participated in prayers and Torah lectures given by Rabbi ...', name='duckduckgo_search', tool_call_id='call_6laABzWyF80TN7ZtYS7oskUG'), ToolMessage(content=\"Luke Zettlemoyer is a research manager and site lead for FAIR Seattle. He is also a Professor in the Allen School of Computer Science & Engineering at the University of Washington. His research is in empirical computational semantics, where the goal is to build models that recover representations of the meaning of natural language text. Today we're joined by Luke Zettlemoyer, professor at University of Washington and a research manager at Meta. In our conversation with Luke, we cover multimodal generative AI, the effect of data on models, and the significance of open source and open science. We explore the grounding problem, the need for visual grounding and embodiment in \\ufeff Twitter \\ufeff Reddit. Join our list for notifications and early access to events ... About this Episode. Today we're joined by Luke Zettlemoyer, professor at University of Washington and a research manager at Meta. In our conversation with Luke, we cover multimodal generative AI, the effect of data on models, and the significance of open ... Evaluating the factuality of long-form text generated by large language models (LMs) is nontrivial because (1) generations often contain a mixture of... Luke Zettlemoyer, Christoph Feichtenhofer. Abstract. Contrastive Language-Image Pre-training (CLIP) is an approach that has advanced research and applications in computer vision, fueling modern recognition systems and generative models. We believe that the main ingredient to the success of CLIP is its data and not the model architecture or pre ...\", name='duckduckgo_search', tool_call_id='call_gzt8yPM6g2cPuYDg4377Q4UI')]\n",
      "\n",
      "\n",
      "\n",
      "Receiving update from node: 'agent'\n",
      "[AIMessage(content=\"Here are the latest updates and tweets for the authors of the QLoRA paper:\\n\\n1. **Tim Dettmers**:\\n   - Tim Dettmers is joining Ai2 as an AI researcher. He specializes in efficient deep learning at the intersection of machine learning, NLP, and more. His latest tweet or update involves his new position at Ai2 and his work on efficient deep learning.\\n\\n2. **Artidoro Pagnoni**:\\n   - Artidoro Pagnoni's latest updates include his work on making LLMs more accessible with bitsandbytes, 4-bit quantization, and QLoRA. His recent activities can be found on his GitHub page, where he updates his models and papers.\\n\\n3. **Ari Holtzman**:\\n   - Ari Holtzman, an alum and incoming professor at the University of Chicago, has been involved in various activities, including participating in prayers and Torah lectures at the Holtzman's Chabad House in Mumbai. His latest tweet or update involves his academic and personal engagements.\\n\\n4. **Luke Zettlemoyer**:\\n   - Luke Zettlemoyer is a research manager and site lead for FAIR Seattle and a professor at the University of Washington. His latest tweet or update involves his work on multimodal generative AI, the effect of data on models, and the significance of open source and open science.\\n\\nFor more detailed and specific tweets, you may need to visit their respective Twitter profiles or follow their latest activities on social media platforms.\", additional_kwargs={'refusal': None}, response_metadata={'token_usage': {'completion_tokens': 307, 'prompt_tokens': 2839, 'total_tokens': 3146}, 'model_name': 'gpt-4o-2024-05-13', 'system_fingerprint': 'fp_157b3831f5', 'finish_reason': 'stop', 'logprobs': None}, id='run-e600e8b9-99bb-4d47-8deb-e90000b8ba85-0', usage_metadata={'input_tokens': 2839, 'output_tokens': 307, 'total_tokens': 3146})]\n",
      "\n",
      "\n",
      "\n"
     ]
    }
   ],
   "source": [
    "inputs = {\"messages\" : [HumanMessage(content=\"Search Arxiv for the QLoRA paper, then search each of the authors to find out their latest Tweet using DuckDuckGo.\")]}\n",
    "\n",
    "async for chunk in compiled_graph.astream(inputs, stream_mode=\"updates\"):\n",
    "    for node, values in chunk.items():\n",
    "        print(f\"Receiving update from node: '{node}'\")\n",
    "        if node == \"action\":\n",
    "          print(f\"Tool Used: {values['messages'][0].name}\")\n",
    "        print(values[\"messages\"])\n",
    "\n",
    "        print(\"\\n\\n\")"
   ]
  },
  {
   "cell_type": "markdown",
   "metadata": {
    "id": "CXzDlZVz1Hnf"
   },
   "source": [
    "####🏗️ Activity #2:\n",
    "\n",
    "Please write out the steps the agent took to arrive at the correct answer.\n",
    "\n",
    "In the case above:\n",
    "1. The agent proposed first proposed to search DuckDuckGo for the QLora paper query.\n",
    "2. The action node then returned detailed information about the QLora paper using DuckDuckGo\n",
    "3. The agent then proposed to search for `<author> latest tweet` query for each of the authors\n",
    "4. The action node returned information about the latest tweets back to the agent\n",
    "5. The agent then gave the final answer using information about the latest tweets"
   ]
  },
  {
   "cell_type": "markdown",
   "metadata": {
    "id": "v7c8-Uyarh1v"
   },
   "source": [
    "## Part 1: LangSmith Evaluator"
   ]
  },
  {
   "cell_type": "markdown",
   "metadata": {
    "id": "pV3XeFOT1Sar"
   },
   "source": [
    "### Pre-processing for LangSmith"
   ]
  },
  {
   "cell_type": "markdown",
   "metadata": {
    "id": "wruQCuzewUuO"
   },
   "source": [
    "To do a little bit more preprocessing, let's wrap our LangGraph agent in a simple chain."
   ]
  },
  {
   "cell_type": "code",
   "execution_count": 20,
   "metadata": {
    "id": "oeXdQgbxwhTv"
   },
   "outputs": [],
   "source": [
    "def convert_inputs(input_object):\n",
    "  return {\"messages\" : [HumanMessage(content=input_object[\"question\"])]}\n",
    "\n",
    "def parse_output(input_state):\n",
    "  return input_state[\"messages\"][-1].content\n",
    "\n",
    "agent_chain = convert_inputs | compiled_graph | parse_output"
   ]
  },
  {
   "cell_type": "code",
   "execution_count": 21,
   "metadata": {
    "colab": {
     "base_uri": "https://localhost:8080/",
     "height": 139
    },
    "id": "orYxBZXSxJjZ",
    "outputId": "b160f3e4-89d1-4411-ed96-fe17b3cad200"
   },
   "outputs": [
    {
     "data": {
      "text/plain": [
       "'RAG stands for Retrieval-Augmented Generation. It is a technique used in natural language processing (NLP) that combines retrieval-based methods with generative models to improve the quality and relevance of generated text. Here’s a brief overview of how it works:\\n\\n1. **Retrieval**: In the first step, the system retrieves relevant documents or pieces of information from a large corpus based on the input query. This is typically done using a retrieval model like BM25 or a dense retrieval model like DPR (Dense Passage Retrieval).\\n\\n2. **Augmentation**: The retrieved documents are then used to augment the input query. This means that the information from the retrieved documents is combined with the original query to provide more context and relevant information.\\n\\n3. **Generation**: Finally, a generative model (such as GPT-3, BERT, or T5) uses the augmented input to generate a response. The generative model can produce more accurate and contextually relevant answers because it has access to additional information from the retrieval step.\\n\\nRAG is particularly useful in scenarios where the generative model alone might not have enough information to produce a high-quality response, such as in open-domain question answering, customer support, and other applications requiring detailed and specific information.'"
      ]
     },
     "execution_count": 21,
     "metadata": {},
     "output_type": "execute_result"
    }
   ],
   "source": [
    "agent_chain.invoke({\"question\" : \"What is RAG?\"})"
   ]
  },
  {
   "cell_type": "markdown",
   "metadata": {
    "id": "f9UkCIqkpyZu"
   },
   "source": [
    "### Task 1: Creating An Evaluation Dataset\n",
    "\n",
    "Just as we saw last week, we'll want to create a dataset to test our Agent's ability to answer questions.\n",
    "\n",
    "In order to do this - we'll want to provide some questions and some answers. Let's look at how we can create such a dataset below.\n",
    "\n",
    "```python\n",
    "questions = [\n",
    "    \"What optimizer is used in QLoRA?\",\n",
    "    \"What data type was created in the QLoRA paper?\",\n",
    "    \"What is a Retrieval Augmented Generation system?\",\n",
    "    \"Who authored the QLoRA paper?\",\n",
    "    \"What is the most popular deep learning framework?\",\n",
    "    \"What significant improvements does the LoRA system make?\"\n",
    "]\n",
    "\n",
    "answers = [\n",
    "    {\"must_mention\" : [\"paged\", \"optimizer\"]},\n",
    "    {\"must_mention\" : [\"NF4\", \"NormalFloat\"]},\n",
    "    {\"must_mention\" : [\"ground\", \"context\"]},\n",
    "    {\"must_mention\" : [\"Tim\", \"Dettmers\"]},\n",
    "    {\"must_mention\" : [\"PyTorch\", \"TensorFlow\"]},\n",
    "    {\"must_mention\" : [\"reduce\", \"parameters\"]},\n",
    "]\n",
    "```"
   ]
  },
  {
   "cell_type": "markdown",
   "metadata": {
    "id": "VfMXF2KAsQxs"
   },
   "source": [
    "####🏗️ Activity #3:\n",
    "\n",
    "Please create a dataset in the above format with at least 5 questions."
   ]
  },
  {
   "cell_type": "code",
   "execution_count": 24,
   "metadata": {
    "id": "CbagRuJop83E"
   },
   "outputs": [],
   "source": [
    "questions = [\n",
    "    \"What is the most common loss function for multiclass classification?\",\n",
    "    \"What is the most popular and effective deep learning optimizer?\",\n",
    "    \"What distance metric is used during RAG?\",\n",
    "    \"What are the most popular strategies to compress a deep neural network?\",\n",
    "    \"What is the most important benchmark dataset for image classification?\",\n",
    "    \"What optimizer is used in QLoRA?\",\n",
    "    \"What data type was created in the QLoRA paper?\",\n",
    "    \"What is a Retrieval Augmented Generation system?\",\n",
    "    \"Who authored the QLoRA paper?\",\n",
    "    \"What is the most popular deep learning framework?\",\n",
    "    \"What significant improvements does the LoRA system make?\"\n",
    "]\n",
    "\n",
    "answers = [\n",
    "    {\"must_mention\" : [\"Cross Entropy\"]},\n",
    "    {\"must_mention\" : [\"Adam\"]},\n",
    "    {\"must_mention\" : [\"cosine similarity\"]},\n",
    "    {\"must_mention\" : [\"Pruning\", \"Quantization\"]},\n",
    "    {\"must_mention\" : [\"ImageNet\"]},\n",
    "    {\"must_mention\" : [\"paged\", \"optimizer\"]},\n",
    "    {\"must_mention\" : [\"NF4\", \"NormalFloat\"]},\n",
    "    {\"must_mention\" : [\"ground\", \"context\"]},\n",
    "    {\"must_mention\" : [\"Tim\", \"Dettmers\"]},\n",
    "    {\"must_mention\" : [\"PyTorch\", \"TensorFlow\"]},\n",
    "    {\"must_mention\" : [\"reduce\", \"parameters\"]},\n",
    "]"
   ]
  },
  {
   "cell_type": "markdown",
   "metadata": {
    "id": "z7QVFuAmsh7L"
   },
   "source": [
    "Now we can add our dataset to our LangSmith project using the following code which we saw last Thursday!"
   ]
  },
  {
   "cell_type": "code",
   "execution_count": 25,
   "metadata": {
    "id": "RLfrZrgSsn85"
   },
   "outputs": [],
   "source": [
    "from langsmith import Client\n",
    "\n",
    "client = Client()\n",
    "dataset_name = f\"Retrieval Augmented Generation - Evaluation Dataset - {uuid4().hex[0:8]}\"\n",
    "\n",
    "dataset = client.create_dataset(\n",
    "    dataset_name=dataset_name,\n",
    "    description=\"Questions about the QLoRA Paper to Evaluate RAG over the same paper.\"\n",
    ")\n",
    "\n",
    "client.create_examples(\n",
    "    inputs=[{\"question\" : q} for q in questions],\n",
    "    outputs=answers,\n",
    "    dataset_id=dataset.id,\n",
    ")"
   ]
  },
  {
   "cell_type": "markdown",
   "metadata": {
    "id": "ciV73F9Q04w0"
   },
   "source": [
    "#### ❓ Question #3:\n",
    "\n",
    "How are the correct answers associated with the questions?\n",
    "\n",
    "> NOTE: Feel free to indicate if this is problematic or not\n",
    "\n",
    "The correct answers are usually phrases which should be present in the answer given by the LLM. However, in some cases, the answers may not be precise or their could be more than one answer to the same question."
   ]
  },
  {
   "cell_type": "markdown",
   "metadata": {
    "id": "-lRTXUrTtP9Y"
   },
   "source": [
    "### Task 2: Adding Evaluators\n",
    "\n",
    "Now we can add a custom evaluator to see if our responses contain the expected information.\n",
    "\n",
    "We'll be using a fairly naive exact-match process to determine if our response contains specific strings."
   ]
  },
  {
   "cell_type": "code",
   "execution_count": 26,
   "metadata": {
    "id": "QrAUXMFftlAY"
   },
   "outputs": [],
   "source": [
    "from langsmith.evaluation import EvaluationResult, run_evaluator\n",
    "\n",
    "@run_evaluator\n",
    "def must_mention(run, example) -> EvaluationResult:\n",
    "    prediction = run.outputs.get(\"output\") or \"\"\n",
    "    prediction = prediction.lower().replace(\"-\", \" \") # Lowercase the output and remove hyphens\n",
    "    required = example.outputs.get(\"must_mention\") or []\n",
    "    required = [r.lower() for r in required]\n",
    "    score = all(phrase.lower() in prediction for phrase in required)\n",
    "    return EvaluationResult(key=\"must_mention\", score=score)"
   ]
  },
  {
   "cell_type": "markdown",
   "metadata": {
    "id": "PNtHORUh0jZY"
   },
   "source": [
    "#### ❓ Question #4:\n",
    "\n",
    "What are some ways you could improve this metric as-is?\n",
    "\n",
    "> NOTE: Alternatively you can suggest where gaps exist in this method.\n",
    "\n",
    "There are a few ways:\n",
    "1. The original metric was only doing a direct string comparison. This can be problematic. It is better to do a fuzzy match. I implemented lowercasing and hyphen removal from the LLM output above.\n",
    "2. Another way is to simply create an LLM chain and ask it if the required words are present in the outputs."
   ]
  },
  {
   "cell_type": "markdown",
   "metadata": {
    "id": "mZ4DVSXl0BX5"
   },
   "source": [
    "Now that we have created our custom evaluator - let's initialize our `RunEvalConfig` with it!"
   ]
  },
  {
   "cell_type": "code",
   "execution_count": 27,
   "metadata": {
    "id": "sL4-XcjytWsu"
   },
   "outputs": [],
   "source": [
    "from langchain.smith import RunEvalConfig, run_on_dataset\n",
    "\n",
    "eval_config = RunEvalConfig(\n",
    "    custom_evaluators=[must_mention],\n",
    ")"
   ]
  },
  {
   "cell_type": "markdown",
   "metadata": {
    "id": "r1RJr349zhv7"
   },
   "source": [
    "Task 3: Evaluating\n",
    "\n",
    "All that is left to do is evaluate our agent's response!"
   ]
  },
  {
   "cell_type": "code",
   "execution_count": 28,
   "metadata": {
    "colab": {
     "base_uri": "https://localhost:8080/"
    },
    "id": "p5TeCUUkuGld",
    "outputId": "8b98fff1-bd75-4dbe-cadc-a76d8a82577c"
   },
   "outputs": [
    {
     "name": "stdout",
     "output_type": "stream",
     "text": [
      "View the evaluation results for project 'RAG Pipeline - Evaluation - bb69bf68' at:\n",
      "https://smith.langchain.com/o/f7ca0545-d8d4-5a10-81e4-f60466d7b363/datasets/b209ab28-e587-4030-b9ab-46fddc4d4f98/compare?selectedSessions=6adb4625-2ff9-4411-a861-e2b3f6451a45\n",
      "\n",
      "View all tests for Dataset Retrieval Augmented Generation - Evaluation Dataset - c50c5564 at:\n",
      "https://smith.langchain.com/o/f7ca0545-d8d4-5a10-81e4-f60466d7b363/datasets/b209ab28-e587-4030-b9ab-46fddc4d4f98\n",
      "[------------------------------------------------->] 11/11"
     ]
    },
    {
     "data": {
      "text/plain": [
       "{'project_name': 'RAG Pipeline - Evaluation - bb69bf68',\n",
       " 'results': {'75fef055-5bfd-4480-beef-0126a6ead5ef': {'input': {'question': 'What is the most common loss function for multiclass classification?'},\n",
       "   'feedback': [EvaluationResult(key='must_mention', score=True, value=None, comment=None, correction=None, evaluator_info={}, feedback_config=None, source_run_id=UUID('c9b32039-06e1-4b91-8bd7-0fee5aa98510'), target_run_id=None)],\n",
       "   'execution_time': 3.791066,\n",
       "   'run_id': '7f1d8c82-1fb1-4862-9574-bb116494de99',\n",
       "   'output': 'The most common loss function for multiclass classification is the **Cross-Entropy Loss** (also known as Softmax Loss). This loss function is widely used because it effectively measures the performance of a classification model whose output is a probability value between 0 and 1. \\n\\nIn a multiclass classification problem, the Cross-Entropy Loss is calculated as follows:\\n\\n\\\\[ L = -\\\\sum_{i=1}^{N} \\\\sum_{c=1}^{C} y_{i,c} \\\\log(p_{i,c}) \\\\]\\n\\nwhere:\\n- \\\\( N \\\\) is the number of samples.\\n- \\\\( C \\\\) is the number of classes.\\n- \\\\( y_{i,c} \\\\) is a binary indicator (0 or 1) if class label \\\\( c \\\\) is the correct classification for sample \\\\( i \\\\).\\n- \\\\( p_{i,c} \\\\) is the predicted probability that sample \\\\( i \\\\) belongs to class \\\\( c \\\\).\\n\\nThe Cross-Entropy Loss penalizes the model more when the predicted probability diverges from the actual label, encouraging the model to output probabilities that are close to the true distribution of the data.',\n",
       "   'reference': {'must_mention': ['Cross Entropy']}},\n",
       "  'c4463d10-20b6-4ba4-a85a-059b04e28bc3': {'input': {'question': 'What is the most popular and effective deep learning optimizer?'},\n",
       "   'feedback': [EvaluationResult(key='must_mention', score=True, value=None, comment=None, correction=None, evaluator_info={}, feedback_config=None, source_run_id=UUID('020db47d-cb22-47f7-9f12-20b0502ccb75'), target_run_id=None)],\n",
       "   'execution_time': 23.327599,\n",
       "   'run_id': 'cd843806-28e6-4fd7-a781-0b690e1c3eed',\n",
       "   'output': 'The most popular and effective deep learning optimizers, as of recent studies and articles, include:\\n\\n1. **Stochastic Gradient Descent (SGD)**: This is a foundational optimizer that updates parameters using a global learning rate. It is widely used due to its simplicity and effectiveness, especially when combined with techniques like momentum and learning rate schedules.\\n\\n2. **Adam (Adaptive Moment Estimation)**: Adam is one of the most popular optimizers in deep learning due to its adaptive learning rate capabilities. It combines the advantages of two other extensions of stochastic gradient descent, namely AdaGrad and RMSProp, making it suitable for a wide range of deep learning tasks.\\n\\n3. **RMSprop**: This optimizer is particularly effective for recurrent neural networks and is known for its ability to handle non-stationary objectives by adapting the learning rate based on a moving average of squared gradients.\\n\\n4. **AdaGrad**: This optimizer adapts the learning rate to the parameters, performing larger updates for infrequent and smaller updates for frequent parameters. However, it can slow down significantly over time.\\n\\n5. **Deep Extreme Learning Machines (Deep ELM)**: This is a newer approach that focuses on reducing training time and providing real-time decision systems. It is particularly effective for fast classification problems.\\n\\n### Key Insights from Recent Studies:\\n- **SGD**: Works well with large datasets and can be enhanced with techniques like momentum.\\n- **Adam**: Highly popular due to its adaptive learning rate and robustness across various tasks.\\n- **RMSprop**: Effective for tasks with non-stationary objectives, such as training recurrent neural networks.\\n- **AdaGrad**: Useful for sparse data but may slow down over time.\\n- **Deep ELM**: Offers fast training times and is suitable for real-time applications.\\n\\n### References:\\n1. **Selecting the best optimizers for deep learning-based medical image segmentation**: This study highlights the effectiveness of various optimizers in the context of medical image segmentation.\\n2. **Frank-Wolfe optimization for deep networks**: This paper compares Frank-Wolfe optimization with gradient descent, noting that gradient descent remains faster and more stable.\\n3. **Superiorities of Deep Extreme Learning Machines against Convolutional Neural Networks**: Discusses the advantages of Deep ELM in terms of training speed and real-time decision-making.\\n4. **A First Look at Deep Learning Apps on Smartphones**: Provides insights into how deep learning optimizers are used in mobile applications.\\n\\nThese optimizers are chosen based on their ability to handle different types of data and tasks effectively, making them popular choices in the deep learning community.',\n",
       "   'reference': {'must_mention': ['Adam']}},\n",
       "  'ff37a10c-e351-42bd-8a17-ecb05a3302a9': {'input': {'question': 'What distance metric is used during RAG?'},\n",
       "   'feedback': [EvaluationResult(key='must_mention', score=True, value=None, comment=None, correction=None, evaluator_info={}, feedback_config=None, source_run_id=UUID('72ee0c57-0a0a-4f5f-a12c-571fd0001d28'), target_run_id=None)],\n",
       "   'execution_time': 5.390628,\n",
       "   'run_id': '3ee486b6-3305-4047-b646-28ef248d6203',\n",
       "   'output': 'Retrieval-Augmented Generation (RAG) is a framework that combines retrieval-based and generation-based approaches for tasks like question answering. In RAG, a retriever model first retrieves relevant documents from a large corpus, and then a generator model uses these documents to generate a response.\\n\\nThe distance metric used during the retrieval phase of RAG can vary depending on the specific implementation and the retriever model used. Common distance metrics include:\\n\\n1. **Cosine Similarity**: Measures the cosine of the angle between two vectors. It is often used when the vectors are normalized.\\n2. **Dot Product**: Measures the similarity by taking the dot product of two vectors. This is commonly used in dense retrieval models like those based on BERT.\\n3. **Euclidean Distance**: Measures the straight-line distance between two points in a vector space. Less common in high-dimensional spaces due to the curse of dimensionality.\\n4. **Manhattan Distance**: Measures the distance between two points in a grid-based path (sum of absolute differences).\\n\\nIn many state-of-the-art implementations, cosine similarity or dot product is used, especially when dealing with embeddings generated by models like BERT or other transformer-based architectures.\\n\\nWould you like to know more about a specific implementation or model?',\n",
       "   'reference': {'must_mention': ['cosine similarity']}},\n",
       "  '1ccbe5d2-8ecc-429c-8318-042b32af0032': {'input': {'question': 'What are the most popular strategies to compress a deep neural network?'},\n",
       "   'feedback': [EvaluationResult(key='must_mention', score=True, value=None, comment=None, correction=None, evaluator_info={}, feedback_config=None, source_run_id=UUID('e831770f-de52-4d39-9a64-d3289a8a9bf0'), target_run_id=None)],\n",
       "   'execution_time': 8.152007,\n",
       "   'run_id': 'd3a1d9a0-bc38-40c5-97f0-c9096d7abf06',\n",
       "   'output': 'Compressing deep neural networks is a crucial task to make them more efficient and deployable on resource-constrained devices. Here are some of the most popular strategies for compressing deep neural networks:\\n\\n1. **Pruning**:\\n   - **Weight Pruning**: Removing less important weights from the network.\\n   - **Neuron Pruning**: Removing entire neurons or channels that contribute less to the output.\\n   - **Structured Pruning**: Removing entire structures like filters, channels, or layers.\\n\\n2. **Quantization**:\\n   - **Post-Training Quantization**: Reducing the precision of the weights and activations after training (e.g., from 32-bit floating point to 8-bit integer).\\n   - **Quantization-Aware Training**: Training the network with quantization in mind to maintain accuracy.\\n\\n3. **Knowledge Distillation**:\\n   - Training a smaller \"student\" network to mimic the behavior of a larger \"teacher\" network.\\n\\n4. **Low-Rank Factorization**:\\n   - Decomposing weight matrices into products of lower-rank matrices to reduce the number of parameters.\\n\\n5. **Weight Sharing**:\\n   - Using a limited set of shared weights across different parts of the network.\\n\\n6. **Sparse Representations**:\\n   - Encouraging sparsity in the network weights through regularization techniques like L1 regularization.\\n\\n7. **Efficient Architectures**:\\n   - Designing inherently efficient network architectures such as MobileNets, SqueezeNet, and EfficientNet.\\n\\n8. **Parameter Sharing**:\\n   - Sharing parameters across different layers or parts of the network to reduce the total number of unique parameters.\\n\\n9. **Tensor Decomposition**:\\n   - Decomposing tensors into smaller components to reduce the computational complexity.\\n\\n10. **Dynamic Inference**:\\n    - Adjusting the network\\'s complexity dynamically based on the input, such as using early exit strategies.\\n\\nThese strategies can be used individually or in combination to achieve significant reductions in model size and computational requirements while maintaining acceptable levels of accuracy.',\n",
       "   'reference': {'must_mention': ['Pruning', 'Quantization']}},\n",
       "  'd96df748-a389-4c39-8a58-af621d0490c9': {'input': {'question': 'What is the most important benchmark dataset for image classification?'},\n",
       "   'feedback': [EvaluationResult(key='must_mention', score=True, value=None, comment=None, correction=None, evaluator_info={}, feedback_config=None, source_run_id=UUID('19cde507-575e-430f-a67f-3df74ebb3d2d'), target_run_id=None)],\n",
       "   'execution_time': 2.07926,\n",
       "   'run_id': 'd05e67a6-cccc-45ec-a2a8-fad4a4d02cb6',\n",
       "   'output': 'One of the most important benchmark datasets for image classification is the ImageNet dataset. ImageNet is a large visual database designed for use in visual object recognition software research. It contains millions of labeled images across thousands of categories and has been widely used in the development and evaluation of image classification algorithms.\\n\\nThe ImageNet Large Scale Visual Recognition Challenge (ILSVRC) has been particularly influential, as it has driven significant advancements in the field of computer vision. The challenge involves classifying images into 1,000 different categories, and it has been a key benchmark for measuring the performance of image classification models.',\n",
       "   'reference': {'must_mention': ['ImageNet']}},\n",
       "  '3e7ec5a5-aba9-4505-9a5f-67efb2a2ccdc': {'input': {'question': 'What optimizer is used in QLoRA?'},\n",
       "   'feedback': [EvaluationResult(key='must_mention', score=True, value=None, comment=None, correction=None, evaluator_info={}, feedback_config=None, source_run_id=UUID('d8ca25a1-03b4-4e2a-875f-de1cde6aad1a'), target_run_id=None)],\n",
       "   'execution_time': 3.252496,\n",
       "   'run_id': '6b479776-836f-40ae-a1fb-83299c0c08e9',\n",
       "   'output': 'QLoRA (Quantized Low-Rank Adaptation) uses **paged optimizers** to manage memory spikes during the finetuning process. This approach is part of the innovations introduced by QLoRA to save memory without sacrificing performance.',\n",
       "   'reference': {'must_mention': ['paged', 'optimizer']}},\n",
       "  '7eb29c47-70c3-4b61-a86f-19d4f8fe4fa9': {'input': {'question': 'What data type was created in the QLoRA paper?'},\n",
       "   'feedback': [EvaluationResult(key='must_mention', score=True, value=None, comment=None, correction=None, evaluator_info={}, feedback_config=None, source_run_id=UUID('6a8a6611-7e8c-4b37-9ec0-eb1a25f26690'), target_run_id=None)],\n",
       "   'execution_time': 3.995545,\n",
       "   'run_id': '02fa8937-dc6e-4a90-a946-0b89d1aee4e6',\n",
       "   'output': 'In the QLoRA paper, a new data type called **4-bit NormalFloat (NF4)** was introduced. This data type is designed to be information-theoretically optimal for normally distributed weights, which helps in reducing memory usage while preserving performance during the finetuning of quantized large language models (LLMs).',\n",
       "   'reference': {'must_mention': ['NF4', 'NormalFloat']}},\n",
       "  'd12cfe3f-88c5-4b47-98d2-b7af52cfae75': {'input': {'question': 'What is a Retrieval Augmented Generation system?'},\n",
       "   'feedback': [EvaluationResult(key='must_mention', score=False, value=None, comment=None, correction=None, evaluator_info={}, feedback_config=None, source_run_id=UUID('e041e492-c686-46bc-9483-a6d2d5a66b90'), target_run_id=None)],\n",
       "   'execution_time': 6.657596,\n",
       "   'run_id': '28532015-d5e0-45fd-9168-c87e1ab32677',\n",
       "   'output': \"A Retrieval Augmented Generation (RAG) system is a type of artificial intelligence model that combines retrieval-based and generation-based approaches to improve the quality and relevance of generated responses. Here's a breakdown of the components and how they work together:\\n\\n1. **Retrieval Component**: This part of the system retrieves relevant documents or pieces of information from a large corpus based on the input query. It uses techniques from information retrieval, such as keyword matching, semantic search, or more advanced methods like dense retrieval using neural networks.\\n\\n2. **Generation Component**: This part of the system generates a response based on the retrieved information and the input query. It typically uses a language model, such as GPT (Generative Pre-trained Transformer), to produce coherent and contextually appropriate text.\\n\\n### How RAG Works:\\n1. **Input Query**: The system receives an input query or prompt from the user.\\n2. **Retrieval Step**: The retrieval component searches a large database or corpus to find the most relevant documents or pieces of information related to the query.\\n3. **Augmentation Step**: The retrieved information is then used to augment the input query, providing additional context and details.\\n4. **Generation Step**: The generation component uses the augmented input to generate a response. The language model takes into account both the original query and the retrieved information to produce a more accurate and informative answer.\\n\\n### Benefits of RAG:\\n- **Improved Relevance**: By incorporating relevant information from a large corpus, the system can generate responses that are more accurate and contextually appropriate.\\n- **Knowledge Integration**: The system can leverage external knowledge sources, making it more knowledgeable and capable of providing detailed answers.\\n- **Flexibility**: RAG systems can be applied to various tasks, including question answering, summarization, and conversational agents.\\n\\n### Applications:\\n- **Customer Support**: Providing accurate and contextually relevant answers to customer queries.\\n- **Educational Tools**: Assisting students with detailed explanations and information retrieval.\\n- **Content Creation**: Helping writers and content creators generate high-quality content based on extensive research.\\n\\nOverall, RAG systems represent a powerful approach to combining the strengths of retrieval-based and generation-based models, leading to more effective and intelligent AI systems.\",\n",
       "   'reference': {'must_mention': ['ground', 'context']}},\n",
       "  'd7aaa0fa-7d68-4bdd-8432-e08b6fc0f747': {'input': {'question': 'Who authored the QLoRA paper?'},\n",
       "   'feedback': [EvaluationResult(key='must_mention', score=False, value=None, comment=None, correction=None, evaluator_info={}, feedback_config=None, source_run_id=UUID('7ae9999d-02dc-4b5d-8c57-33ea15be4706'), target_run_id=None)],\n",
       "   'execution_time': 4.316897,\n",
       "   'run_id': 'fba10067-2437-43e4-9809-800f72c78a5b',\n",
       "   'output': 'The QLoRA paper titled \"Accurate LoRA-Finetuning Quantization of LLMs via Information Retention\" was authored by:\\n\\n- Haotong Qin\\n- Xudong Ma\\n- Xingyu Zheng\\n- Xiaoyang Li\\n- Yang Zhang\\n- Shouda Liu\\n- Jie Luo\\n- Xianglong Liu\\n- Michele Magno\\n\\nYou can find more details and the paper [here](https://github.com/htqin/ir-qlora).',\n",
       "   'reference': {'must_mention': ['Tim', 'Dettmers']}},\n",
       "  '1eba25e2-0c5b-45cb-b0ae-c002e4b2f468': {'input': {'question': 'What is the most popular deep learning framework?'},\n",
       "   'feedback': [EvaluationResult(key='must_mention', score=True, value=None, comment=None, correction=None, evaluator_info={}, feedback_config=None, source_run_id=UUID('1ffe68e6-5df4-4764-b4e2-60570cd810b0'), target_run_id=None)],\n",
       "   'execution_time': 3.249685,\n",
       "   'run_id': '7a3075e2-a1f5-4ef5-858b-d1dc96fcf97e',\n",
       "   'output': 'As of 2023, the most popular deep learning frameworks are TensorFlow and PyTorch. Both are widely used by machine learning engineers, data scientists, developers, and researchers for various projects.',\n",
       "   'reference': {'must_mention': ['PyTorch', 'TensorFlow']}},\n",
       "  'ca4e5387-759b-4998-993c-14ae92a7490b': {'input': {'question': 'What significant improvements does the LoRA system make?'},\n",
       "   'feedback': [EvaluationResult(key='must_mention', score=True, value=None, comment=None, correction=None, evaluator_info={}, feedback_config=None, source_run_id=UUID('f228cef9-758e-4c27-9634-7848d4b647c8'), target_run_id=None)],\n",
       "   'execution_time': 8.330817,\n",
       "   'run_id': '0a4981b3-0aa7-4325-b57e-37c1fc961e94',\n",
       "   'output': \"The Low-Rank Adaptation (LoRA) system has introduced several significant improvements, particularly in the context of fine-tuning large language models (LLMs) and other AI models. Here are some key advancements:\\n\\n1. **Parameter Efficiency**: LoRA allows for efficient fine-tuning by adjusting only a small, low-rank subset of the model's parameters. This reduces the computational and memory overhead compared to traditional fine-tuning methods.\\n\\n2. **Performance Gains**: Studies have shown that LoRA can unlock the performance of higher-rank models, achieving significant improvements in model accuracy and effectiveness. For instance, training with LoRA rank 16 and rank 256 showed little difference, but using rsLoRA (a variant) almost doubled the performance difference between the base model and rank 16 LoRA.\\n\\n3. **Communication Efficiency in Federated Learning**: In federated learning settings, LoRA has been adapted to improve communication efficiency. Techniques like FLASC apply sparsity to LoRA during communication, allowing clients to locally fine-tune the entire LoRA module. This method has shown to match the performance of dense LoRA with up to 10 times less communication.\\n\\n4. **Scalability and Flexibility**: LoRA's design allows for scalable and flexible implementation, making it suitable for various IoT applications. The architecture of LoRa networks, for instance, has been improved to ensure scalability and flexibility through decoupled modules and a messaging system based on streaming data.\\n\\n5. **Open-Source Contributions**: The LoRA system has benefited from open-source contributions, which have facilitated the development and implementation of cost-effective and flexible LoRa networks. This has enabled users to build private LoRa networks for various IoT applications conveniently.\\n\\n6. **Robustness and Privacy**: In federated learning, LoRA has been studied for its robustness to heterogeneity and privacy. The approach has shown benefits in terms of heterogeneity and privacy relative to existing approaches tailored to these specific concerns.\\n\\nOverall, LoRA has become a popular and essential technique for fine-tuning large models efficiently, with significant improvements in performance, communication efficiency, scalability, and flexibility.\",\n",
       "   'reference': {'must_mention': ['reduce', 'parameters']}}},\n",
       " 'aggregate_metrics': None}"
      ]
     },
     "execution_count": 28,
     "metadata": {},
     "output_type": "execute_result"
    }
   ],
   "source": [
    "client.run_on_dataset(\n",
    "    dataset_name=dataset_name,\n",
    "    llm_or_chain_factory=agent_chain,\n",
    "    evaluation=eval_config,\n",
    "    verbose=True,\n",
    "    project_name=f\"RAG Pipeline - Evaluation - {uuid4().hex[0:8]}\",\n",
    "    project_metadata={\"version\": \"1.0.0\"},\n",
    ")"
   ]
  },
  {
   "cell_type": "markdown",
   "metadata": {
    "id": "jhTNe4kWrplB"
   },
   "source": [
    "## Part 2: LangGraph with Helpfulness:"
   ]
  },
  {
   "cell_type": "markdown",
   "metadata": {
    "id": "w1wKRddbIY_S"
   },
   "source": [
    "### Task 3: Adding Helpfulness Check and \"Loop\" Limits\n",
    "\n",
    "Now that we've done evaluation - let's see if we can add an extra step where we review the content we've generated to confirm if it fully answers the user's query!\n",
    "\n",
    "We're going to make a few key adjustments to account for this:\n",
    "\n",
    "1. We're going to add an artificial limit on how many \"loops\" the agent can go through - this will help us to avoid the potential situation where we never exit the loop.\n",
    "2. We'll add to our existing conditional edge to obtain the behaviour we desire."
   ]
  },
  {
   "cell_type": "markdown",
   "metadata": {
    "id": "npTYJ8ayR5B3"
   },
   "source": [
    "First, let's define our state again - we can check the length of the state object, so we don't need additional state for this."
   ]
  },
  {
   "cell_type": "code",
   "execution_count": 29,
   "metadata": {
    "id": "-LQ84YhyJG0w"
   },
   "outputs": [],
   "source": [
    "class AgentState(TypedDict):\n",
    "  messages: Annotated[list, add_messages]"
   ]
  },
  {
   "cell_type": "markdown",
   "metadata": {
    "id": "sD7EV0HqSQcb"
   },
   "source": [
    "Now we can set our graph up! This process will be almost entirely the same - with the inclusion of one additional node/conditional edge!"
   ]
  },
  {
   "cell_type": "markdown",
   "metadata": {
    "id": "oajBwLkFVi1N"
   },
   "source": [
    "####🏗️ Activity #5:\n",
    "\n",
    "Please write markdown for the following cells to explain what each is doing."
   ]
  },
  {
   "cell_type": "markdown",
   "metadata": {
    "id": "M6rN7feNVn9f"
   },
   "source": [
    "##### YOUR MARKDOWN HERE\n",
    "1. We create a stategraph with the agent state class defined above.\n",
    "2. We then proceed to add a node for the agent.\n",
    "3. We then add a node for the action."
   ]
  },
  {
   "cell_type": "code",
   "execution_count": 30,
   "metadata": {
    "id": "6r6XXA5FJbVf"
   },
   "outputs": [],
   "source": [
    "graph_with_helpfulness_check = StateGraph(AgentState)\n",
    "\n",
    "graph_with_helpfulness_check.add_node(\"agent\", call_model)\n",
    "graph_with_helpfulness_check.add_node(\"action\", tool_node)"
   ]
  },
  {
   "cell_type": "markdown",
   "metadata": {
    "id": "XZ22o2mWVrfp"
   },
   "source": [
    "##### YOUR MARKDOWN HERE\n",
    "We set the entrypoint of the graph to be the agent"
   ]
  },
  {
   "cell_type": "code",
   "execution_count": 31,
   "metadata": {
    "id": "HNWHwWxuRiLY"
   },
   "outputs": [],
   "source": [
    "graph_with_helpfulness_check.set_entry_point(\"agent\")"
   ]
  },
  {
   "cell_type": "markdown",
   "metadata": {
    "id": "rsXeF6xlaXOZ"
   },
   "source": [
    "##### YOUR MARKDOWN HERE\n",
    "We create a conditional `tool_call_or_helpful` function. This function is responsible for conditionally evaluating whether to continue the agent's workflow or to end it. If the outcome of the message is to call a tool, then `\"action\"` outcome is returned, otherwise, it inspects the original message and the final response in the agent's state. It then sets up an LLM chain to ask whether the response was helpful (answering with a `'Y` or `'N'`. Depending on the output, the function returns whether end the loop or continue."
   ]
  },
  {
   "cell_type": "code",
   "execution_count": 33,
   "metadata": {
    "id": "z_Sq3A9SaV1O"
   },
   "outputs": [],
   "source": [
    "from langchain_core.prompts import PromptTemplate\n",
    "from langchain_core.output_parsers import StrOutputParser\n",
    "\n",
    "def tool_call_or_helpful(state):\n",
    "  last_message = state[\"messages\"][-1]\n",
    "\n",
    "  if last_message.tool_calls:\n",
    "    return \"action\"\n",
    "\n",
    "  initial_query = state[\"messages\"][0]\n",
    "  final_response = state[\"messages\"][-1]\n",
    "\n",
    "  if len(state[\"messages\"]) > 10:\n",
    "    return \"END\"\n",
    "\n",
    "  prompt_template = \"\"\"\\\n",
    "  Given an initial query and a final response, determine if the final response is extremely helpful or not. Please indicate helpfulness with a 'Y' and unhelpfulness as an 'N'.\n",
    "\n",
    "  Initial Query:\n",
    "  {initial_query}\n",
    "\n",
    "  Final Response:\n",
    "  {final_response}\"\"\"\n",
    "\n",
    "  prompt_template = PromptTemplate.from_template(prompt_template)\n",
    "\n",
    "  helpfulness_check_model = ChatOpenAI(model=\"gpt-4\")\n",
    "\n",
    "  helpfulness_chain = prompt_template | helpfulness_check_model | StrOutputParser()\n",
    "\n",
    "  helpfulness_response = helpfulness_chain.invoke({\"initial_query\" : initial_query.content, \"final_response\" : final_response.content})\n",
    "\n",
    "  if \"Y\" in helpfulness_response:\n",
    "    return \"end\"\n",
    "  else:\n",
    "    return \"continue\""
   ]
  },
  {
   "cell_type": "markdown",
   "metadata": {
    "id": "Fz1u9Vf4SHxJ"
   },
   "source": [
    "####🏗️ Activity #4:\n",
    "\n",
    "Please write what is happening in our `tool_call_or_helpful` function!\n",
    "\n",
    "We create a conditional `tool_call_or_helpful` function. This function is responsible for conditionally evaluating whether to continue the agent's workflow or to end it. It inspects the original message and the final response in the agent's state. It then sets up an LLM chain to ask whether the response was helpful (answering with a `'Y` or `'N'`. Depending on the output, the function returns whether end the loop or continue."
   ]
  },
  {
   "cell_type": "markdown",
   "metadata": {
    "id": "6BhnBW2YVsJO"
   },
   "source": [
    "##### YOUR MARKDOWN HERE\n",
    "We add a conditional edge to the graph which depending on the output of the agent, either continues or ends the execution."
   ]
  },
  {
   "cell_type": "code",
   "execution_count": 34,
   "metadata": {
    "id": "aVTKnWMbP_8T"
   },
   "outputs": [],
   "source": [
    "graph_with_helpfulness_check.add_conditional_edges(\n",
    "    \"agent\",\n",
    "    tool_call_or_helpful,\n",
    "    {\n",
    "        \"continue\" : \"agent\",\n",
    "        \"action\" : \"action\",\n",
    "        \"end\" : END\n",
    "    }\n",
    ")"
   ]
  },
  {
   "cell_type": "markdown",
   "metadata": {
    "id": "ZGDLEWOIVtK0"
   },
   "source": [
    "##### YOUR MARKDOWN HERE\n",
    "We add an edge between the action and the agent."
   ]
  },
  {
   "cell_type": "code",
   "execution_count": 35,
   "metadata": {
    "id": "cbDK2MbuREgU"
   },
   "outputs": [],
   "source": [
    "graph_with_helpfulness_check.add_edge(\"action\", \"agent\")"
   ]
  },
  {
   "cell_type": "markdown",
   "metadata": {
    "id": "rSI8AOaEVvT-"
   },
   "source": [
    "##### YOUR MARKDOWN HERE\n",
    "We compile the graph."
   ]
  },
  {
   "cell_type": "code",
   "execution_count": 36,
   "metadata": {
    "id": "oQldl8ERQ8lf"
   },
   "outputs": [],
   "source": [
    "agent_with_helpfulness_check = graph_with_helpfulness_check.compile()"
   ]
  },
  {
   "cell_type": "markdown",
   "metadata": {
    "id": "F67FGCMRVwGz"
   },
   "source": [
    "##### YOUR MARKDOWN HERE"
   ]
  },
  {
   "cell_type": "code",
   "execution_count": 37,
   "metadata": {
    "colab": {
     "base_uri": "https://localhost:8080/"
    },
    "id": "B3oo8E-PRK1T",
    "outputId": "22470df4-9aa7-4751-95b6-d30ce71b17db"
   },
   "outputs": [
    {
     "name": "stdout",
     "output_type": "stream",
     "text": [
      "Receiving update from node: 'agent'\n",
      "[AIMessage(content='', additional_kwargs={'tool_calls': [{'id': 'call_22JsRdBXlLFkdhnRngdXGBtT', 'function': {'arguments': '{\"query\": \"LoRA machine learning\"}', 'name': 'duckduckgo_search'}, 'type': 'function'}, {'id': 'call_Hupal7AQ1vka6RsX2zP5dFKC', 'function': {'arguments': '{\"query\": \"Tim Dettmers\"}', 'name': 'duckduckgo_search'}, 'type': 'function'}, {'id': 'call_9nzR5lwpDEUvsOBpzs31xeUM', 'function': {'arguments': '{\"query\": \"Attention in machine learning\"}', 'name': 'duckduckgo_search'}, 'type': 'function'}], 'refusal': None}, response_metadata={'token_usage': {'completion_tokens': 76, 'prompt_tokens': 171, 'total_tokens': 247}, 'model_name': 'gpt-4o-2024-05-13', 'system_fingerprint': 'fp_fde2829a40', 'finish_reason': 'tool_calls', 'logprobs': None}, id='run-6d4aa028-d958-4f9c-a343-ffbace944247-0', tool_calls=[{'name': 'duckduckgo_search', 'args': {'query': 'LoRA machine learning'}, 'id': 'call_22JsRdBXlLFkdhnRngdXGBtT', 'type': 'tool_call'}, {'name': 'duckduckgo_search', 'args': {'query': 'Tim Dettmers'}, 'id': 'call_Hupal7AQ1vka6RsX2zP5dFKC', 'type': 'tool_call'}, {'name': 'duckduckgo_search', 'args': {'query': 'Attention in machine learning'}, 'id': 'call_9nzR5lwpDEUvsOBpzs31xeUM', 'type': 'tool_call'}], usage_metadata={'input_tokens': 171, 'output_tokens': 76, 'total_tokens': 247})]\n",
      "\n",
      "\n",
      "\n",
      "Receiving update from node: 'action'\n",
      "[ToolMessage(content='Let\\'s jump on LoRA. Low-Rank Adaptation of LLMs (LoRA) So, in usual fine-tuning, we. Take a pretrained model. Do Transfer Learning over new training data to slightly adjust these pre-trained weights LoRA\\'s approach to decomposing ( Δ W ) into a product of lower rank matrices effectively balances the need to adapt large pre-trained models to new tasks while maintaining computational efficiency. The intrinsic rank concept is key to this balance, ensuring that the essence of the model\\'s learning capability is preserved with significantly ... Low-Rank Adaptation (LoRA) is a widely-used parameter-efficient finetuning method for large language models. LoRA saves memory by training only low rank perturbations to selected weight matrices. In this work, we compare the performance of LoRA and full finetuning on two target domains, programming and mathematics. We consider both the instruction finetuning ($\\\\\\\\approx$100K prompt-response ... Feb 18, 2024. Low-rank adaptation (LoRA) is a machine learning technique that modifies a pretrained model (for example, an LLM or vision transformer) to better suit a specific, often smaller, dataset by adjusting only a small, low-rank subset of the model\\'s parameters. This approach is important because it allows for efficient finetuning of ... \"Lora The Tuner\" By Daniel Warfield using MidJourney. All images by the author unless otherwise specified. Fine tuning is the process of tailoring a machine learning model to a specific application, which can be vital in achieving consistent and high quality performance.', name='duckduckgo_search', tool_call_id='call_22JsRdBXlLFkdhnRngdXGBtT'), ToolMessage(content='Allen School Ph.D. student Tim Dettmers accepted the grand prize for QLoRA, a novel approach to finetuning pretrained models that significantly reduces the amount of GPU memory required — from over 780GB to less than 48GB — to finetune a 65B parameter model. With QLoRA, the largest publicly available models can be finetuned on a single ... — Tim Dettmers is joining Ai2 as an AI researcher. Dettmers specializes in efficient deep learning at the intersection of machine learning, NLP, and computer systems with a focus on quantization ... Tim Dettmers. Video. Tech Moves: AI researcher Yejin Choi leaves Univ. of Washington and Allen Institute for AI. by Todd Bishop & Taylor Soper on August 2, 2024 August 2, 2024 at 11:59 am. Its purpose is to make cutting-edge research by Tim Dettmers, a leading academic expert on quantization and the use of deep learning hardware accelerators, accessible to the general public. QLoRA: One of the core contributions of bitsandbytes towards the democratization of AI. If you have a curiosity about how fancy graphics cards actually work, and why they are so well-suited to AI-type applications, then take a few minutes to read [Tim Dettmers] explain why this is so.…', name='duckduckgo_search', tool_call_id='call_Hupal7AQ1vka6RsX2zP5dFKC'), ToolMessage(content='Learn how attention mechanisms in deep learning enable models to focus on relevant information and improve performance in tasks such as machine translation, image captioning, and speech recognition. Understand the steps and components of attention mechanism architecture and see examples of its applications. Attention mechanism is a fundamental invention in artificial intelligence and machine learning, redefining the capabilities of deep learning models. This mechanism, inspired by the human mental process of selective focus, has emerged as a pillar in a variety of applications, accelerating developments in natural language processing, computer vision, and beyond. They all use transformer architecture with attention mechanisms at their core to solve problems across domains. In the Transformer series, we go over the ingredients that have made Transformers a universal recipe for machine learning. First up, we take a visual dive to understand the attention mechanism: Why transformers and attention took over. In the ever-evolving field of deep learning, one concept that has garnered significant attention (pun intended) is the Attention Mechanism. This ingenious concept has revolutionized the way neural… The introduction of the Transformer model was a significant leap forward for the concept of attention in deep learning. Vaswani et al. described this model in the seminal paper titled \"Attention is All You Need\" in 2017. ... Attention mechanisms represent advancements in machine learning and computer vision, enabling models to prioritize ...', name='duckduckgo_search', tool_call_id='call_9nzR5lwpDEUvsOBpzs31xeUM')]\n",
      "\n",
      "\n",
      "\n",
      "Receiving update from node: 'agent'\n",
      "[AIMessage(content='### LoRA in Machine Learning\\nLow-Rank Adaptation (LoRA) is a technique used for fine-tuning large language models (LLMs) and other pretrained models. Instead of adjusting all the parameters of a model, LoRA modifies only a small, low-rank subset of the model\\'s parameters. This approach is computationally efficient and saves memory, making it possible to adapt large models to new tasks without requiring extensive computational resources. The key idea is to decompose the weight updates into a product of lower-rank matrices, which balances the need for adaptation with computational efficiency.\\n\\n### Tim Dettmers\\nTim Dettmers is a researcher specializing in efficient deep learning, particularly at the intersection of machine learning, natural language processing (NLP), and computer systems. He is known for his work on quantization and the use of deep learning hardware accelerators. One of his notable contributions is QLoRA, a method that significantly reduces the GPU memory required to fine-tune large models, making it possible to fine-tune a 65 billion parameter model on a single GPU. Tim Dettmers is affiliated with the Allen Institute for AI (Ai2) and has been recognized for his contributions to the field.\\n\\n### Attention in Machine Learning\\nAttention mechanisms are a fundamental component in modern deep learning models, particularly in natural language processing (NLP) and computer vision. The concept of attention allows models to focus on relevant parts of the input data, improving performance in tasks such as machine translation, image captioning, and speech recognition. The Transformer model, introduced by Vaswani et al. in the paper \"Attention is All You Need\" (2017), is a prime example of how attention mechanisms can be effectively utilized. Attention mechanisms enable models to weigh the importance of different input elements dynamically, which has led to significant advancements in various applications.', additional_kwargs={'refusal': None}, response_metadata={'token_usage': {'completion_tokens': 373, 'prompt_tokens': 1144, 'total_tokens': 1517}, 'model_name': 'gpt-4o-2024-05-13', 'system_fingerprint': 'fp_157b3831f5', 'finish_reason': 'stop', 'logprobs': None}, id='run-51c7b97f-cedf-4a8d-b974-442772ea28e2-0', usage_metadata={'input_tokens': 1144, 'output_tokens': 373, 'total_tokens': 1517})]\n",
      "\n",
      "\n",
      "\n"
     ]
    }
   ],
   "source": [
    "inputs = {\"messages\" : [HumanMessage(content=\"Related to machine learning, what is LoRA? Also, who is Tim Dettmers? Also, what is Attention?\")]}\n",
    "\n",
    "async for chunk in agent_with_helpfulness_check.astream(inputs, stream_mode=\"updates\"):\n",
    "    for node, values in chunk.items():\n",
    "        print(f\"Receiving update from node: '{node}'\")\n",
    "        print(values[\"messages\"])\n",
    "        print(\"\\n\\n\")"
   ]
  },
  {
   "cell_type": "markdown",
   "metadata": {
    "id": "yVmZPs6lnpsM"
   },
   "source": [
    "### Task 4: LangGraph for the \"Patterns\" of GenAI\n",
    "\n",
    "Let's ask our system about the 4 patterns of Generative AI:\n",
    "\n",
    "1. Prompt Engineering\n",
    "2. RAG\n",
    "3. Fine-tuning\n",
    "4. Agents"
   ]
  },
  {
   "cell_type": "code",
   "execution_count": 38,
   "metadata": {
    "id": "ZoLl7GlXoae-"
   },
   "outputs": [],
   "source": [
    "patterns = [\"prompt engineering\", \"RAG\", \"fine-tuning\", \"LLM-based agents\"]"
   ]
  },
  {
   "cell_type": "code",
   "execution_count": 39,
   "metadata": {
    "colab": {
     "base_uri": "https://localhost:8080/"
    },
    "id": "Zkh0YJuCp3Zl",
    "outputId": "0593c6f5-0a1d-41f6-960b-f32d101b3ade"
   },
   "outputs": [
    {
     "name": "stdout",
     "output_type": "stream",
     "text": [
      "Prompt engineering is a concept primarily associated with the field of artificial intelligence, particularly in the context of natural language processing (NLP) and large language models like GPT-3. It involves the design and crafting of prompts (input text) to elicit desired responses from AI models. The goal is to optimize the input to get the most accurate, relevant, or useful output from the model.\n",
      "\n",
      "### Key Aspects of Prompt Engineering:\n",
      "1. **Crafting Effective Prompts**: Designing prompts that are clear, specific, and tailored to the model's strengths.\n",
      "2. **Iterative Testing**: Continuously refining prompts based on the responses received to improve the quality of the output.\n",
      "3. **Understanding Model Behavior**: Gaining insights into how the model interprets different types of input to better predict its responses.\n",
      "\n",
      "### Emergence of Prompt Engineering:\n",
      "Prompt engineering became more prominent with the advent of large-scale language models like OpenAI's GPT-3, which was released in June 2020. The ability of these models to generate human-like text based on prompts led to a growing interest in how to effectively communicate with them to achieve specific goals. The term \"prompt engineering\" itself started gaining traction around this time as researchers and practitioners began to explore and document best practices for interacting with these advanced AI systems.\n",
      "\n",
      "Would you like more detailed information or recent developments in prompt engineering?\n",
      "\n",
      "\n",
      "\n",
      "RAG stands for Retrieval-Augmented Generation. It is a technique in natural language processing (NLP) that combines retrieval-based methods with generative models to improve the quality and relevance of generated text. The key idea is to retrieve relevant documents or pieces of information from a large corpus and use this retrieved information to guide the generation process.\n",
      "\n",
      "RAG was introduced by Facebook AI Research (FAIR) in a paper titled \"Retrieval-Augmented Generation for Knowledge-Intensive NLP Tasks,\" which was published in 2020. The approach leverages both retrieval and generation to handle knowledge-intensive tasks more effectively than traditional methods.\n",
      "\n",
      "Would you like more detailed information or specific papers on RAG?\n",
      "\n",
      "\n",
      "\n",
      "Fine-tuning is a process in machine learning where a pre-trained model is further trained on a new dataset to adapt it to a specific task. This approach leverages the knowledge the model has already acquired during its initial training on a large, general dataset, allowing it to perform well on a new, often smaller, and more specific dataset. Fine-tuning is particularly useful in scenarios where labeled data is scarce or expensive to obtain.\n",
      "\n",
      "### Key Steps in Fine-Tuning:\n",
      "1. **Pre-training**: Train a model on a large, general dataset.\n",
      "2. **Fine-tuning**: Continue training the pre-trained model on a smaller, task-specific dataset.\n",
      "\n",
      "### Benefits of Fine-Tuning:\n",
      "- **Efficiency**: Reduces the amount of data and computational resources needed.\n",
      "- **Performance**: Often leads to better performance on the specific task compared to training a model from scratch.\n",
      "- **Adaptability**: Allows models to be adapted to various tasks with relatively minor adjustments.\n",
      "\n",
      "### Historical Context:\n",
      "Fine-tuning became particularly prominent with the advent of deep learning and transfer learning techniques. The concept has been around for a while, but it gained significant attention with the success of models like BERT (Bidirectional Encoder Representations from Transformers) and GPT (Generative Pre-trained Transformer) in the late 2010s.\n",
      "\n",
      "To pinpoint the exact time when fine-tuning became a mainstream technique, I can look up some key papers and events. Would you like me to do that?\n",
      "\n",
      "\n",
      "\n",
      "LLM-based agents, or Large Language Model-based agents, are artificial intelligence systems that leverage large language models to perform a variety of tasks. These tasks can include natural language understanding, text generation, translation, summarization, question answering, and more. The core technology behind these agents is typically a deep learning model trained on vast amounts of text data to understand and generate human-like text.\n",
      "\n",
      "### Key Characteristics of LLM-based Agents:\n",
      "1. **Natural Language Processing (NLP):** They excel in understanding and generating human language.\n",
      "2. **Contextual Understanding:** They can maintain context over longer conversations or documents.\n",
      "3. **Versatility:** They can be fine-tuned for specific tasks or domains.\n",
      "4. **Scalability:** They can handle a wide range of applications from chatbots to complex decision-making systems.\n",
      "\n",
      "### Breakthrough and Evolution:\n",
      "The concept of LLM-based agents has evolved over time, but significant breakthroughs can be traced back to a few key developments:\n",
      "\n",
      "1. **2018 - BERT (Bidirectional Encoder Representations from Transformers):** Developed by Google, BERT was one of the first models to achieve state-of-the-art results on a variety of NLP tasks by understanding the context of words in search queries.\n",
      "   \n",
      "2. **2018 - GPT (Generative Pre-trained Transformer):** OpenAI's GPT model introduced the idea of pre-training a language model on a large corpus of text and then fine-tuning it for specific tasks. GPT-2, released in 2019, further demonstrated the capabilities of large-scale language models.\n",
      "\n",
      "3. **2020 - GPT-3:** OpenAI's GPT-3, with 175 billion parameters, marked a significant leap in the capabilities of language models. It could generate coherent and contextually relevant text, perform zero-shot learning, and was versatile across a wide range of applications.\n",
      "\n",
      "4. **2022 - ChatGPT:** OpenAI's ChatGPT, based on the GPT-3.5 architecture, became widely popular for its conversational abilities, making it accessible to a broader audience and showcasing the practical applications of LLM-based agents.\n",
      "\n",
      "5. **2023 - GPT-4 and Beyond:** The development of even more advanced models like GPT-4 continues to push the boundaries of what LLM-based agents can achieve, with improvements in understanding, generation, and application-specific fine-tuning.\n",
      "\n",
      "### Current Applications:\n",
      "- **Customer Support:** Automated chatbots and virtual assistants.\n",
      "- **Content Creation:** Writing articles, generating marketing copy, and creative writing.\n",
      "- **Education:** Personalized tutoring and educational content generation.\n",
      "- **Healthcare:** Assisting in medical documentation and patient interaction.\n",
      "- **Research:** Summarizing scientific papers and aiding in literature reviews.\n",
      "\n",
      "The field is rapidly evolving, and new developments continue to enhance the capabilities and applications of LLM-based agents.\n",
      "\n",
      "\n",
      "\n"
     ]
    }
   ],
   "source": [
    "for pattern in patterns:\n",
    "  what_is_string = f\"What is {pattern} and when did it break onto the scene??\"\n",
    "  inputs = {\"messages\" : [HumanMessage(content=what_is_string)]}\n",
    "  messages = agent_with_helpfulness_check.invoke(inputs)\n",
    "  print(messages[\"messages\"][-1].content)\n",
    "  print(\"\\n\\n\")"
   ]
  }
 ],
 "metadata": {
  "colab": {
   "provenance": []
  },
  "kernelspec": {
   "display_name": "Python 3 (ipykernel)",
   "language": "python",
   "name": "python3"
  },
  "language_info": {
   "codemirror_mode": {
    "name": "ipython",
    "version": 3
   },
   "file_extension": ".py",
   "mimetype": "text/x-python",
   "name": "python",
   "nbconvert_exporter": "python",
   "pygments_lexer": "ipython3",
   "version": "3.10.14"
  }
 },
 "nbformat": 4,
 "nbformat_minor": 4
}
